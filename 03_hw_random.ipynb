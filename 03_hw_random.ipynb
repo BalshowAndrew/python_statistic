{
 "cells": [
  {
   "cell_type": "markdown",
   "id": "58b682f8-bbba-4f04-9d8b-f4f7bdef1b8b",
   "metadata": {},
   "source": [
    "# Домашнее задание по теме \"Солучайные события. Случайные величины\""
   ]
  },
  {
   "cell_type": "markdown",
   "id": "c8816cb4-aea2-4aa6-9c5b-b5d45ebe698a",
   "metadata": {},
   "source": [
    "## Задание\n",
    "\n",
    "Смоделировать игру против лотерейного автомата типа “777”. Игрок платит 1 руб., после чего выпадает случайное целое число, равномерно распределенное от 0 до 999. При некоторых значениях числа игрок получает выигрыш.\n",
    "- 777 - 200 руб.\n",
    "- 999 - 100 руб.\n",
    "- 555 - 50 руб.\n",
    "- 333 - 15 руб.\n",
    "- 111 - 10 руб.\n",
    "- *77 - 5 руб.\n",
    "- **7 - 3 руб.\n",
    "- *00 - 2 руб.\n",
    "- **0 - 1 руб.\n",
    "\n",
    "Вопросы:\n",
    "\n",
    "1. Выгодна ли игра игроку?\n",
    "2. Сколько в среднем приобретает или теряет игрок за одну игру?\n",
    "\n",
    "**Дополнительное задание повышенной сложности.**\n",
    "\n",
    "Теоретически рассчитать средний выигрыш (проигрыш) и сравнить с результатами моделирования\n",
    "\n",
    "- любая цифра"
   ]
  },
  {
   "cell_type": "code",
   "execution_count": 1,
   "id": "1cd51358-3877-4a82-be92-e3ed9b6fc7b8",
   "metadata": {},
   "outputs": [],
   "source": [
    "import numpy as np\n",
    "# import pandas as pd\n",
    "# import math"
   ]
  },
  {
   "cell_type": "code",
   "execution_count": 2,
   "id": "252d7197-1687-484a-b31a-d478c7aa3487",
   "metadata": {},
   "outputs": [],
   "source": [
    "# запишем варианты комбинаций в виде словарей\n",
    "triplet = {777: 200, 999: 100, 555: 50, 333: 15, 111: 10}\n",
    "double = {77: 5, 0: 2}\n",
    "single = {7: 3, 0: 1}"
   ]
  },
  {
   "cell_type": "code",
   "execution_count": 71,
   "id": "c29190b5-7dcf-49d2-a7ec-40859ce10eed",
   "metadata": {},
   "outputs": [
    {
     "name": "stdout",
     "output_type": "stream",
     "text": [
      "-0.191715\n"
     ]
    }
   ],
   "source": [
    "cost = 1 # стоимость одной попытки\n",
    "trials = 1000000 # количество попыток\n",
    "win_list = [] \n",
    "for i in range(trials):\n",
    "    win = 0 # сумма выигрыша\n",
    "    x = np.random.randint(0, 1000)\n",
    "    if x in [j for j in triplet]:\n",
    "        win += triplet[x]\n",
    "        win -= cost\n",
    "    elif x % 100 in [j for j in double]:\n",
    "        win += double[x % 100]\n",
    "        win -= cost\n",
    "    elif x % 10 in [j for j in single]:\n",
    "        win += single[x % 10]\n",
    "        win -= cost\n",
    "    else:\n",
    "        win -= cost\n",
    "    win_list.append(win)\n",
    "print(sum(win_list) / trials)\n"
   ]
  },
  {
   "cell_type": "markdown",
   "id": "a326c753-bd00-40f6-9c82-a53e8aac4ab9",
   "metadata": {},
   "source": [
    "**Вывод:**\n",
    "- Игра не выгодна игроку.\n",
    "- В среднем за каждую попытку игрок теряет примерно 20 копеек."
   ]
  },
  {
   "cell_type": "markdown",
   "id": "02be2060-cc81-4009-8b03-2f27d6c7df8d",
   "metadata": {},
   "source": [
    "**Расчет математического ожидания дискретной величины**"
   ]
  },
  {
   "cell_type": "code",
   "execution_count": 103,
   "id": "fa1ac423-f651-4779-ad04-4fc2d4a062c1",
   "metadata": {},
   "outputs": [
    {
     "data": {
      "text/plain": [
       "-0.2270000000000001"
      ]
     },
     "execution_count": 103,
     "metadata": {},
     "output_type": "execute_result"
    }
   ],
   "source": [
    "mean = 0.001 * (199 + 99 + 49 + 14 + 9) + 0.009 * 4 + 0.01 * 1 + 0.081 * 2 + 0 - 0.805\n",
    "mean"
   ]
  },
  {
   "cell_type": "markdown",
   "id": "ce307ef4-17c9-4d5d-86d5-8429d0fa6e4c",
   "metadata": {},
   "source": [
    "**Вывод:**\n",
    "- Теоретические расчеты подтвердили наши опасения...\n",
    "- В среднем за каждую попытку игрок теряет примерно 23 копейки."
   ]
  },
  {
   "cell_type": "code",
   "execution_count": null,
   "id": "3f89e408-905e-47cc-bc71-cc5677728172",
   "metadata": {},
   "outputs": [],
   "source": []
  }
 ],
 "metadata": {
  "kernelspec": {
   "display_name": "Python 3 (ipykernel)",
   "language": "python",
   "name": "python3"
  },
  "language_info": {
   "codemirror_mode": {
    "name": "ipython",
    "version": 3
   },
   "file_extension": ".py",
   "mimetype": "text/x-python",
   "name": "python",
   "nbconvert_exporter": "python",
   "pygments_lexer": "ipython3",
   "version": "3.11.4"
  }
 },
 "nbformat": 4,
 "nbformat_minor": 5
}
