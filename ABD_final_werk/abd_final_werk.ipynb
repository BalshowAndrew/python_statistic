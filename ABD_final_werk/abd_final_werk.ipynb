{
 "cells": [
  {
   "cell_type": "code",
   "execution_count": 1,
   "id": "93e2c3c2-042c-48d7-952b-4fbb5a6763f3",
   "metadata": {},
   "outputs": [],
   "source": [
    "import pandas as pd\n",
    "import numpy as np\n",
    "import datetime"
   ]
  },
  {
   "cell_type": "markdown",
   "id": "0b8674a2-2777-48ce-aee9-17fa199a00d1",
   "metadata": {},
   "source": [
    "## Первая часть практики Python"
   ]
  },
  {
   "cell_type": "markdown",
   "id": "70cfb450-41df-4546-81c5-0383678d9199",
   "metadata": {},
   "source": [
    "### 1. Загрузка данных и создание датафреймов ratings и movies"
   ]
  },
  {
   "cell_type": "code",
   "execution_count": 2,
   "id": "e6029e59-8ae9-4fb6-a509-74bcc0a8b0bb",
   "metadata": {},
   "outputs": [],
   "source": [
    "# список имен столбцов датафрейма ratings\n",
    "ratings_names = ['user_id', 'movie_id', 'rating', 'timestamp']"
   ]
  },
  {
   "cell_type": "code",
   "execution_count": 3,
   "id": "98a8fc56-0f6a-4c65-8380-7516fb4c2b75",
   "metadata": {},
   "outputs": [],
   "source": [
    "ratings = pd.read_csv('datas_abd/u.data.csv',\n",
    "                      names = ratings_names,\n",
    "                      sep = '\\t')"
   ]
  },
  {
   "cell_type": "code",
   "execution_count": 4,
   "id": "7ce87807-3350-4a66-a4a3-6047597e2694",
   "metadata": {},
   "outputs": [
    {
     "data": {
      "text/html": [
       "<div>\n",
       "<style scoped>\n",
       "    .dataframe tbody tr th:only-of-type {\n",
       "        vertical-align: middle;\n",
       "    }\n",
       "\n",
       "    .dataframe tbody tr th {\n",
       "        vertical-align: top;\n",
       "    }\n",
       "\n",
       "    .dataframe thead th {\n",
       "        text-align: right;\n",
       "    }\n",
       "</style>\n",
       "<table border=\"1\" class=\"dataframe\">\n",
       "  <thead>\n",
       "    <tr style=\"text-align: right;\">\n",
       "      <th></th>\n",
       "      <th>user_id</th>\n",
       "      <th>movie_id</th>\n",
       "      <th>rating</th>\n",
       "      <th>timestamp</th>\n",
       "    </tr>\n",
       "  </thead>\n",
       "  <tbody>\n",
       "    <tr>\n",
       "      <th>0</th>\n",
       "      <td>196</td>\n",
       "      <td>242</td>\n",
       "      <td>3</td>\n",
       "      <td>881250949</td>\n",
       "    </tr>\n",
       "    <tr>\n",
       "      <th>1</th>\n",
       "      <td>186</td>\n",
       "      <td>302</td>\n",
       "      <td>3</td>\n",
       "      <td>891717742</td>\n",
       "    </tr>\n",
       "    <tr>\n",
       "      <th>2</th>\n",
       "      <td>22</td>\n",
       "      <td>377</td>\n",
       "      <td>1</td>\n",
       "      <td>878887116</td>\n",
       "    </tr>\n",
       "    <tr>\n",
       "      <th>3</th>\n",
       "      <td>244</td>\n",
       "      <td>51</td>\n",
       "      <td>2</td>\n",
       "      <td>880606923</td>\n",
       "    </tr>\n",
       "    <tr>\n",
       "      <th>4</th>\n",
       "      <td>166</td>\n",
       "      <td>346</td>\n",
       "      <td>1</td>\n",
       "      <td>886397596</td>\n",
       "    </tr>\n",
       "  </tbody>\n",
       "</table>\n",
       "</div>"
      ],
      "text/plain": [
       "   user_id  movie_id  rating  timestamp\n",
       "0      196       242       3  881250949\n",
       "1      186       302       3  891717742\n",
       "2       22       377       1  878887116\n",
       "3      244        51       2  880606923\n",
       "4      166       346       1  886397596"
      ]
     },
     "execution_count": 4,
     "metadata": {},
     "output_type": "execute_result"
    }
   ],
   "source": [
    "ratings.head()"
   ]
  },
  {
   "cell_type": "code",
   "execution_count": 5,
   "id": "e62d2be5-5063-4517-a27c-f46e22e69a78",
   "metadata": {},
   "outputs": [],
   "source": [
    "# список имен столбцов датафрейма movies\n",
    "movies_names = ['movie_id', 'movie_title', 'release_date', 'video_release_date',\n",
    "                'IMDb_URL', 'unknown', 'Action', 'Adventure', 'Animation', 'Children',\n",
    "                'Comedy', 'Crime', 'Documentary', 'Drama', 'Fantasy', 'Film_Noir',\n",
    "                'Horror', 'Musical', 'Mystery', 'Romance', 'Sci_Fi', 'Thriller', 'War', 'Western']"
   ]
  },
  {
   "cell_type": "code",
   "execution_count": 6,
   "id": "a21305e0-17f4-4183-94a3-89bea94e13fc",
   "metadata": {},
   "outputs": [],
   "source": [
    "movies = pd.read_csv('datas_abd/u.item.csv',\n",
    "                     names = movies_names,\n",
    "                     index_col = 0,\n",
    "                     sep = '|',\n",
    "                     encoding = 'latin-1'\n",
    "                    )"
   ]
  },
  {
   "cell_type": "code",
   "execution_count": 7,
   "id": "c0822afd-0e8d-4e97-b510-00e9233af85b",
   "metadata": {},
   "outputs": [
    {
     "data": {
      "text/html": [
       "<div>\n",
       "<style scoped>\n",
       "    .dataframe tbody tr th:only-of-type {\n",
       "        vertical-align: middle;\n",
       "    }\n",
       "\n",
       "    .dataframe tbody tr th {\n",
       "        vertical-align: top;\n",
       "    }\n",
       "\n",
       "    .dataframe thead th {\n",
       "        text-align: right;\n",
       "    }\n",
       "</style>\n",
       "<table border=\"1\" class=\"dataframe\">\n",
       "  <thead>\n",
       "    <tr style=\"text-align: right;\">\n",
       "      <th></th>\n",
       "      <th>movie_title</th>\n",
       "      <th>release_date</th>\n",
       "      <th>video_release_date</th>\n",
       "      <th>IMDb_URL</th>\n",
       "      <th>unknown</th>\n",
       "      <th>Action</th>\n",
       "      <th>Adventure</th>\n",
       "      <th>Animation</th>\n",
       "      <th>Children</th>\n",
       "      <th>Comedy</th>\n",
       "      <th>...</th>\n",
       "      <th>Fantasy</th>\n",
       "      <th>Film_Noir</th>\n",
       "      <th>Horror</th>\n",
       "      <th>Musical</th>\n",
       "      <th>Mystery</th>\n",
       "      <th>Romance</th>\n",
       "      <th>Sci_Fi</th>\n",
       "      <th>Thriller</th>\n",
       "      <th>War</th>\n",
       "      <th>Western</th>\n",
       "    </tr>\n",
       "    <tr>\n",
       "      <th>movie_id</th>\n",
       "      <th></th>\n",
       "      <th></th>\n",
       "      <th></th>\n",
       "      <th></th>\n",
       "      <th></th>\n",
       "      <th></th>\n",
       "      <th></th>\n",
       "      <th></th>\n",
       "      <th></th>\n",
       "      <th></th>\n",
       "      <th></th>\n",
       "      <th></th>\n",
       "      <th></th>\n",
       "      <th></th>\n",
       "      <th></th>\n",
       "      <th></th>\n",
       "      <th></th>\n",
       "      <th></th>\n",
       "      <th></th>\n",
       "      <th></th>\n",
       "      <th></th>\n",
       "    </tr>\n",
       "  </thead>\n",
       "  <tbody>\n",
       "    <tr>\n",
       "      <th>1</th>\n",
       "      <td>Toy Story (1995)</td>\n",
       "      <td>01-Jan-1995</td>\n",
       "      <td>NaN</td>\n",
       "      <td>http://us.imdb.com/M/title-exact?Toy%20Story%2...</td>\n",
       "      <td>0</td>\n",
       "      <td>0</td>\n",
       "      <td>0</td>\n",
       "      <td>1</td>\n",
       "      <td>1</td>\n",
       "      <td>1</td>\n",
       "      <td>...</td>\n",
       "      <td>0</td>\n",
       "      <td>0</td>\n",
       "      <td>0</td>\n",
       "      <td>0</td>\n",
       "      <td>0</td>\n",
       "      <td>0</td>\n",
       "      <td>0</td>\n",
       "      <td>0</td>\n",
       "      <td>0</td>\n",
       "      <td>0</td>\n",
       "    </tr>\n",
       "    <tr>\n",
       "      <th>2</th>\n",
       "      <td>GoldenEye (1995)</td>\n",
       "      <td>01-Jan-1995</td>\n",
       "      <td>NaN</td>\n",
       "      <td>http://us.imdb.com/M/title-exact?GoldenEye%20(...</td>\n",
       "      <td>0</td>\n",
       "      <td>1</td>\n",
       "      <td>1</td>\n",
       "      <td>0</td>\n",
       "      <td>0</td>\n",
       "      <td>0</td>\n",
       "      <td>...</td>\n",
       "      <td>0</td>\n",
       "      <td>0</td>\n",
       "      <td>0</td>\n",
       "      <td>0</td>\n",
       "      <td>0</td>\n",
       "      <td>0</td>\n",
       "      <td>0</td>\n",
       "      <td>1</td>\n",
       "      <td>0</td>\n",
       "      <td>0</td>\n",
       "    </tr>\n",
       "    <tr>\n",
       "      <th>3</th>\n",
       "      <td>Four Rooms (1995)</td>\n",
       "      <td>01-Jan-1995</td>\n",
       "      <td>NaN</td>\n",
       "      <td>http://us.imdb.com/M/title-exact?Four%20Rooms%...</td>\n",
       "      <td>0</td>\n",
       "      <td>0</td>\n",
       "      <td>0</td>\n",
       "      <td>0</td>\n",
       "      <td>0</td>\n",
       "      <td>0</td>\n",
       "      <td>...</td>\n",
       "      <td>0</td>\n",
       "      <td>0</td>\n",
       "      <td>0</td>\n",
       "      <td>0</td>\n",
       "      <td>0</td>\n",
       "      <td>0</td>\n",
       "      <td>0</td>\n",
       "      <td>1</td>\n",
       "      <td>0</td>\n",
       "      <td>0</td>\n",
       "    </tr>\n",
       "    <tr>\n",
       "      <th>4</th>\n",
       "      <td>Get Shorty (1995)</td>\n",
       "      <td>01-Jan-1995</td>\n",
       "      <td>NaN</td>\n",
       "      <td>http://us.imdb.com/M/title-exact?Get%20Shorty%...</td>\n",
       "      <td>0</td>\n",
       "      <td>1</td>\n",
       "      <td>0</td>\n",
       "      <td>0</td>\n",
       "      <td>0</td>\n",
       "      <td>1</td>\n",
       "      <td>...</td>\n",
       "      <td>0</td>\n",
       "      <td>0</td>\n",
       "      <td>0</td>\n",
       "      <td>0</td>\n",
       "      <td>0</td>\n",
       "      <td>0</td>\n",
       "      <td>0</td>\n",
       "      <td>0</td>\n",
       "      <td>0</td>\n",
       "      <td>0</td>\n",
       "    </tr>\n",
       "    <tr>\n",
       "      <th>5</th>\n",
       "      <td>Copycat (1995)</td>\n",
       "      <td>01-Jan-1995</td>\n",
       "      <td>NaN</td>\n",
       "      <td>http://us.imdb.com/M/title-exact?Copycat%20(1995)</td>\n",
       "      <td>0</td>\n",
       "      <td>0</td>\n",
       "      <td>0</td>\n",
       "      <td>0</td>\n",
       "      <td>0</td>\n",
       "      <td>0</td>\n",
       "      <td>...</td>\n",
       "      <td>0</td>\n",
       "      <td>0</td>\n",
       "      <td>0</td>\n",
       "      <td>0</td>\n",
       "      <td>0</td>\n",
       "      <td>0</td>\n",
       "      <td>0</td>\n",
       "      <td>1</td>\n",
       "      <td>0</td>\n",
       "      <td>0</td>\n",
       "    </tr>\n",
       "  </tbody>\n",
       "</table>\n",
       "<p>5 rows × 23 columns</p>\n",
       "</div>"
      ],
      "text/plain": [
       "                movie_title release_date  video_release_date  \\\n",
       "movie_id                                                       \n",
       "1          Toy Story (1995)  01-Jan-1995                 NaN   \n",
       "2          GoldenEye (1995)  01-Jan-1995                 NaN   \n",
       "3         Four Rooms (1995)  01-Jan-1995                 NaN   \n",
       "4         Get Shorty (1995)  01-Jan-1995                 NaN   \n",
       "5            Copycat (1995)  01-Jan-1995                 NaN   \n",
       "\n",
       "                                                   IMDb_URL  unknown  Action  \\\n",
       "movie_id                                                                       \n",
       "1         http://us.imdb.com/M/title-exact?Toy%20Story%2...        0       0   \n",
       "2         http://us.imdb.com/M/title-exact?GoldenEye%20(...        0       1   \n",
       "3         http://us.imdb.com/M/title-exact?Four%20Rooms%...        0       0   \n",
       "4         http://us.imdb.com/M/title-exact?Get%20Shorty%...        0       1   \n",
       "5         http://us.imdb.com/M/title-exact?Copycat%20(1995)        0       0   \n",
       "\n",
       "          Adventure  Animation  Children  Comedy  ...  Fantasy  Film_Noir  \\\n",
       "movie_id                                          ...                       \n",
       "1                 0          1         1       1  ...        0          0   \n",
       "2                 1          0         0       0  ...        0          0   \n",
       "3                 0          0         0       0  ...        0          0   \n",
       "4                 0          0         0       1  ...        0          0   \n",
       "5                 0          0         0       0  ...        0          0   \n",
       "\n",
       "          Horror  Musical  Mystery  Romance  Sci_Fi  Thriller  War  Western  \n",
       "movie_id                                                                     \n",
       "1              0        0        0        0       0         0    0        0  \n",
       "2              0        0        0        0       0         1    0        0  \n",
       "3              0        0        0        0       0         1    0        0  \n",
       "4              0        0        0        0       0         0    0        0  \n",
       "5              0        0        0        0       0         1    0        0  \n",
       "\n",
       "[5 rows x 23 columns]"
      ]
     },
     "execution_count": 7,
     "metadata": {},
     "output_type": "execute_result"
    }
   ],
   "source": [
    "movies.head()"
   ]
  },
  {
   "cell_type": "markdown",
   "id": "6bdcc4bc-aeec-480e-bcef-ef064dd11246",
   "metadata": {},
   "source": [
    "### 2. Ищем id пользователя, поставившего больше всего оценок"
   ]
  },
  {
   "cell_type": "code",
   "execution_count": 8,
   "id": "695a8686-3d9a-4b1b-8003-587724a3c743",
   "metadata": {},
   "outputs": [
    {
     "data": {
      "text/html": [
       "<div>\n",
       "<style scoped>\n",
       "    .dataframe tbody tr th:only-of-type {\n",
       "        vertical-align: middle;\n",
       "    }\n",
       "\n",
       "    .dataframe tbody tr th {\n",
       "        vertical-align: top;\n",
       "    }\n",
       "\n",
       "    .dataframe thead th {\n",
       "        text-align: right;\n",
       "    }\n",
       "</style>\n",
       "<table border=\"1\" class=\"dataframe\">\n",
       "  <thead>\n",
       "    <tr style=\"text-align: right;\">\n",
       "      <th></th>\n",
       "      <th>movie_id</th>\n",
       "      <th>rating</th>\n",
       "      <th>timestamp</th>\n",
       "    </tr>\n",
       "    <tr>\n",
       "      <th>user_id</th>\n",
       "      <th></th>\n",
       "      <th></th>\n",
       "      <th></th>\n",
       "    </tr>\n",
       "  </thead>\n",
       "  <tbody>\n",
       "    <tr>\n",
       "      <th>405</th>\n",
       "      <td>737</td>\n",
       "      <td>737</td>\n",
       "      <td>737</td>\n",
       "    </tr>\n",
       "  </tbody>\n",
       "</table>\n",
       "</div>"
      ],
      "text/plain": [
       "         movie_id  rating  timestamp\n",
       "user_id                             \n",
       "405           737     737        737"
      ]
     },
     "execution_count": 8,
     "metadata": {},
     "output_type": "execute_result"
    }
   ],
   "source": [
    "ratings.groupby('user_id').count().sort_values('movie_id', ascending=False).head(1)"
   ]
  },
  {
   "cell_type": "markdown",
   "id": "750eec9f-733a-4c25-9bde-081c50f32226",
   "metadata": {},
   "source": [
    "Пользователь с **id = 405** поставил 737 оценок, что является наибольшим значением среди всех пользователей."
   ]
  },
  {
   "cell_type": "markdown",
   "id": "a3d0fa56-b649-4c2a-ba35-bad146ac1c3b",
   "metadata": {},
   "source": [
    "### 3. Создадим датафрейм ratings_405 с фильмами, которые оценил пользователь с id = 405"
   ]
  },
  {
   "cell_type": "code",
   "execution_count": 9,
   "id": "941d3e07-fa5b-497c-bd4b-7816909d06f2",
   "metadata": {},
   "outputs": [
    {
     "data": {
      "text/html": [
       "<div>\n",
       "<style scoped>\n",
       "    .dataframe tbody tr th:only-of-type {\n",
       "        vertical-align: middle;\n",
       "    }\n",
       "\n",
       "    .dataframe tbody tr th {\n",
       "        vertical-align: top;\n",
       "    }\n",
       "\n",
       "    .dataframe thead th {\n",
       "        text-align: right;\n",
       "    }\n",
       "</style>\n",
       "<table border=\"1\" class=\"dataframe\">\n",
       "  <thead>\n",
       "    <tr style=\"text-align: right;\">\n",
       "      <th></th>\n",
       "      <th>user_id</th>\n",
       "      <th>movie_id</th>\n",
       "      <th>rating</th>\n",
       "      <th>timestamp</th>\n",
       "    </tr>\n",
       "  </thead>\n",
       "  <tbody>\n",
       "    <tr>\n",
       "      <th>25105</th>\n",
       "      <td>405</td>\n",
       "      <td>2</td>\n",
       "      <td>1</td>\n",
       "      <td>885547953</td>\n",
       "    </tr>\n",
       "    <tr>\n",
       "      <th>68151</th>\n",
       "      <td>405</td>\n",
       "      <td>4</td>\n",
       "      <td>4</td>\n",
       "      <td>885547314</td>\n",
       "    </tr>\n",
       "    <tr>\n",
       "      <th>33738</th>\n",
       "      <td>405</td>\n",
       "      <td>5</td>\n",
       "      <td>4</td>\n",
       "      <td>885545070</td>\n",
       "    </tr>\n",
       "    <tr>\n",
       "      <th>44158</th>\n",
       "      <td>405</td>\n",
       "      <td>8</td>\n",
       "      <td>4</td>\n",
       "      <td>885545015</td>\n",
       "    </tr>\n",
       "    <tr>\n",
       "      <th>13347</th>\n",
       "      <td>405</td>\n",
       "      <td>11</td>\n",
       "      <td>4</td>\n",
       "      <td>885545263</td>\n",
       "    </tr>\n",
       "    <tr>\n",
       "      <th>...</th>\n",
       "      <td>...</td>\n",
       "      <td>...</td>\n",
       "      <td>...</td>\n",
       "      <td>...</td>\n",
       "    </tr>\n",
       "    <tr>\n",
       "      <th>26243</th>\n",
       "      <td>405</td>\n",
       "      <td>1588</td>\n",
       "      <td>1</td>\n",
       "      <td>885549789</td>\n",
       "    </tr>\n",
       "    <tr>\n",
       "      <th>22974</th>\n",
       "      <td>405</td>\n",
       "      <td>1589</td>\n",
       "      <td>1</td>\n",
       "      <td>885549745</td>\n",
       "    </tr>\n",
       "    <tr>\n",
       "      <th>26303</th>\n",
       "      <td>405</td>\n",
       "      <td>1590</td>\n",
       "      <td>1</td>\n",
       "      <td>885549789</td>\n",
       "    </tr>\n",
       "    <tr>\n",
       "      <th>76286</th>\n",
       "      <td>405</td>\n",
       "      <td>1591</td>\n",
       "      <td>1</td>\n",
       "      <td>885549943</td>\n",
       "    </tr>\n",
       "    <tr>\n",
       "      <th>23903</th>\n",
       "      <td>405</td>\n",
       "      <td>1592</td>\n",
       "      <td>1</td>\n",
       "      <td>885549903</td>\n",
       "    </tr>\n",
       "  </tbody>\n",
       "</table>\n",
       "<p>737 rows × 4 columns</p>\n",
       "</div>"
      ],
      "text/plain": [
       "       user_id  movie_id  rating  timestamp\n",
       "25105      405         2       1  885547953\n",
       "68151      405         4       4  885547314\n",
       "33738      405         5       4  885545070\n",
       "44158      405         8       4  885545015\n",
       "13347      405        11       4  885545263\n",
       "...        ...       ...     ...        ...\n",
       "26243      405      1588       1  885549789\n",
       "22974      405      1589       1  885549745\n",
       "26303      405      1590       1  885549789\n",
       "76286      405      1591       1  885549943\n",
       "23903      405      1592       1  885549903\n",
       "\n",
       "[737 rows x 4 columns]"
      ]
     },
     "execution_count": 9,
     "metadata": {},
     "output_type": "execute_result"
    }
   ],
   "source": [
    "ratings_405 = ratings.loc[ratings['user_id'] == 405].sort_values('movie_id')\n",
    "ratings_405"
   ]
  },
  {
   "cell_type": "markdown",
   "id": "2d9b29df-5a9f-4a2c-9c4f-521c98fb8214",
   "metadata": {},
   "source": [
    "Получили 737 фильмов, которые оценил пользователь с di = 405"
   ]
  },
  {
   "cell_type": "markdown",
   "id": "337fd88a-d9d3-40b4-8bdc-014203b395bf",
   "metadata": {},
   "source": [
    "### 4. Добавляем к датафрейму новые столбцы"
   ]
  },
  {
   "cell_type": "markdown",
   "id": "6d740c16-f08d-4fff-81de-e175d95f93c7",
   "metadata": {},
   "source": [
    "#### 4.1 Добавляем столбцы с жанрами"
   ]
  },
  {
   "cell_type": "markdown",
   "id": "97a9173b-c0a8-4673-a3fc-022ad851bee5",
   "metadata": {},
   "source": [
    "Для этого обогащаем датафрейм ratings_405 данными из датафрейма movies путем объединения таблиц"
   ]
  },
  {
   "cell_type": "code",
   "execution_count": 10,
   "id": "9f0ae148-0c9b-4a08-bb28-f9c0b41e088a",
   "metadata": {},
   "outputs": [
    {
     "data": {
      "text/html": [
       "<div>\n",
       "<style scoped>\n",
       "    .dataframe tbody tr th:only-of-type {\n",
       "        vertical-align: middle;\n",
       "    }\n",
       "\n",
       "    .dataframe tbody tr th {\n",
       "        vertical-align: top;\n",
       "    }\n",
       "\n",
       "    .dataframe thead th {\n",
       "        text-align: right;\n",
       "    }\n",
       "</style>\n",
       "<table border=\"1\" class=\"dataframe\">\n",
       "  <thead>\n",
       "    <tr style=\"text-align: right;\">\n",
       "      <th></th>\n",
       "      <th>user_id</th>\n",
       "      <th>movie_id</th>\n",
       "      <th>rating</th>\n",
       "      <th>timestamp</th>\n",
       "      <th>movie_title</th>\n",
       "      <th>release_date</th>\n",
       "      <th>video_release_date</th>\n",
       "      <th>IMDb_URL</th>\n",
       "      <th>unknown</th>\n",
       "      <th>Action</th>\n",
       "      <th>...</th>\n",
       "      <th>Fantasy</th>\n",
       "      <th>Film_Noir</th>\n",
       "      <th>Horror</th>\n",
       "      <th>Musical</th>\n",
       "      <th>Mystery</th>\n",
       "      <th>Romance</th>\n",
       "      <th>Sci_Fi</th>\n",
       "      <th>Thriller</th>\n",
       "      <th>War</th>\n",
       "      <th>Western</th>\n",
       "    </tr>\n",
       "  </thead>\n",
       "  <tbody>\n",
       "    <tr>\n",
       "      <th>0</th>\n",
       "      <td>405</td>\n",
       "      <td>2</td>\n",
       "      <td>1</td>\n",
       "      <td>885547953</td>\n",
       "      <td>GoldenEye (1995)</td>\n",
       "      <td>01-Jan-1995</td>\n",
       "      <td>NaN</td>\n",
       "      <td>http://us.imdb.com/M/title-exact?GoldenEye%20(...</td>\n",
       "      <td>0</td>\n",
       "      <td>1</td>\n",
       "      <td>...</td>\n",
       "      <td>0</td>\n",
       "      <td>0</td>\n",
       "      <td>0</td>\n",
       "      <td>0</td>\n",
       "      <td>0</td>\n",
       "      <td>0</td>\n",
       "      <td>0</td>\n",
       "      <td>1</td>\n",
       "      <td>0</td>\n",
       "      <td>0</td>\n",
       "    </tr>\n",
       "    <tr>\n",
       "      <th>1</th>\n",
       "      <td>405</td>\n",
       "      <td>4</td>\n",
       "      <td>4</td>\n",
       "      <td>885547314</td>\n",
       "      <td>Get Shorty (1995)</td>\n",
       "      <td>01-Jan-1995</td>\n",
       "      <td>NaN</td>\n",
       "      <td>http://us.imdb.com/M/title-exact?Get%20Shorty%...</td>\n",
       "      <td>0</td>\n",
       "      <td>1</td>\n",
       "      <td>...</td>\n",
       "      <td>0</td>\n",
       "      <td>0</td>\n",
       "      <td>0</td>\n",
       "      <td>0</td>\n",
       "      <td>0</td>\n",
       "      <td>0</td>\n",
       "      <td>0</td>\n",
       "      <td>0</td>\n",
       "      <td>0</td>\n",
       "      <td>0</td>\n",
       "    </tr>\n",
       "    <tr>\n",
       "      <th>2</th>\n",
       "      <td>405</td>\n",
       "      <td>5</td>\n",
       "      <td>4</td>\n",
       "      <td>885545070</td>\n",
       "      <td>Copycat (1995)</td>\n",
       "      <td>01-Jan-1995</td>\n",
       "      <td>NaN</td>\n",
       "      <td>http://us.imdb.com/M/title-exact?Copycat%20(1995)</td>\n",
       "      <td>0</td>\n",
       "      <td>0</td>\n",
       "      <td>...</td>\n",
       "      <td>0</td>\n",
       "      <td>0</td>\n",
       "      <td>0</td>\n",
       "      <td>0</td>\n",
       "      <td>0</td>\n",
       "      <td>0</td>\n",
       "      <td>0</td>\n",
       "      <td>1</td>\n",
       "      <td>0</td>\n",
       "      <td>0</td>\n",
       "    </tr>\n",
       "    <tr>\n",
       "      <th>3</th>\n",
       "      <td>405</td>\n",
       "      <td>8</td>\n",
       "      <td>4</td>\n",
       "      <td>885545015</td>\n",
       "      <td>Babe (1995)</td>\n",
       "      <td>01-Jan-1995</td>\n",
       "      <td>NaN</td>\n",
       "      <td>http://us.imdb.com/M/title-exact?Babe%20(1995)</td>\n",
       "      <td>0</td>\n",
       "      <td>0</td>\n",
       "      <td>...</td>\n",
       "      <td>0</td>\n",
       "      <td>0</td>\n",
       "      <td>0</td>\n",
       "      <td>0</td>\n",
       "      <td>0</td>\n",
       "      <td>0</td>\n",
       "      <td>0</td>\n",
       "      <td>0</td>\n",
       "      <td>0</td>\n",
       "      <td>0</td>\n",
       "    </tr>\n",
       "    <tr>\n",
       "      <th>4</th>\n",
       "      <td>405</td>\n",
       "      <td>11</td>\n",
       "      <td>4</td>\n",
       "      <td>885545263</td>\n",
       "      <td>Seven (Se7en) (1995)</td>\n",
       "      <td>01-Jan-1995</td>\n",
       "      <td>NaN</td>\n",
       "      <td>http://us.imdb.com/M/title-exact?Se7en%20(1995)</td>\n",
       "      <td>0</td>\n",
       "      <td>0</td>\n",
       "      <td>...</td>\n",
       "      <td>0</td>\n",
       "      <td>0</td>\n",
       "      <td>0</td>\n",
       "      <td>0</td>\n",
       "      <td>0</td>\n",
       "      <td>0</td>\n",
       "      <td>0</td>\n",
       "      <td>1</td>\n",
       "      <td>0</td>\n",
       "      <td>0</td>\n",
       "    </tr>\n",
       "  </tbody>\n",
       "</table>\n",
       "<p>5 rows × 27 columns</p>\n",
       "</div>"
      ],
      "text/plain": [
       "   user_id  movie_id  rating  timestamp           movie_title release_date  \\\n",
       "0      405         2       1  885547953      GoldenEye (1995)  01-Jan-1995   \n",
       "1      405         4       4  885547314     Get Shorty (1995)  01-Jan-1995   \n",
       "2      405         5       4  885545070        Copycat (1995)  01-Jan-1995   \n",
       "3      405         8       4  885545015           Babe (1995)  01-Jan-1995   \n",
       "4      405        11       4  885545263  Seven (Se7en) (1995)  01-Jan-1995   \n",
       "\n",
       "   video_release_date                                           IMDb_URL  \\\n",
       "0                 NaN  http://us.imdb.com/M/title-exact?GoldenEye%20(...   \n",
       "1                 NaN  http://us.imdb.com/M/title-exact?Get%20Shorty%...   \n",
       "2                 NaN  http://us.imdb.com/M/title-exact?Copycat%20(1995)   \n",
       "3                 NaN     http://us.imdb.com/M/title-exact?Babe%20(1995)   \n",
       "4                 NaN    http://us.imdb.com/M/title-exact?Se7en%20(1995)   \n",
       "\n",
       "   unknown  Action  ...  Fantasy  Film_Noir  Horror  Musical  Mystery  \\\n",
       "0        0       1  ...        0          0       0        0        0   \n",
       "1        0       1  ...        0          0       0        0        0   \n",
       "2        0       0  ...        0          0       0        0        0   \n",
       "3        0       0  ...        0          0       0        0        0   \n",
       "4        0       0  ...        0          0       0        0        0   \n",
       "\n",
       "   Romance  Sci_Fi  Thriller  War  Western  \n",
       "0        0       0         1    0        0  \n",
       "1        0       0         0    0        0  \n",
       "2        0       0         1    0        0  \n",
       "3        0       0         0    0        0  \n",
       "4        0       0         1    0        0  \n",
       "\n",
       "[5 rows x 27 columns]"
      ]
     },
     "execution_count": 10,
     "metadata": {},
     "output_type": "execute_result"
    }
   ],
   "source": [
    "joined_ratings_405 = ratings_405.merge(movies, on='movie_id', how='left')\n",
    "joined_ratings_405.head()"
   ]
  },
  {
   "cell_type": "markdown",
   "id": "1ecec17b-962d-4d2d-aba5-a58f72904454",
   "metadata": {},
   "source": [
    "#### 4.2 Добавляем столбцы с общим количеством оценок от всех пользователей на фильм и суммарной оценкой от всех пользователей"
   ]
  },
  {
   "cell_type": "markdown",
   "id": "93b89a0b-7bdd-42bb-8296-7e29f42d6f10",
   "metadata": {},
   "source": [
    "Для этого сгруппируем датафрейм rating по признаку movie_id и посчитаем количество оценок и суммарную оценку для каждого фильма"
   ]
  },
  {
   "cell_type": "code",
   "execution_count": 11,
   "id": "f8191f3b-9333-4d60-82b8-bafb977b820b",
   "metadata": {},
   "outputs": [
    {
     "data": {
      "text/html": [
       "<div>\n",
       "<style scoped>\n",
       "    .dataframe tbody tr th:only-of-type {\n",
       "        vertical-align: middle;\n",
       "    }\n",
       "\n",
       "    .dataframe tbody tr th {\n",
       "        vertical-align: top;\n",
       "    }\n",
       "\n",
       "    .dataframe thead tr th {\n",
       "        text-align: left;\n",
       "    }\n",
       "\n",
       "    .dataframe thead tr:last-of-type th {\n",
       "        text-align: right;\n",
       "    }\n",
       "</style>\n",
       "<table border=\"1\" class=\"dataframe\">\n",
       "  <thead>\n",
       "    <tr>\n",
       "      <th></th>\n",
       "      <th colspan=\"2\" halign=\"left\">rating</th>\n",
       "    </tr>\n",
       "    <tr>\n",
       "      <th></th>\n",
       "      <th>count</th>\n",
       "      <th>sum</th>\n",
       "    </tr>\n",
       "    <tr>\n",
       "      <th>movie_id</th>\n",
       "      <th></th>\n",
       "      <th></th>\n",
       "    </tr>\n",
       "  </thead>\n",
       "  <tbody>\n",
       "    <tr>\n",
       "      <th>1</th>\n",
       "      <td>452</td>\n",
       "      <td>1753</td>\n",
       "    </tr>\n",
       "    <tr>\n",
       "      <th>2</th>\n",
       "      <td>131</td>\n",
       "      <td>420</td>\n",
       "    </tr>\n",
       "    <tr>\n",
       "      <th>3</th>\n",
       "      <td>90</td>\n",
       "      <td>273</td>\n",
       "    </tr>\n",
       "    <tr>\n",
       "      <th>4</th>\n",
       "      <td>209</td>\n",
       "      <td>742</td>\n",
       "    </tr>\n",
       "    <tr>\n",
       "      <th>5</th>\n",
       "      <td>86</td>\n",
       "      <td>284</td>\n",
       "    </tr>\n",
       "  </tbody>\n",
       "</table>\n",
       "</div>"
      ],
      "text/plain": [
       "         rating      \n",
       "          count   sum\n",
       "movie_id             \n",
       "1           452  1753\n",
       "2           131   420\n",
       "3            90   273\n",
       "4           209   742\n",
       "5            86   284"
      ]
     },
     "execution_count": 11,
     "metadata": {},
     "output_type": "execute_result"
    }
   ],
   "source": [
    "grouped_ratings = ratings.groupby('movie_id').agg({'rating': ['count', 'sum']})\n",
    "grouped_ratings.head()"
   ]
  },
  {
   "cell_type": "markdown",
   "id": "8683672b-86bd-4133-9e5a-d8334076a2ef",
   "metadata": {},
   "source": [
    "Обогатим датафрейм joined_ratings_405 значениями датафрейма grouped_ratings"
   ]
  },
  {
   "cell_type": "code",
   "execution_count": 12,
   "id": "926955da-418f-4c19-81d2-692071651739",
   "metadata": {},
   "outputs": [
    {
     "name": "stderr",
     "output_type": "stream",
     "text": [
      "/tmp/ipykernel_7850/753670648.py:1: FutureWarning: merging between different levels is deprecated and will be removed in a future version. (1 levels on the left, 2 on the right)\n",
      "  result_df = joined_ratings_405.merge(grouped_ratings, on='movie_id', how='left')\n"
     ]
    },
    {
     "data": {
      "text/html": [
       "<div>\n",
       "<style scoped>\n",
       "    .dataframe tbody tr th:only-of-type {\n",
       "        vertical-align: middle;\n",
       "    }\n",
       "\n",
       "    .dataframe tbody tr th {\n",
       "        vertical-align: top;\n",
       "    }\n",
       "\n",
       "    .dataframe thead th {\n",
       "        text-align: right;\n",
       "    }\n",
       "</style>\n",
       "<table border=\"1\" class=\"dataframe\">\n",
       "  <thead>\n",
       "    <tr style=\"text-align: right;\">\n",
       "      <th></th>\n",
       "      <th>user_id</th>\n",
       "      <th>movie_id</th>\n",
       "      <th>rating</th>\n",
       "      <th>timestamp</th>\n",
       "      <th>movie_title</th>\n",
       "      <th>release_date</th>\n",
       "      <th>video_release_date</th>\n",
       "      <th>IMDb_URL</th>\n",
       "      <th>unknown</th>\n",
       "      <th>Action</th>\n",
       "      <th>...</th>\n",
       "      <th>Horror</th>\n",
       "      <th>Musical</th>\n",
       "      <th>Mystery</th>\n",
       "      <th>Romance</th>\n",
       "      <th>Sci_Fi</th>\n",
       "      <th>Thriller</th>\n",
       "      <th>War</th>\n",
       "      <th>Western</th>\n",
       "      <th>(rating, count)</th>\n",
       "      <th>(rating, sum)</th>\n",
       "    </tr>\n",
       "  </thead>\n",
       "  <tbody>\n",
       "    <tr>\n",
       "      <th>0</th>\n",
       "      <td>405</td>\n",
       "      <td>2</td>\n",
       "      <td>1</td>\n",
       "      <td>885547953</td>\n",
       "      <td>GoldenEye (1995)</td>\n",
       "      <td>01-Jan-1995</td>\n",
       "      <td>NaN</td>\n",
       "      <td>http://us.imdb.com/M/title-exact?GoldenEye%20(...</td>\n",
       "      <td>0</td>\n",
       "      <td>1</td>\n",
       "      <td>...</td>\n",
       "      <td>0</td>\n",
       "      <td>0</td>\n",
       "      <td>0</td>\n",
       "      <td>0</td>\n",
       "      <td>0</td>\n",
       "      <td>1</td>\n",
       "      <td>0</td>\n",
       "      <td>0</td>\n",
       "      <td>131</td>\n",
       "      <td>420</td>\n",
       "    </tr>\n",
       "    <tr>\n",
       "      <th>1</th>\n",
       "      <td>405</td>\n",
       "      <td>4</td>\n",
       "      <td>4</td>\n",
       "      <td>885547314</td>\n",
       "      <td>Get Shorty (1995)</td>\n",
       "      <td>01-Jan-1995</td>\n",
       "      <td>NaN</td>\n",
       "      <td>http://us.imdb.com/M/title-exact?Get%20Shorty%...</td>\n",
       "      <td>0</td>\n",
       "      <td>1</td>\n",
       "      <td>...</td>\n",
       "      <td>0</td>\n",
       "      <td>0</td>\n",
       "      <td>0</td>\n",
       "      <td>0</td>\n",
       "      <td>0</td>\n",
       "      <td>0</td>\n",
       "      <td>0</td>\n",
       "      <td>0</td>\n",
       "      <td>209</td>\n",
       "      <td>742</td>\n",
       "    </tr>\n",
       "    <tr>\n",
       "      <th>2</th>\n",
       "      <td>405</td>\n",
       "      <td>5</td>\n",
       "      <td>4</td>\n",
       "      <td>885545070</td>\n",
       "      <td>Copycat (1995)</td>\n",
       "      <td>01-Jan-1995</td>\n",
       "      <td>NaN</td>\n",
       "      <td>http://us.imdb.com/M/title-exact?Copycat%20(1995)</td>\n",
       "      <td>0</td>\n",
       "      <td>0</td>\n",
       "      <td>...</td>\n",
       "      <td>0</td>\n",
       "      <td>0</td>\n",
       "      <td>0</td>\n",
       "      <td>0</td>\n",
       "      <td>0</td>\n",
       "      <td>1</td>\n",
       "      <td>0</td>\n",
       "      <td>0</td>\n",
       "      <td>86</td>\n",
       "      <td>284</td>\n",
       "    </tr>\n",
       "    <tr>\n",
       "      <th>3</th>\n",
       "      <td>405</td>\n",
       "      <td>8</td>\n",
       "      <td>4</td>\n",
       "      <td>885545015</td>\n",
       "      <td>Babe (1995)</td>\n",
       "      <td>01-Jan-1995</td>\n",
       "      <td>NaN</td>\n",
       "      <td>http://us.imdb.com/M/title-exact?Babe%20(1995)</td>\n",
       "      <td>0</td>\n",
       "      <td>0</td>\n",
       "      <td>...</td>\n",
       "      <td>0</td>\n",
       "      <td>0</td>\n",
       "      <td>0</td>\n",
       "      <td>0</td>\n",
       "      <td>0</td>\n",
       "      <td>0</td>\n",
       "      <td>0</td>\n",
       "      <td>0</td>\n",
       "      <td>219</td>\n",
       "      <td>875</td>\n",
       "    </tr>\n",
       "    <tr>\n",
       "      <th>4</th>\n",
       "      <td>405</td>\n",
       "      <td>11</td>\n",
       "      <td>4</td>\n",
       "      <td>885545263</td>\n",
       "      <td>Seven (Se7en) (1995)</td>\n",
       "      <td>01-Jan-1995</td>\n",
       "      <td>NaN</td>\n",
       "      <td>http://us.imdb.com/M/title-exact?Se7en%20(1995)</td>\n",
       "      <td>0</td>\n",
       "      <td>0</td>\n",
       "      <td>...</td>\n",
       "      <td>0</td>\n",
       "      <td>0</td>\n",
       "      <td>0</td>\n",
       "      <td>0</td>\n",
       "      <td>0</td>\n",
       "      <td>1</td>\n",
       "      <td>0</td>\n",
       "      <td>0</td>\n",
       "      <td>236</td>\n",
       "      <td>908</td>\n",
       "    </tr>\n",
       "    <tr>\n",
       "      <th>...</th>\n",
       "      <td>...</td>\n",
       "      <td>...</td>\n",
       "      <td>...</td>\n",
       "      <td>...</td>\n",
       "      <td>...</td>\n",
       "      <td>...</td>\n",
       "      <td>...</td>\n",
       "      <td>...</td>\n",
       "      <td>...</td>\n",
       "      <td>...</td>\n",
       "      <td>...</td>\n",
       "      <td>...</td>\n",
       "      <td>...</td>\n",
       "      <td>...</td>\n",
       "      <td>...</td>\n",
       "      <td>...</td>\n",
       "      <td>...</td>\n",
       "      <td>...</td>\n",
       "      <td>...</td>\n",
       "      <td>...</td>\n",
       "      <td>...</td>\n",
       "    </tr>\n",
       "    <tr>\n",
       "      <th>732</th>\n",
       "      <td>405</td>\n",
       "      <td>1588</td>\n",
       "      <td>1</td>\n",
       "      <td>885549789</td>\n",
       "      <td>Salut cousin! (1996)</td>\n",
       "      <td>21-Feb-1997</td>\n",
       "      <td>NaN</td>\n",
       "      <td>http://us.imdb.com/M/title-exact?Salut%20cousi...</td>\n",
       "      <td>0</td>\n",
       "      <td>0</td>\n",
       "      <td>...</td>\n",
       "      <td>0</td>\n",
       "      <td>0</td>\n",
       "      <td>0</td>\n",
       "      <td>0</td>\n",
       "      <td>0</td>\n",
       "      <td>0</td>\n",
       "      <td>0</td>\n",
       "      <td>0</td>\n",
       "      <td>2</td>\n",
       "      <td>4</td>\n",
       "    </tr>\n",
       "    <tr>\n",
       "      <th>733</th>\n",
       "      <td>405</td>\n",
       "      <td>1589</td>\n",
       "      <td>1</td>\n",
       "      <td>885549745</td>\n",
       "      <td>Schizopolis (1996)</td>\n",
       "      <td>23-May-1997</td>\n",
       "      <td>NaN</td>\n",
       "      <td>http://us.imdb.com/Title?Schizopolis+(1996)</td>\n",
       "      <td>0</td>\n",
       "      <td>0</td>\n",
       "      <td>...</td>\n",
       "      <td>0</td>\n",
       "      <td>0</td>\n",
       "      <td>0</td>\n",
       "      <td>0</td>\n",
       "      <td>0</td>\n",
       "      <td>0</td>\n",
       "      <td>0</td>\n",
       "      <td>0</td>\n",
       "      <td>4</td>\n",
       "      <td>12</td>\n",
       "    </tr>\n",
       "    <tr>\n",
       "      <th>734</th>\n",
       "      <td>405</td>\n",
       "      <td>1590</td>\n",
       "      <td>1</td>\n",
       "      <td>885549789</td>\n",
       "      <td>To Have, or Not (1995)</td>\n",
       "      <td>06-Jun-1997</td>\n",
       "      <td>NaN</td>\n",
       "      <td>http://us.imdb.com/M/title-exact?En%20avoir%20...</td>\n",
       "      <td>0</td>\n",
       "      <td>0</td>\n",
       "      <td>...</td>\n",
       "      <td>0</td>\n",
       "      <td>0</td>\n",
       "      <td>0</td>\n",
       "      <td>0</td>\n",
       "      <td>0</td>\n",
       "      <td>0</td>\n",
       "      <td>0</td>\n",
       "      <td>0</td>\n",
       "      <td>2</td>\n",
       "      <td>4</td>\n",
       "    </tr>\n",
       "    <tr>\n",
       "      <th>735</th>\n",
       "      <td>405</td>\n",
       "      <td>1591</td>\n",
       "      <td>1</td>\n",
       "      <td>885549943</td>\n",
       "      <td>Duoluo tianshi (1995)</td>\n",
       "      <td>21-Jan-1998</td>\n",
       "      <td>NaN</td>\n",
       "      <td>http://us.imdb.com/M/title-exact?imdb-title-11...</td>\n",
       "      <td>0</td>\n",
       "      <td>0</td>\n",
       "      <td>...</td>\n",
       "      <td>0</td>\n",
       "      <td>0</td>\n",
       "      <td>0</td>\n",
       "      <td>0</td>\n",
       "      <td>0</td>\n",
       "      <td>0</td>\n",
       "      <td>0</td>\n",
       "      <td>0</td>\n",
       "      <td>6</td>\n",
       "      <td>19</td>\n",
       "    </tr>\n",
       "    <tr>\n",
       "      <th>736</th>\n",
       "      <td>405</td>\n",
       "      <td>1592</td>\n",
       "      <td>1</td>\n",
       "      <td>885549903</td>\n",
       "      <td>Magic Hour, The (1998)</td>\n",
       "      <td>30-Jan-1998</td>\n",
       "      <td>NaN</td>\n",
       "      <td>http://us.imdb.com/M/title-exact?imdb-title-11...</td>\n",
       "      <td>0</td>\n",
       "      <td>0</td>\n",
       "      <td>...</td>\n",
       "      <td>0</td>\n",
       "      <td>0</td>\n",
       "      <td>0</td>\n",
       "      <td>0</td>\n",
       "      <td>0</td>\n",
       "      <td>0</td>\n",
       "      <td>0</td>\n",
       "      <td>0</td>\n",
       "      <td>5</td>\n",
       "      <td>18</td>\n",
       "    </tr>\n",
       "  </tbody>\n",
       "</table>\n",
       "<p>737 rows × 29 columns</p>\n",
       "</div>"
      ],
      "text/plain": [
       "     user_id  movie_id  rating  timestamp             movie_title  \\\n",
       "0        405         2       1  885547953        GoldenEye (1995)   \n",
       "1        405         4       4  885547314       Get Shorty (1995)   \n",
       "2        405         5       4  885545070          Copycat (1995)   \n",
       "3        405         8       4  885545015             Babe (1995)   \n",
       "4        405        11       4  885545263    Seven (Se7en) (1995)   \n",
       "..       ...       ...     ...        ...                     ...   \n",
       "732      405      1588       1  885549789    Salut cousin! (1996)   \n",
       "733      405      1589       1  885549745      Schizopolis (1996)   \n",
       "734      405      1590       1  885549789  To Have, or Not (1995)   \n",
       "735      405      1591       1  885549943   Duoluo tianshi (1995)   \n",
       "736      405      1592       1  885549903  Magic Hour, The (1998)   \n",
       "\n",
       "    release_date  video_release_date  \\\n",
       "0    01-Jan-1995                 NaN   \n",
       "1    01-Jan-1995                 NaN   \n",
       "2    01-Jan-1995                 NaN   \n",
       "3    01-Jan-1995                 NaN   \n",
       "4    01-Jan-1995                 NaN   \n",
       "..           ...                 ...   \n",
       "732  21-Feb-1997                 NaN   \n",
       "733  23-May-1997                 NaN   \n",
       "734  06-Jun-1997                 NaN   \n",
       "735  21-Jan-1998                 NaN   \n",
       "736  30-Jan-1998                 NaN   \n",
       "\n",
       "                                              IMDb_URL  unknown  Action  ...  \\\n",
       "0    http://us.imdb.com/M/title-exact?GoldenEye%20(...        0       1  ...   \n",
       "1    http://us.imdb.com/M/title-exact?Get%20Shorty%...        0       1  ...   \n",
       "2    http://us.imdb.com/M/title-exact?Copycat%20(1995)        0       0  ...   \n",
       "3       http://us.imdb.com/M/title-exact?Babe%20(1995)        0       0  ...   \n",
       "4      http://us.imdb.com/M/title-exact?Se7en%20(1995)        0       0  ...   \n",
       "..                                                 ...      ...     ...  ...   \n",
       "732  http://us.imdb.com/M/title-exact?Salut%20cousi...        0       0  ...   \n",
       "733        http://us.imdb.com/Title?Schizopolis+(1996)        0       0  ...   \n",
       "734  http://us.imdb.com/M/title-exact?En%20avoir%20...        0       0  ...   \n",
       "735  http://us.imdb.com/M/title-exact?imdb-title-11...        0       0  ...   \n",
       "736  http://us.imdb.com/M/title-exact?imdb-title-11...        0       0  ...   \n",
       "\n",
       "     Horror  Musical  Mystery  Romance  Sci_Fi  Thriller  War  Western  \\\n",
       "0         0        0        0        0       0         1    0        0   \n",
       "1         0        0        0        0       0         0    0        0   \n",
       "2         0        0        0        0       0         1    0        0   \n",
       "3         0        0        0        0       0         0    0        0   \n",
       "4         0        0        0        0       0         1    0        0   \n",
       "..      ...      ...      ...      ...     ...       ...  ...      ...   \n",
       "732       0        0        0        0       0         0    0        0   \n",
       "733       0        0        0        0       0         0    0        0   \n",
       "734       0        0        0        0       0         0    0        0   \n",
       "735       0        0        0        0       0         0    0        0   \n",
       "736       0        0        0        0       0         0    0        0   \n",
       "\n",
       "     (rating, count)  (rating, sum)  \n",
       "0                131            420  \n",
       "1                209            742  \n",
       "2                 86            284  \n",
       "3                219            875  \n",
       "4                236            908  \n",
       "..               ...            ...  \n",
       "732                2              4  \n",
       "733                4             12  \n",
       "734                2              4  \n",
       "735                6             19  \n",
       "736                5             18  \n",
       "\n",
       "[737 rows x 29 columns]"
      ]
     },
     "execution_count": 12,
     "metadata": {},
     "output_type": "execute_result"
    }
   ],
   "source": [
    "result_df = joined_ratings_405.merge(grouped_ratings, on='movie_id', how='left')\n",
    "result_df"
   ]
  },
  {
   "cell_type": "markdown",
   "id": "ade1ccd2-1a28-427c-84e6-7755ccb093d3",
   "metadata": {},
   "source": [
    "Добавим столбец с годом выхода фильма"
   ]
  },
  {
   "cell_type": "code",
   "execution_count": 13,
   "id": "8b03274a-0ab7-4423-b103-df93a847841f",
   "metadata": {},
   "outputs": [],
   "source": [
    "result_df['release_date'] = result_df['release_date'].astype(\"datetime64[ns]\")"
   ]
  },
  {
   "cell_type": "code",
   "execution_count": 14,
   "id": "2fc6f5a2-bd5c-4c2a-84ec-8e515ca5d7c5",
   "metadata": {},
   "outputs": [],
   "source": [
    "result_df[\"release_year\"] = result_df['release_date'].dt.to_period(\"Y\")"
   ]
  },
  {
   "cell_type": "code",
   "execution_count": 15,
   "id": "e2e783fa-ad77-4553-b651-4a852593fafb",
   "metadata": {},
   "outputs": [],
   "source": [
    "result_df['release_year_int'] = result_df['release_date'].dt.strftime('%Y')"
   ]
  },
  {
   "cell_type": "code",
   "execution_count": 16,
   "id": "5d0db7d6-33e2-45da-831a-f4f199dbf818",
   "metadata": {},
   "outputs": [
    {
     "data": {
      "text/html": [
       "<div>\n",
       "<style scoped>\n",
       "    .dataframe tbody tr th:only-of-type {\n",
       "        vertical-align: middle;\n",
       "    }\n",
       "\n",
       "    .dataframe tbody tr th {\n",
       "        vertical-align: top;\n",
       "    }\n",
       "\n",
       "    .dataframe thead th {\n",
       "        text-align: right;\n",
       "    }\n",
       "</style>\n",
       "<table border=\"1\" class=\"dataframe\">\n",
       "  <thead>\n",
       "    <tr style=\"text-align: right;\">\n",
       "      <th></th>\n",
       "      <th>user_id</th>\n",
       "      <th>movie_id</th>\n",
       "      <th>rating</th>\n",
       "      <th>timestamp</th>\n",
       "      <th>movie_title</th>\n",
       "      <th>release_date</th>\n",
       "      <th>video_release_date</th>\n",
       "      <th>IMDb_URL</th>\n",
       "      <th>unknown</th>\n",
       "      <th>Action</th>\n",
       "      <th>...</th>\n",
       "      <th>Mystery</th>\n",
       "      <th>Romance</th>\n",
       "      <th>Sci_Fi</th>\n",
       "      <th>Thriller</th>\n",
       "      <th>War</th>\n",
       "      <th>Western</th>\n",
       "      <th>(rating, count)</th>\n",
       "      <th>(rating, sum)</th>\n",
       "      <th>release_year</th>\n",
       "      <th>release_year_int</th>\n",
       "    </tr>\n",
       "  </thead>\n",
       "  <tbody>\n",
       "    <tr>\n",
       "      <th>0</th>\n",
       "      <td>405</td>\n",
       "      <td>2</td>\n",
       "      <td>1</td>\n",
       "      <td>885547953</td>\n",
       "      <td>GoldenEye (1995)</td>\n",
       "      <td>1995-01-01</td>\n",
       "      <td>NaN</td>\n",
       "      <td>http://us.imdb.com/M/title-exact?GoldenEye%20(...</td>\n",
       "      <td>0</td>\n",
       "      <td>1</td>\n",
       "      <td>...</td>\n",
       "      <td>0</td>\n",
       "      <td>0</td>\n",
       "      <td>0</td>\n",
       "      <td>1</td>\n",
       "      <td>0</td>\n",
       "      <td>0</td>\n",
       "      <td>131</td>\n",
       "      <td>420</td>\n",
       "      <td>1995</td>\n",
       "      <td>1995</td>\n",
       "    </tr>\n",
       "    <tr>\n",
       "      <th>1</th>\n",
       "      <td>405</td>\n",
       "      <td>4</td>\n",
       "      <td>4</td>\n",
       "      <td>885547314</td>\n",
       "      <td>Get Shorty (1995)</td>\n",
       "      <td>1995-01-01</td>\n",
       "      <td>NaN</td>\n",
       "      <td>http://us.imdb.com/M/title-exact?Get%20Shorty%...</td>\n",
       "      <td>0</td>\n",
       "      <td>1</td>\n",
       "      <td>...</td>\n",
       "      <td>0</td>\n",
       "      <td>0</td>\n",
       "      <td>0</td>\n",
       "      <td>0</td>\n",
       "      <td>0</td>\n",
       "      <td>0</td>\n",
       "      <td>209</td>\n",
       "      <td>742</td>\n",
       "      <td>1995</td>\n",
       "      <td>1995</td>\n",
       "    </tr>\n",
       "    <tr>\n",
       "      <th>2</th>\n",
       "      <td>405</td>\n",
       "      <td>5</td>\n",
       "      <td>4</td>\n",
       "      <td>885545070</td>\n",
       "      <td>Copycat (1995)</td>\n",
       "      <td>1995-01-01</td>\n",
       "      <td>NaN</td>\n",
       "      <td>http://us.imdb.com/M/title-exact?Copycat%20(1995)</td>\n",
       "      <td>0</td>\n",
       "      <td>0</td>\n",
       "      <td>...</td>\n",
       "      <td>0</td>\n",
       "      <td>0</td>\n",
       "      <td>0</td>\n",
       "      <td>1</td>\n",
       "      <td>0</td>\n",
       "      <td>0</td>\n",
       "      <td>86</td>\n",
       "      <td>284</td>\n",
       "      <td>1995</td>\n",
       "      <td>1995</td>\n",
       "    </tr>\n",
       "    <tr>\n",
       "      <th>3</th>\n",
       "      <td>405</td>\n",
       "      <td>8</td>\n",
       "      <td>4</td>\n",
       "      <td>885545015</td>\n",
       "      <td>Babe (1995)</td>\n",
       "      <td>1995-01-01</td>\n",
       "      <td>NaN</td>\n",
       "      <td>http://us.imdb.com/M/title-exact?Babe%20(1995)</td>\n",
       "      <td>0</td>\n",
       "      <td>0</td>\n",
       "      <td>...</td>\n",
       "      <td>0</td>\n",
       "      <td>0</td>\n",
       "      <td>0</td>\n",
       "      <td>0</td>\n",
       "      <td>0</td>\n",
       "      <td>0</td>\n",
       "      <td>219</td>\n",
       "      <td>875</td>\n",
       "      <td>1995</td>\n",
       "      <td>1995</td>\n",
       "    </tr>\n",
       "    <tr>\n",
       "      <th>4</th>\n",
       "      <td>405</td>\n",
       "      <td>11</td>\n",
       "      <td>4</td>\n",
       "      <td>885545263</td>\n",
       "      <td>Seven (Se7en) (1995)</td>\n",
       "      <td>1995-01-01</td>\n",
       "      <td>NaN</td>\n",
       "      <td>http://us.imdb.com/M/title-exact?Se7en%20(1995)</td>\n",
       "      <td>0</td>\n",
       "      <td>0</td>\n",
       "      <td>...</td>\n",
       "      <td>0</td>\n",
       "      <td>0</td>\n",
       "      <td>0</td>\n",
       "      <td>1</td>\n",
       "      <td>0</td>\n",
       "      <td>0</td>\n",
       "      <td>236</td>\n",
       "      <td>908</td>\n",
       "      <td>1995</td>\n",
       "      <td>1995</td>\n",
       "    </tr>\n",
       "  </tbody>\n",
       "</table>\n",
       "<p>5 rows × 31 columns</p>\n",
       "</div>"
      ],
      "text/plain": [
       "   user_id  movie_id  rating  timestamp           movie_title release_date  \\\n",
       "0      405         2       1  885547953      GoldenEye (1995)   1995-01-01   \n",
       "1      405         4       4  885547314     Get Shorty (1995)   1995-01-01   \n",
       "2      405         5       4  885545070        Copycat (1995)   1995-01-01   \n",
       "3      405         8       4  885545015           Babe (1995)   1995-01-01   \n",
       "4      405        11       4  885545263  Seven (Se7en) (1995)   1995-01-01   \n",
       "\n",
       "   video_release_date                                           IMDb_URL  \\\n",
       "0                 NaN  http://us.imdb.com/M/title-exact?GoldenEye%20(...   \n",
       "1                 NaN  http://us.imdb.com/M/title-exact?Get%20Shorty%...   \n",
       "2                 NaN  http://us.imdb.com/M/title-exact?Copycat%20(1995)   \n",
       "3                 NaN     http://us.imdb.com/M/title-exact?Babe%20(1995)   \n",
       "4                 NaN    http://us.imdb.com/M/title-exact?Se7en%20(1995)   \n",
       "\n",
       "   unknown  Action  ...  Mystery  Romance  Sci_Fi  Thriller  War  Western  \\\n",
       "0        0       1  ...        0        0       0         1    0        0   \n",
       "1        0       1  ...        0        0       0         0    0        0   \n",
       "2        0       0  ...        0        0       0         1    0        0   \n",
       "3        0       0  ...        0        0       0         0    0        0   \n",
       "4        0       0  ...        0        0       0         1    0        0   \n",
       "\n",
       "   (rating, count)  (rating, sum)  release_year  release_year_int  \n",
       "0              131            420          1995              1995  \n",
       "1              209            742          1995              1995  \n",
       "2               86            284          1995              1995  \n",
       "3              219            875          1995              1995  \n",
       "4              236            908          1995              1995  \n",
       "\n",
       "[5 rows x 31 columns]"
      ]
     },
     "execution_count": 16,
     "metadata": {},
     "output_type": "execute_result"
    }
   ],
   "source": [
    "result_df.head()"
   ]
  },
  {
   "cell_type": "markdown",
   "id": "814954f7-8aba-4251-b5b2-d249d269bed7",
   "metadata": {},
   "source": [
    "Оставим в датафрейме необходимые для построения модели признаки:\n",
    "- Год выхода\n",
    "- Жанры\n",
    "- Общее количество оценок\n",
    "- Суммарную оценку"
   ]
  },
  {
   "cell_type": "code",
   "execution_count": 17,
   "id": "5cd441c5-8751-4eba-a3cb-1cf2f75308aa",
   "metadata": {},
   "outputs": [
    {
     "data": {
      "text/plain": [
       "Index([           'user_id',           'movie_id',             'rating',\n",
       "                'timestamp',        'movie_title',       'release_date',\n",
       "       'video_release_date',           'IMDb_URL',            'unknown',\n",
       "                   'Action',          'Adventure',          'Animation',\n",
       "                 'Children',             'Comedy',              'Crime',\n",
       "              'Documentary',              'Drama',            'Fantasy',\n",
       "                'Film_Noir',             'Horror',            'Musical',\n",
       "                  'Mystery',            'Romance',             'Sci_Fi',\n",
       "                 'Thriller',                'War',            'Western',\n",
       "        ('rating', 'count'),    ('rating', 'sum'),       'release_year',\n",
       "         'release_year_int'],\n",
       "      dtype='object')"
      ]
     },
     "execution_count": 17,
     "metadata": {},
     "output_type": "execute_result"
    }
   ],
   "source": [
    "result_df.columns"
   ]
  },
  {
   "cell_type": "code",
   "execution_count": 18,
   "id": "2bef9265-cc67-4bad-8921-ecf26dadc781",
   "metadata": {},
   "outputs": [],
   "source": [
    "result_df = result_df[['movie_id', 'release_year_int', 'rating', ('rating', 'count'), ('rating', 'sum'),\n",
    "                       'unknown', 'Action', 'Adventure', 'Animation',\n",
    "                       'Children', 'Comedy', 'Crime', 'Documentary', 'Drama', 'Fantasy',\n",
    "                       'Film_Noir', 'Horror', 'Musical', 'Mystery', 'Romance', 'Sci_Fi',\n",
    "                       'Thriller', 'War', 'Western']]"
   ]
  },
  {
   "cell_type": "code",
   "execution_count": 19,
   "id": "7ce2906e-961b-40f0-bfd5-7ef7cec8a098",
   "metadata": {},
   "outputs": [],
   "source": [
    "result_df = result_df.rename(columns = {('rating', 'count'):'rating_count', ('rating', 'sum'):'rating_sum'})"
   ]
  },
  {
   "cell_type": "markdown",
   "id": "bfc7cdae-e44a-4aea-a1b5-55ced0a7435a",
   "metadata": {},
   "source": [
    "Посмотрим, что в результате получилось:"
   ]
  },
  {
   "cell_type": "code",
   "execution_count": 20,
   "id": "7903c8d8-68ec-461c-ad57-e58e84adc9c2",
   "metadata": {},
   "outputs": [
    {
     "name": "stdout",
     "output_type": "stream",
     "text": [
      "<class 'pandas.core.frame.DataFrame'>\n",
      "Int64Index: 737 entries, 0 to 736\n",
      "Data columns (total 24 columns):\n",
      " #   Column            Non-Null Count  Dtype \n",
      "---  ------            --------------  ----- \n",
      " 0   movie_id          737 non-null    int64 \n",
      " 1   release_year_int  737 non-null    object\n",
      " 2   rating            737 non-null    int64 \n",
      " 3   rating_count      737 non-null    int64 \n",
      " 4   rating_sum        737 non-null    int64 \n",
      " 5   unknown           737 non-null    int64 \n",
      " 6   Action            737 non-null    int64 \n",
      " 7   Adventure         737 non-null    int64 \n",
      " 8   Animation         737 non-null    int64 \n",
      " 9   Children          737 non-null    int64 \n",
      " 10  Comedy            737 non-null    int64 \n",
      " 11  Crime             737 non-null    int64 \n",
      " 12  Documentary       737 non-null    int64 \n",
      " 13  Drama             737 non-null    int64 \n",
      " 14  Fantasy           737 non-null    int64 \n",
      " 15  Film_Noir         737 non-null    int64 \n",
      " 16  Horror            737 non-null    int64 \n",
      " 17  Musical           737 non-null    int64 \n",
      " 18  Mystery           737 non-null    int64 \n",
      " 19  Romance           737 non-null    int64 \n",
      " 20  Sci_Fi            737 non-null    int64 \n",
      " 21  Thriller          737 non-null    int64 \n",
      " 22  War               737 non-null    int64 \n",
      " 23  Western           737 non-null    int64 \n",
      "dtypes: int64(23), object(1)\n",
      "memory usage: 143.9+ KB\n"
     ]
    }
   ],
   "source": [
    "result_df.info()"
   ]
  },
  {
   "cell_type": "markdown",
   "id": "493c71f9-dfba-460f-aa6f-b123b9472827",
   "metadata": {},
   "source": [
    "Изменим тип значений в поле 'release_year_int'"
   ]
  },
  {
   "cell_type": "code",
   "execution_count": 21,
   "id": "2f39ce2a-420f-4f6d-95fd-43af72f21260",
   "metadata": {},
   "outputs": [],
   "source": [
    "result_df['release_year_int'] = result_df['release_year_int'].astype(int)"
   ]
  },
  {
   "cell_type": "code",
   "execution_count": 22,
   "id": "dd7476fe-27a2-44e4-9d82-56a0ae621dc7",
   "metadata": {},
   "outputs": [
    {
     "name": "stdout",
     "output_type": "stream",
     "text": [
      "<class 'pandas.core.frame.DataFrame'>\n",
      "Int64Index: 737 entries, 0 to 736\n",
      "Data columns (total 24 columns):\n",
      " #   Column            Non-Null Count  Dtype\n",
      "---  ------            --------------  -----\n",
      " 0   movie_id          737 non-null    int64\n",
      " 1   release_year_int  737 non-null    int64\n",
      " 2   rating            737 non-null    int64\n",
      " 3   rating_count      737 non-null    int64\n",
      " 4   rating_sum        737 non-null    int64\n",
      " 5   unknown           737 non-null    int64\n",
      " 6   Action            737 non-null    int64\n",
      " 7   Adventure         737 non-null    int64\n",
      " 8   Animation         737 non-null    int64\n",
      " 9   Children          737 non-null    int64\n",
      " 10  Comedy            737 non-null    int64\n",
      " 11  Crime             737 non-null    int64\n",
      " 12  Documentary       737 non-null    int64\n",
      " 13  Drama             737 non-null    int64\n",
      " 14  Fantasy           737 non-null    int64\n",
      " 15  Film_Noir         737 non-null    int64\n",
      " 16  Horror            737 non-null    int64\n",
      " 17  Musical           737 non-null    int64\n",
      " 18  Mystery           737 non-null    int64\n",
      " 19  Romance           737 non-null    int64\n",
      " 20  Sci_Fi            737 non-null    int64\n",
      " 21  Thriller          737 non-null    int64\n",
      " 22  War               737 non-null    int64\n",
      " 23  Western           737 non-null    int64\n",
      "dtypes: int64(24)\n",
      "memory usage: 143.9 KB\n"
     ]
    }
   ],
   "source": [
    "result_df.info()"
   ]
  },
  {
   "cell_type": "code",
   "execution_count": 23,
   "id": "16a7e55c-afe8-4706-bdf7-bbbe72081231",
   "metadata": {},
   "outputs": [
    {
     "data": {
      "text/html": [
       "<div>\n",
       "<style scoped>\n",
       "    .dataframe tbody tr th:only-of-type {\n",
       "        vertical-align: middle;\n",
       "    }\n",
       "\n",
       "    .dataframe tbody tr th {\n",
       "        vertical-align: top;\n",
       "    }\n",
       "\n",
       "    .dataframe thead th {\n",
       "        text-align: right;\n",
       "    }\n",
       "</style>\n",
       "<table border=\"1\" class=\"dataframe\">\n",
       "  <thead>\n",
       "    <tr style=\"text-align: right;\">\n",
       "      <th></th>\n",
       "      <th>movie_id</th>\n",
       "    </tr>\n",
       "    <tr>\n",
       "      <th>rating</th>\n",
       "      <th></th>\n",
       "    </tr>\n",
       "  </thead>\n",
       "  <tbody>\n",
       "    <tr>\n",
       "      <th>1</th>\n",
       "      <td>485</td>\n",
       "    </tr>\n",
       "    <tr>\n",
       "      <th>2</th>\n",
       "      <td>73</td>\n",
       "    </tr>\n",
       "    <tr>\n",
       "      <th>3</th>\n",
       "      <td>63</td>\n",
       "    </tr>\n",
       "    <tr>\n",
       "      <th>4</th>\n",
       "      <td>48</td>\n",
       "    </tr>\n",
       "    <tr>\n",
       "      <th>5</th>\n",
       "      <td>68</td>\n",
       "    </tr>\n",
       "  </tbody>\n",
       "</table>\n",
       "</div>"
      ],
      "text/plain": [
       "        movie_id\n",
       "rating          \n",
       "1            485\n",
       "2             73\n",
       "3             63\n",
       "4             48\n",
       "5             68"
      ]
     },
     "execution_count": 23,
     "metadata": {},
     "output_type": "execute_result"
    }
   ],
   "source": [
    "result_df.groupby('rating').agg({'movie_id':'count'})"
   ]
  },
  {
   "cell_type": "code",
   "execution_count": 24,
   "id": "04ec6b6b-7810-4d47-9f2a-27fd7ef65a43",
   "metadata": {},
   "outputs": [],
   "source": [
    "from sklearn.model_selection import train_test_split\n",
    "from sklearn.linear_model import LogisticRegression, LinearRegression\n",
    "from sklearn.metrics import accuracy_score\n",
    "import sklearn.metrics as metrics"
   ]
  },
  {
   "cell_type": "markdown",
   "id": "c4c11ce3-efcd-4f95-936d-25bbe3f00e5e",
   "metadata": {},
   "source": [
    "### 5. Формируем обучающую и тестовую выборки"
   ]
  },
  {
   "cell_type": "code",
   "execution_count": 25,
   "id": "9f75a413-ce86-40a4-b32c-d37fe215b755",
   "metadata": {},
   "outputs": [],
   "source": [
    "data = result_df[['release_year_int', 'rating_count', 'rating_sum',\n",
    "                       'unknown', 'Action', 'Adventure', 'Animation',\n",
    "                       'Children', 'Comedy', 'Crime', 'Documentary', 'Drama', 'Fantasy',\n",
    "                       'Film_Noir', 'Horror', 'Musical', 'Mystery', 'Romance', 'Sci_Fi',\n",
    "                       'Thriller', 'War', 'Western']].to_numpy()"
   ]
  },
  {
   "cell_type": "code",
   "execution_count": 26,
   "id": "815ac7b4-1388-4f83-8364-cdd7ae0a03d8",
   "metadata": {},
   "outputs": [
    {
     "data": {
      "text/plain": [
       "array([[1995,  131,  420, ...,    1,    0,    0],\n",
       "       [1995,  209,  742, ...,    0,    0,    0],\n",
       "       [1995,   86,  284, ...,    1,    0,    0],\n",
       "       ...,\n",
       "       [1997,    2,    4, ...,    0,    0,    0],\n",
       "       [1998,    6,   19, ...,    0,    0,    0],\n",
       "       [1998,    5,   18, ...,    0,    0,    0]])"
      ]
     },
     "execution_count": 26,
     "metadata": {},
     "output_type": "execute_result"
    }
   ],
   "source": [
    "data"
   ]
  },
  {
   "cell_type": "code",
   "execution_count": 27,
   "id": "e2e74225-23a8-4e4b-827b-730f0a6fbd04",
   "metadata": {},
   "outputs": [],
   "source": [
    "data_class = result_df['rating'].to_numpy()"
   ]
  },
  {
   "cell_type": "code",
   "execution_count": 28,
   "id": "c7f3e897-6449-4c03-b1ee-cb6077c4079d",
   "metadata": {},
   "outputs": [
    {
     "data": {
      "text/plain": [
       "array([1, 4, 4, 4, 4, 5, 5, 5, 3, 1, 4, 4, 1, 1, 1, 1, 2, 2, 1, 5, 1, 2,\n",
       "       1, 1, 1, 1, 1, 1, 5, 1, 1, 5, 1, 1, 2, 2, 1, 4, 1, 1, 1, 1, 1, 1,\n",
       "       3, 5, 1, 5, 5, 1, 4, 3, 1, 3, 5, 2, 3, 1, 2, 5, 1, 3, 4, 1, 4, 1,\n",
       "       1, 3, 1, 4, 2, 1, 5, 3, 3, 2, 4, 5, 1, 1, 1, 5, 5, 5, 3, 3, 2, 1,\n",
       "       5, 1, 1, 1, 1, 1, 1, 5, 5, 5, 1, 1, 1, 3, 1, 3, 5, 1, 1, 1, 4, 5,\n",
       "       5, 1, 1, 2, 4, 5, 4, 1, 5, 1, 4, 2, 1, 2, 1, 4, 1, 5, 3, 1, 1, 5,\n",
       "       3, 5, 1, 1, 2, 4, 5, 2, 1, 5, 5, 2, 1, 1, 1, 2, 3, 4, 1, 5, 5, 3,\n",
       "       1, 2, 5, 4, 1, 1, 4, 4, 5, 1, 4, 1, 1, 5, 5, 2, 1, 1, 3, 1, 1, 1,\n",
       "       2, 1, 1, 5, 1, 4, 1, 2, 1, 1, 1, 3, 1, 3, 1, 4, 2, 1, 5, 4, 3, 1,\n",
       "       4, 1, 1, 1, 1, 3, 5, 4, 1, 2, 2, 2, 5, 4, 5, 1, 1, 5, 2, 1, 5, 1,\n",
       "       5, 1, 3, 3, 4, 3, 1, 1, 1, 1, 1, 1, 1, 1, 4, 3, 4, 1, 4, 4, 1, 1,\n",
       "       5, 5, 3, 3, 2, 1, 1, 1, 1, 4, 3, 1, 1, 4, 3, 3, 2, 1, 1, 2, 1, 1,\n",
       "       1, 1, 1, 3, 1, 2, 2, 4, 1, 2, 1, 1, 1, 5, 1, 1, 1, 1, 1, 1, 1, 1,\n",
       "       1, 1, 1, 1, 2, 1, 1, 1, 1, 1, 1, 1, 1, 5, 1, 1, 1, 1, 1, 2, 1, 2,\n",
       "       4, 1, 1, 5, 3, 1, 5, 1, 3, 1, 1, 1, 3, 3, 1, 1, 1, 4, 2, 1, 1, 3,\n",
       "       3, 1, 1, 1, 4, 3, 1, 1, 1, 1, 1, 1, 1, 1, 3, 1, 2, 1, 1, 1, 1, 5,\n",
       "       1, 1, 2, 5, 1, 1, 4, 4, 2, 3, 1, 2, 1, 1, 1, 1, 1, 1, 1, 2, 1, 5,\n",
       "       1, 1, 1, 3, 5, 2, 1, 1, 1, 1, 2, 1, 1, 2, 2, 1, 1, 1, 4, 1, 1, 1,\n",
       "       1, 1, 1, 1, 1, 1, 1, 1, 1, 1, 4, 4, 1, 3, 5, 1, 2, 5, 5, 1, 1, 2,\n",
       "       1, 1, 1, 1, 2, 1, 1, 1, 1, 3, 1, 1, 1, 1, 1, 1, 1, 1, 1, 1, 1, 3,\n",
       "       5, 1, 2, 1, 1, 1, 3, 1, 1, 1, 1, 5, 1, 5, 2, 3, 1, 1, 1, 1, 1, 1,\n",
       "       1, 1, 5, 2, 1, 1, 1, 1, 1, 1, 1, 1, 1, 1, 1, 1, 1, 1, 2, 5, 1, 1,\n",
       "       1, 1, 3, 2, 1, 5, 1, 3, 4, 1, 2, 1, 1, 1, 1, 1, 3, 1, 1, 1, 1, 1,\n",
       "       1, 1, 1, 1, 1, 1, 1, 1, 1, 1, 1, 1, 1, 1, 1, 3, 5, 1, 1, 4, 3, 2,\n",
       "       5, 3, 1, 1, 5, 1, 1, 1, 1, 1, 1, 3, 2, 1, 1, 1, 1, 1, 3, 2, 1, 1,\n",
       "       1, 1, 1, 1, 2, 1, 1, 3, 1, 2, 2, 1, 1, 1, 1, 1, 1, 3, 1, 1, 1, 1,\n",
       "       1, 1, 3, 1, 1, 1, 1, 1, 1, 1, 1, 3, 1, 3, 5, 1, 3, 1, 1, 1, 1, 3,\n",
       "       1, 1, 1, 1, 1, 1, 1, 1, 1, 1, 1, 1, 1, 1, 1, 2, 1, 1, 1, 2, 1, 1,\n",
       "       2, 1, 1, 1, 1, 1, 1, 1, 1, 1, 1, 1, 1, 1, 1, 1, 1, 2, 1, 1, 1, 1,\n",
       "       1, 1, 1, 1, 1, 1, 1, 2, 1, 1, 1, 1, 1, 1, 1, 1, 1, 1, 1, 1, 1, 1,\n",
       "       2, 1, 1, 1, 1, 2, 1, 1, 1, 1, 1, 2, 1, 1, 1, 1, 1, 1, 1, 2, 2, 1,\n",
       "       1, 1, 1, 1, 1, 2, 1, 2, 1, 2, 1, 1, 3, 1, 1, 1, 4, 1, 1, 1, 1, 1,\n",
       "       1, 1, 1, 1, 1, 1, 1, 1, 1, 1, 1, 1, 1, 1, 1, 1, 1, 1, 1, 1, 1, 1,\n",
       "       1, 1, 1, 1, 1, 1, 1, 1, 1, 1, 1])"
      ]
     },
     "execution_count": 28,
     "metadata": {},
     "output_type": "execute_result"
    }
   ],
   "source": [
    "data_class"
   ]
  },
  {
   "cell_type": "code",
   "execution_count": 29,
   "id": "84c36b43-88ae-45e2-8d9c-5f24c2fe5b34",
   "metadata": {},
   "outputs": [],
   "source": [
    "X_train, X_test, y_train, y_test = train_test_split(data, data_class, random_state=42)"
   ]
  },
  {
   "cell_type": "markdown",
   "id": "4eed83b0-3bc0-4da4-bb29-2528cd43518d",
   "metadata": {},
   "source": [
    "### 6. Обучаем модель"
   ]
  },
  {
   "cell_type": "markdown",
   "id": "361892df-07f9-4221-a238-c0fff90ca768",
   "metadata": {},
   "source": [
    "#### 6.1 Модель логистической регрессии"
   ]
  },
  {
   "cell_type": "code",
   "execution_count": 30,
   "id": "c7871d65-9361-4654-9ec0-e810dc11e66c",
   "metadata": {},
   "outputs": [],
   "source": [
    "lr = LogisticRegression()"
   ]
  },
  {
   "cell_type": "code",
   "execution_count": 31,
   "id": "94122e8a-426c-49ae-9756-06fd42fc2aaf",
   "metadata": {},
   "outputs": [
    {
     "name": "stderr",
     "output_type": "stream",
     "text": [
      "/home/andrew/.local/lib/python3.11/site-packages/sklearn/linear_model/_logistic.py:460: ConvergenceWarning: lbfgs failed to converge (status=1):\n",
      "STOP: TOTAL NO. of ITERATIONS REACHED LIMIT.\n",
      "\n",
      "Increase the number of iterations (max_iter) or scale the data as shown in:\n",
      "    https://scikit-learn.org/stable/modules/preprocessing.html\n",
      "Please also refer to the documentation for alternative solver options:\n",
      "    https://scikit-learn.org/stable/modules/linear_model.html#logistic-regression\n",
      "  n_iter_i = _check_optimize_result(\n"
     ]
    },
    {
     "data": {
      "text/html": [
       "<style>#sk-container-id-1 {color: black;}#sk-container-id-1 pre{padding: 0;}#sk-container-id-1 div.sk-toggleable {background-color: white;}#sk-container-id-1 label.sk-toggleable__label {cursor: pointer;display: block;width: 100%;margin-bottom: 0;padding: 0.3em;box-sizing: border-box;text-align: center;}#sk-container-id-1 label.sk-toggleable__label-arrow:before {content: \"▸\";float: left;margin-right: 0.25em;color: #696969;}#sk-container-id-1 label.sk-toggleable__label-arrow:hover:before {color: black;}#sk-container-id-1 div.sk-estimator:hover label.sk-toggleable__label-arrow:before {color: black;}#sk-container-id-1 div.sk-toggleable__content {max-height: 0;max-width: 0;overflow: hidden;text-align: left;background-color: #f0f8ff;}#sk-container-id-1 div.sk-toggleable__content pre {margin: 0.2em;color: black;border-radius: 0.25em;background-color: #f0f8ff;}#sk-container-id-1 input.sk-toggleable__control:checked~div.sk-toggleable__content {max-height: 200px;max-width: 100%;overflow: auto;}#sk-container-id-1 input.sk-toggleable__control:checked~label.sk-toggleable__label-arrow:before {content: \"▾\";}#sk-container-id-1 div.sk-estimator input.sk-toggleable__control:checked~label.sk-toggleable__label {background-color: #d4ebff;}#sk-container-id-1 div.sk-label input.sk-toggleable__control:checked~label.sk-toggleable__label {background-color: #d4ebff;}#sk-container-id-1 input.sk-hidden--visually {border: 0;clip: rect(1px 1px 1px 1px);clip: rect(1px, 1px, 1px, 1px);height: 1px;margin: -1px;overflow: hidden;padding: 0;position: absolute;width: 1px;}#sk-container-id-1 div.sk-estimator {font-family: monospace;background-color: #f0f8ff;border: 1px dotted black;border-radius: 0.25em;box-sizing: border-box;margin-bottom: 0.5em;}#sk-container-id-1 div.sk-estimator:hover {background-color: #d4ebff;}#sk-container-id-1 div.sk-parallel-item::after {content: \"\";width: 100%;border-bottom: 1px solid gray;flex-grow: 1;}#sk-container-id-1 div.sk-label:hover label.sk-toggleable__label {background-color: #d4ebff;}#sk-container-id-1 div.sk-serial::before {content: \"\";position: absolute;border-left: 1px solid gray;box-sizing: border-box;top: 0;bottom: 0;left: 50%;z-index: 0;}#sk-container-id-1 div.sk-serial {display: flex;flex-direction: column;align-items: center;background-color: white;padding-right: 0.2em;padding-left: 0.2em;position: relative;}#sk-container-id-1 div.sk-item {position: relative;z-index: 1;}#sk-container-id-1 div.sk-parallel {display: flex;align-items: stretch;justify-content: center;background-color: white;position: relative;}#sk-container-id-1 div.sk-item::before, #sk-container-id-1 div.sk-parallel-item::before {content: \"\";position: absolute;border-left: 1px solid gray;box-sizing: border-box;top: 0;bottom: 0;left: 50%;z-index: -1;}#sk-container-id-1 div.sk-parallel-item {display: flex;flex-direction: column;z-index: 1;position: relative;background-color: white;}#sk-container-id-1 div.sk-parallel-item:first-child::after {align-self: flex-end;width: 50%;}#sk-container-id-1 div.sk-parallel-item:last-child::after {align-self: flex-start;width: 50%;}#sk-container-id-1 div.sk-parallel-item:only-child::after {width: 0;}#sk-container-id-1 div.sk-dashed-wrapped {border: 1px dashed gray;margin: 0 0.4em 0.5em 0.4em;box-sizing: border-box;padding-bottom: 0.4em;background-color: white;}#sk-container-id-1 div.sk-label label {font-family: monospace;font-weight: bold;display: inline-block;line-height: 1.2em;}#sk-container-id-1 div.sk-label-container {text-align: center;}#sk-container-id-1 div.sk-container {/* jupyter's `normalize.less` sets `[hidden] { display: none; }` but bootstrap.min.css set `[hidden] { display: none !important; }` so we also need the `!important` here to be able to override the default hidden behavior on the sphinx rendered scikit-learn.org. See: https://github.com/scikit-learn/scikit-learn/issues/21755 */display: inline-block !important;position: relative;}#sk-container-id-1 div.sk-text-repr-fallback {display: none;}</style><div id=\"sk-container-id-1\" class=\"sk-top-container\"><div class=\"sk-text-repr-fallback\"><pre>LogisticRegression()</pre><b>In a Jupyter environment, please rerun this cell to show the HTML representation or trust the notebook. <br />On GitHub, the HTML representation is unable to render, please try loading this page with nbviewer.org.</b></div><div class=\"sk-container\" hidden><div class=\"sk-item\"><div class=\"sk-estimator sk-toggleable\"><input class=\"sk-toggleable__control sk-hidden--visually\" id=\"sk-estimator-id-1\" type=\"checkbox\" checked><label for=\"sk-estimator-id-1\" class=\"sk-toggleable__label sk-toggleable__label-arrow\">LogisticRegression</label><div class=\"sk-toggleable__content\"><pre>LogisticRegression()</pre></div></div></div></div></div>"
      ],
      "text/plain": [
       "LogisticRegression()"
      ]
     },
     "execution_count": 31,
     "metadata": {},
     "output_type": "execute_result"
    }
   ],
   "source": [
    "lr.fit(X_train, y_train)"
   ]
  },
  {
   "cell_type": "markdown",
   "id": "56b1769e-cf7c-41c9-85ec-f34aace12fb1",
   "metadata": {},
   "source": [
    "#### 6.2 Модель линейной регрессии"
   ]
  },
  {
   "cell_type": "code",
   "execution_count": 32,
   "id": "2d0665e6-68d8-46b3-838c-42b3b0ac325f",
   "metadata": {},
   "outputs": [],
   "source": [
    "lm = LinearRegression()"
   ]
  },
  {
   "cell_type": "code",
   "execution_count": 33,
   "id": "10ed591a-cee1-40be-8bb2-4118594b5131",
   "metadata": {},
   "outputs": [
    {
     "data": {
      "text/html": [
       "<style>#sk-container-id-2 {color: black;}#sk-container-id-2 pre{padding: 0;}#sk-container-id-2 div.sk-toggleable {background-color: white;}#sk-container-id-2 label.sk-toggleable__label {cursor: pointer;display: block;width: 100%;margin-bottom: 0;padding: 0.3em;box-sizing: border-box;text-align: center;}#sk-container-id-2 label.sk-toggleable__label-arrow:before {content: \"▸\";float: left;margin-right: 0.25em;color: #696969;}#sk-container-id-2 label.sk-toggleable__label-arrow:hover:before {color: black;}#sk-container-id-2 div.sk-estimator:hover label.sk-toggleable__label-arrow:before {color: black;}#sk-container-id-2 div.sk-toggleable__content {max-height: 0;max-width: 0;overflow: hidden;text-align: left;background-color: #f0f8ff;}#sk-container-id-2 div.sk-toggleable__content pre {margin: 0.2em;color: black;border-radius: 0.25em;background-color: #f0f8ff;}#sk-container-id-2 input.sk-toggleable__control:checked~div.sk-toggleable__content {max-height: 200px;max-width: 100%;overflow: auto;}#sk-container-id-2 input.sk-toggleable__control:checked~label.sk-toggleable__label-arrow:before {content: \"▾\";}#sk-container-id-2 div.sk-estimator input.sk-toggleable__control:checked~label.sk-toggleable__label {background-color: #d4ebff;}#sk-container-id-2 div.sk-label input.sk-toggleable__control:checked~label.sk-toggleable__label {background-color: #d4ebff;}#sk-container-id-2 input.sk-hidden--visually {border: 0;clip: rect(1px 1px 1px 1px);clip: rect(1px, 1px, 1px, 1px);height: 1px;margin: -1px;overflow: hidden;padding: 0;position: absolute;width: 1px;}#sk-container-id-2 div.sk-estimator {font-family: monospace;background-color: #f0f8ff;border: 1px dotted black;border-radius: 0.25em;box-sizing: border-box;margin-bottom: 0.5em;}#sk-container-id-2 div.sk-estimator:hover {background-color: #d4ebff;}#sk-container-id-2 div.sk-parallel-item::after {content: \"\";width: 100%;border-bottom: 1px solid gray;flex-grow: 1;}#sk-container-id-2 div.sk-label:hover label.sk-toggleable__label {background-color: #d4ebff;}#sk-container-id-2 div.sk-serial::before {content: \"\";position: absolute;border-left: 1px solid gray;box-sizing: border-box;top: 0;bottom: 0;left: 50%;z-index: 0;}#sk-container-id-2 div.sk-serial {display: flex;flex-direction: column;align-items: center;background-color: white;padding-right: 0.2em;padding-left: 0.2em;position: relative;}#sk-container-id-2 div.sk-item {position: relative;z-index: 1;}#sk-container-id-2 div.sk-parallel {display: flex;align-items: stretch;justify-content: center;background-color: white;position: relative;}#sk-container-id-2 div.sk-item::before, #sk-container-id-2 div.sk-parallel-item::before {content: \"\";position: absolute;border-left: 1px solid gray;box-sizing: border-box;top: 0;bottom: 0;left: 50%;z-index: -1;}#sk-container-id-2 div.sk-parallel-item {display: flex;flex-direction: column;z-index: 1;position: relative;background-color: white;}#sk-container-id-2 div.sk-parallel-item:first-child::after {align-self: flex-end;width: 50%;}#sk-container-id-2 div.sk-parallel-item:last-child::after {align-self: flex-start;width: 50%;}#sk-container-id-2 div.sk-parallel-item:only-child::after {width: 0;}#sk-container-id-2 div.sk-dashed-wrapped {border: 1px dashed gray;margin: 0 0.4em 0.5em 0.4em;box-sizing: border-box;padding-bottom: 0.4em;background-color: white;}#sk-container-id-2 div.sk-label label {font-family: monospace;font-weight: bold;display: inline-block;line-height: 1.2em;}#sk-container-id-2 div.sk-label-container {text-align: center;}#sk-container-id-2 div.sk-container {/* jupyter's `normalize.less` sets `[hidden] { display: none; }` but bootstrap.min.css set `[hidden] { display: none !important; }` so we also need the `!important` here to be able to override the default hidden behavior on the sphinx rendered scikit-learn.org. See: https://github.com/scikit-learn/scikit-learn/issues/21755 */display: inline-block !important;position: relative;}#sk-container-id-2 div.sk-text-repr-fallback {display: none;}</style><div id=\"sk-container-id-2\" class=\"sk-top-container\"><div class=\"sk-text-repr-fallback\"><pre>LinearRegression()</pre><b>In a Jupyter environment, please rerun this cell to show the HTML representation or trust the notebook. <br />On GitHub, the HTML representation is unable to render, please try loading this page with nbviewer.org.</b></div><div class=\"sk-container\" hidden><div class=\"sk-item\"><div class=\"sk-estimator sk-toggleable\"><input class=\"sk-toggleable__control sk-hidden--visually\" id=\"sk-estimator-id-2\" type=\"checkbox\" checked><label for=\"sk-estimator-id-2\" class=\"sk-toggleable__label sk-toggleable__label-arrow\">LinearRegression</label><div class=\"sk-toggleable__content\"><pre>LinearRegression()</pre></div></div></div></div></div>"
      ],
      "text/plain": [
       "LinearRegression()"
      ]
     },
     "execution_count": 33,
     "metadata": {},
     "output_type": "execute_result"
    }
   ],
   "source": [
    "lm.fit(X_train, y_train)"
   ]
  },
  {
   "cell_type": "markdown",
   "id": "a4b5cedc-22b7-44d6-8f9e-914966d9ce9d",
   "metadata": {},
   "source": [
    "### 7. Оценка качества модели"
   ]
  },
  {
   "cell_type": "markdown",
   "id": "76597e15-d0c0-407b-b72e-5623f3b3155a",
   "metadata": {},
   "source": [
    "#### 7.1 Оцетка качества модели логичтической регрессии"
   ]
  },
  {
   "cell_type": "code",
   "execution_count": 34,
   "id": "c5e85155-2859-4bd9-9848-b4eb7f5f5a38",
   "metadata": {},
   "outputs": [],
   "source": [
    "y_pred = lr.predict(X_test)"
   ]
  },
  {
   "cell_type": "code",
   "execution_count": 35,
   "id": "8cbcf8a0-e8f1-4236-9942-97dcd875cd1d",
   "metadata": {},
   "outputs": [
    {
     "data": {
      "text/plain": [
       "0.6486486486486487"
      ]
     },
     "execution_count": 35,
     "metadata": {},
     "output_type": "execute_result"
    }
   ],
   "source": [
    "accuracy_score(y_test, y_pred)"
   ]
  },
  {
   "cell_type": "markdown",
   "id": "6c49d4fe-5215-4354-8294-76711f487572",
   "metadata": {},
   "source": [
    "#### 7.2 Оценка качества модели линейной регрессии"
   ]
  },
  {
   "cell_type": "code",
   "execution_count": 36,
   "id": "8fca7b06-ce1e-44ba-95dc-f0377f3d5067",
   "metadata": {},
   "outputs": [],
   "source": [
    "# Делаем прогноз целевой переменной y_pred:\n",
    "y_pred = lm.predict(X_test)"
   ]
  },
  {
   "cell_type": "code",
   "execution_count": 37,
   "id": "a35d47d8-79bc-4144-a4a9-f497b2f55087",
   "metadata": {},
   "outputs": [
    {
     "name": "stdout",
     "output_type": "stream",
     "text": [
      "R2: 0.3411888950363978\n"
     ]
    }
   ],
   "source": [
    "# Рассчитаем коэффициент детерминации\n",
    "print(f'R2: {metrics.r2_score(y_test, y_pred)}')"
   ]
  },
  {
   "cell_type": "markdown",
   "id": "c146f2ac-c726-4e0f-8e40-9ac40f0a627d",
   "metadata": {},
   "source": [
    "**Вывод:** В наших данных присутствует проблема сбалансированности выборки ('1' составляет более половины оценок пользователя), это могло повлиять на качество построенных моделей."
   ]
  },
  {
   "cell_type": "markdown",
   "id": "a0030dce-5d16-4c3f-b024-608b35423913",
   "metadata": {},
   "source": [
    "## Вторая часть практики Python"
   ]
  },
  {
   "cell_type": "code",
   "execution_count": 40,
   "id": "64ae0994-17e7-41de-be3f-716b9c90a67d",
   "metadata": {},
   "outputs": [
    {
     "name": "stdout",
     "output_type": "stream",
     "text": [
      "Collecting pyspark\n",
      "  Downloading pyspark-3.5.0.tar.gz (316.9 MB)\n",
      "\u001b[2K     \u001b[38;2;114;156;31m━━━━━━━━━━━━━━━━━━━━━━━━━━━━━━━━━━━━━━━\u001b[0m \u001b[32m316.9/316.9 MB\u001b[0m \u001b[31m5.8 MB/s\u001b[0m eta \u001b[36m0:00:00\u001b[0mm eta \u001b[36m0:00:01\u001b[0m[36m0:00:01\u001b[0m\n",
      "\u001b[?25h  Installing build dependencies ... \u001b[?25ldone\n",
      "\u001b[?25h  Getting requirements to build wheel ... \u001b[?25ldone\n",
      "\u001b[?25h  Preparing metadata (pyproject.toml) ... \u001b[?25ldone\n",
      "\u001b[?25hCollecting py4j==0.10.9.7 (from pyspark)\n",
      "  Using cached py4j-0.10.9.7-py2.py3-none-any.whl (200 kB)\n",
      "Building wheels for collected packages: pyspark\n",
      "  Building wheel for pyspark (pyproject.toml) ... \u001b[?25ldone\n",
      "\u001b[?25h  Created wheel for pyspark: filename=pyspark-3.5.0-py2.py3-none-any.whl size=317425344 sha256=35daa974142cee32e088e92e463bc2c3245b85bd0fe345c82a4d0ea517bb34f8\n",
      "  Stored in directory: /home/andrew/.cache/pip/wheels/38/df/61/8c121f50c3cffd77f8178180dd232d90b3b99d1bd61fb6d6be\n",
      "Successfully built pyspark\n",
      "Installing collected packages: py4j, pyspark\n",
      "Successfully installed py4j-0.10.9.7 pyspark-3.5.0\n"
     ]
    }
   ],
   "source": [
    "#!pip install pyspark"
   ]
  },
  {
   "cell_type": "code",
   "execution_count": 127,
   "id": "4d1dc6ee-7b4a-4fc4-a7b7-084fc998947e",
   "metadata": {},
   "outputs": [],
   "source": [
    "from pyspark.sql import SparkSession\n",
    "import pyspark.sql.functions as F\n",
    "from pyspark.sql.functions import sum,count"
   ]
  },
  {
   "cell_type": "code",
   "execution_count": 43,
   "id": "0ae8cca0-5206-4fdb-b161-807c32465a07",
   "metadata": {},
   "outputs": [],
   "source": [
    "spark = SparkSession.builder.getOrCreate()"
   ]
  },
  {
   "cell_type": "code",
   "execution_count": 44,
   "id": "0d82a43e-ff1a-4b6a-88c0-0243da1274ab",
   "metadata": {},
   "outputs": [
    {
     "data": {
      "text/html": [
       "\n",
       "            <div>\n",
       "                <p><b>SparkSession - in-memory</b></p>\n",
       "                \n",
       "        <div>\n",
       "            <p><b>SparkContext</b></p>\n",
       "\n",
       "            <p><a href=\"http://fedora:4040\">Spark UI</a></p>\n",
       "\n",
       "            <dl>\n",
       "              <dt>Version</dt>\n",
       "                <dd><code>v3.4.1</code></dd>\n",
       "              <dt>Master</dt>\n",
       "                <dd><code>local[*]</code></dd>\n",
       "              <dt>AppName</dt>\n",
       "                <dd><code>pyspark-shell</code></dd>\n",
       "            </dl>\n",
       "        </div>\n",
       "        \n",
       "            </div>\n",
       "        "
      ],
      "text/plain": [
       "<pyspark.sql.session.SparkSession at 0x7f98a079d290>"
      ]
     },
     "execution_count": 44,
     "metadata": {},
     "output_type": "execute_result"
    }
   ],
   "source": [
    "spark"
   ]
  },
  {
   "cell_type": "markdown",
   "id": "22d2adfe-1709-44d4-8ef4-e5d0d9d67131",
   "metadata": {},
   "source": [
    "### 8. Загружаем данные в Spark"
   ]
  },
  {
   "cell_type": "code",
   "execution_count": 55,
   "id": "6f8dc56f-c11a-4fd9-8a7b-b011cfce9915",
   "metadata": {},
   "outputs": [],
   "source": [
    "ratings_df = spark.read.csv('datas_abd/u.data.csv', inferSchema=True, header=False, sep='\\t')"
   ]
  },
  {
   "cell_type": "code",
   "execution_count": 58,
   "id": "c45bb626-fd85-4c5d-b2bf-e39f0f2c8327",
   "metadata": {},
   "outputs": [],
   "source": [
    "ratings_df = ratings_df.toDF('user_id', 'movie_id', 'rating', 'timestamp')"
   ]
  },
  {
   "cell_type": "code",
   "execution_count": 60,
   "id": "c84a9fd8-b320-4030-bf78-d2306dbd94af",
   "metadata": {},
   "outputs": [
    {
     "name": "stdout",
     "output_type": "stream",
     "text": [
      "+-------+--------+------+---------+\n",
      "|user_id|movie_id|rating|timestamp|\n",
      "+-------+--------+------+---------+\n",
      "|    196|     242|     3|881250949|\n",
      "|    186|     302|     3|891717742|\n",
      "|     22|     377|     1|878887116|\n",
      "|    244|      51|     2|880606923|\n",
      "|    166|     346|     1|886397596|\n",
      "+-------+--------+------+---------+\n",
      "only showing top 5 rows\n",
      "\n"
     ]
    }
   ],
   "source": [
    "ratings_df.show(5)"
   ]
  },
  {
   "cell_type": "code",
   "execution_count": 61,
   "id": "ea10ec87-5ce4-42f2-8cf3-26494e799d78",
   "metadata": {},
   "outputs": [],
   "source": [
    "movies_df = spark.read.csv('datas_abd/u.item.csv', inferSchema=True, header=False, sep='|')"
   ]
  },
  {
   "cell_type": "code",
   "execution_count": 65,
   "id": "ad6b1bab-a118-4c89-b1c5-3bb2561bfd89",
   "metadata": {},
   "outputs": [],
   "source": [
    "movies_df = movies_df.toDF('movie_id', 'movie_title', 'release_date', 'video_release_date',\n",
    "                'IMDb_URL', 'unknown', 'Action', 'Adventure', 'Animation', 'Children',\n",
    "                'Comedy', 'Crime', 'Documentary', 'Drama', 'Fantasy', 'Film_Noir',\n",
    "                'Horror', 'Musical', 'Mystery', 'Romance', 'Sci_Fi', 'Thriller', 'War', 'Western')"
   ]
  },
  {
   "cell_type": "code",
   "execution_count": 66,
   "id": "d70a4fd7-3537-41ce-b453-67b977e98166",
   "metadata": {},
   "outputs": [
    {
     "name": "stdout",
     "output_type": "stream",
     "text": [
      "-RECORD 0----------------------------------\n",
      " movie_id           | 1                    \n",
      " movie_title        | Toy Story (1995)     \n",
      " release_date       | 01-Jan-1995          \n",
      " video_release_date | null                 \n",
      " IMDb_URL           | http://us.imdb.co... \n",
      " unknown            | 0                    \n",
      " Action             | 0                    \n",
      " Adventure          | 0                    \n",
      " Animation          | 1                    \n",
      " Children           | 1                    \n",
      " Comedy             | 1                    \n",
      " Crime              | 0                    \n",
      " Documentary        | 0                    \n",
      " Drama              | 0                    \n",
      " Fantasy            | 0                    \n",
      " Film_Noir          | 0                    \n",
      " Horror             | 0                    \n",
      " Musical            | 0                    \n",
      " Mystery            | 0                    \n",
      " Romance            | 0                    \n",
      " Sci_Fi             | 0                    \n",
      " Thriller           | 0                    \n",
      " War                | 0                    \n",
      " Western            | 0                    \n",
      "only showing top 1 row\n",
      "\n"
     ]
    }
   ],
   "source": [
    "movies_df.show(1, vertical=True)"
   ]
  },
  {
   "cell_type": "markdown",
   "id": "c8325092-9d6f-4baa-a3ee-3d545e84357e",
   "metadata": {},
   "source": [
    "### 9. Выводим среднюю оценку для каждого фильма"
   ]
  },
  {
   "cell_type": "code",
   "execution_count": 83,
   "id": "5a2cbe34-e422-4f4b-bd20-3b9bae5ac4c4",
   "metadata": {},
   "outputs": [
    {
     "name": "stdout",
     "output_type": "stream",
     "text": [
      "+--------+-----------------+--------------------+\n",
      "|movie_id|      avg(rating)|         movie_title|\n",
      "+--------+-----------------+--------------------+\n",
      "|    1467|              5.0|Saint of Fort Was...|\n",
      "|    1653|              5.0|Entertaining Ange...|\n",
      "|    1500|              5.0|Santa with Muscle...|\n",
      "|    1201|              5.0|Marlene Dietrich:...|\n",
      "|    1599|              5.0|Someone Else's Am...|\n",
      "|    1122|              5.0|They Made Me a Cr...|\n",
      "|    1189|              5.0|  Prefontaine (1997)|\n",
      "|    1293|              5.0|     Star Kid (1997)|\n",
      "|    1536|              5.0|Aiqing wansui (1994)|\n",
      "|     814|              5.0|Great Day in Harl...|\n",
      "|    1449|            4.625|Pather Panchali (...|\n",
      "|    1642|              4.5|Some Mother's Son...|\n",
      "|    1398|              4.5|         Anna (1996)|\n",
      "|    1594|              4.5|      Everest (1998)|\n",
      "|     119|              4.5|Maya Lin: A Stron...|\n",
      "|     408|4.491071428571429|Close Shave, A (1...|\n",
      "|     318|4.466442953020135|Schindler's List ...|\n",
      "|     169|4.466101694915254|Wrong Trousers, T...|\n",
      "|     483| 4.45679012345679|   Casablanca (1942)|\n",
      "|     114|4.447761194029851|Wallace & Gromit:...|\n",
      "+--------+-----------------+--------------------+\n",
      "only showing top 20 rows\n",
      "\n"
     ]
    }
   ],
   "source": [
    "movie_avg = ratings_df.groupBy('movie_id').avg('rating')\n",
    "movies_titles = movies_df.select('movie_id', 'movie_title')\n",
    "movie_avg = movie_avg.join(movies_titles, 'movie_id', how='left').orderBy(F.col('avg(rating)').desc())\n",
    "movie_avg.show()"
   ]
  },
  {
   "cell_type": "markdown",
   "id": "1e9acc63-bf0c-4da2-a690-8de3192431c6",
   "metadata": {},
   "source": [
    "### 10. Считаем сруднюю оценку для каждого жанра"
   ]
  },
  {
   "cell_type": "code",
   "execution_count": 113,
   "id": "6592dcd4-9097-47fe-abf9-721d25090c38",
   "metadata": {},
   "outputs": [],
   "source": [
    "joined_df = movies_df.join(ratings_df, 'movie_id', how='left')"
   ]
  },
  {
   "cell_type": "code",
   "execution_count": 111,
   "id": "2f19590b-a52a-4790-b54a-3e22ab708a9b",
   "metadata": {},
   "outputs": [],
   "source": [
    "genres = ['unknown', 'Action', 'Adventure', 'Animation', 'Children',\n",
    "          'Comedy', 'Crime', 'Documentary', 'Drama', 'Fantasy', 'Film_Noir',\n",
    "          'Horror', 'Musical', 'Mystery', 'Romance', 'Sci_Fi', 'Thriller', 'War', 'Western']"
   ]
  },
  {
   "cell_type": "code",
   "execution_count": 112,
   "id": "00fc2193-2da9-4aa9-a5c1-2f995e45e67f",
   "metadata": {},
   "outputs": [
    {
     "name": "stdout",
     "output_type": "stream",
     "text": [
      "+-------+-----------+\n",
      "|unknown|avg(rating)|\n",
      "+-------+-----------+\n",
      "|      1|        3.2|\n",
      "+-------+-----------+\n",
      "\n",
      "+------+-----------------+\n",
      "|Action|      avg(rating)|\n",
      "+------+-----------------+\n",
      "|     1|3.480245417953027|\n",
      "+------+-----------------+\n",
      "\n",
      "+---------+-----------------+\n",
      "|Adventure|      avg(rating)|\n",
      "+---------+-----------------+\n",
      "|        1|3.503526503308369|\n",
      "+---------+-----------------+\n",
      "\n",
      "+---------+------------------+\n",
      "|Animation|       avg(rating)|\n",
      "+---------+------------------+\n",
      "|        1|3.5766990291262135|\n",
      "+---------+------------------+\n",
      "\n",
      "+--------+------------------+\n",
      "|Children|       avg(rating)|\n",
      "+--------+------------------+\n",
      "|       1|3.3532442216652742|\n",
      "+--------+------------------+\n",
      "\n",
      "+------+------------------+\n",
      "|Comedy|       avg(rating)|\n",
      "+------+------------------+\n",
      "|     1|3.3940734781442745|\n",
      "+------+------------------+\n",
      "\n",
      "+-----+------------------+\n",
      "|Crime|       avg(rating)|\n",
      "+-----+------------------+\n",
      "|    1|3.6322780881440098|\n",
      "+-----+------------------+\n",
      "\n",
      "+-----------+------------------+\n",
      "|Documentary|       avg(rating)|\n",
      "+-----------+------------------+\n",
      "|          1|3.6728232189973613|\n",
      "+-----------+------------------+\n",
      "\n",
      "+-----+------------------+\n",
      "|Drama|       avg(rating)|\n",
      "+-----+------------------+\n",
      "|    1|3.6873793708484772|\n",
      "+-----+------------------+\n",
      "\n",
      "+-------+------------------+\n",
      "|Fantasy|       avg(rating)|\n",
      "+-------+------------------+\n",
      "|      1|3.2152366863905324|\n",
      "+-------+------------------+\n",
      "\n",
      "+---------+------------------+\n",
      "|Film_Noir|       avg(rating)|\n",
      "+---------+------------------+\n",
      "|        1|3.9215233698788228|\n",
      "+---------+------------------+\n",
      "\n",
      "+------+------------------+\n",
      "|Horror|       avg(rating)|\n",
      "+------+------------------+\n",
      "|     1|3.2903893172841827|\n",
      "+------+------------------+\n",
      "\n",
      "+-------+-----------------+\n",
      "|Musical|      avg(rating)|\n",
      "+-------+-----------------+\n",
      "|      1|3.521396851029471|\n",
      "+-------+-----------------+\n",
      "\n",
      "+-------+----------------+\n",
      "|Mystery|     avg(rating)|\n",
      "+-------+----------------+\n",
      "|      1|3.63813155386082|\n",
      "+-------+----------------+\n",
      "\n",
      "+-------+-----------------+\n",
      "|Romance|      avg(rating)|\n",
      "+-------+-----------------+\n",
      "|      1|3.621704948358255|\n",
      "+-------+-----------------+\n",
      "\n",
      "+------+------------------+\n",
      "|Sci_Fi|       avg(rating)|\n",
      "+------+------------------+\n",
      "|     1|3.5607227022780834|\n",
      "+------+------------------+\n",
      "\n",
      "+--------+------------------+\n",
      "|Thriller|       avg(rating)|\n",
      "+--------+------------------+\n",
      "|       1|3.5090069495245064|\n",
      "+--------+------------------+\n",
      "\n",
      "+---+-----------------+\n",
      "|War|      avg(rating)|\n",
      "+---+-----------------+\n",
      "|  1|3.815811874866993|\n",
      "+---+-----------------+\n",
      "\n",
      "+-------+------------------+\n",
      "|Western|       avg(rating)|\n",
      "+-------+------------------+\n",
      "|      1|3.6132686084142396|\n",
      "+-------+------------------+\n",
      "\n"
     ]
    }
   ],
   "source": [
    "for i in genres:\n",
    "    joined_df.where((joined_df[i] == 1)).groupBy(i).avg('rating').show()"
   ]
  },
  {
   "cell_type": "markdown",
   "id": "97bc24c0-a357-4dd3-bcff-d17e38b21873",
   "metadata": {},
   "source": [
    "### 11. Датафреймы top_5 самыx популярныx и самыx непопулярных фильмов (по сумме баллов и по количеству оценок)"
   ]
  },
  {
   "cell_type": "code",
   "execution_count": 138,
   "id": "65bd8734-2d96-4126-94ce-7f1b8e2780a3",
   "metadata": {},
   "outputs": [
    {
     "name": "stdout",
     "output_type": "stream",
     "text": [
      "+--------------------+----------+------------+\n",
      "|         movie_title|rating_sum|rating_count|\n",
      "+--------------------+----------+------------+\n",
      "|    Star Wars (1977)|      2541|         583|\n",
      "|        Fargo (1996)|      2111|         508|\n",
      "|Return of the Jed...|      2032|         507|\n",
      "|      Contact (1997)|      1936|         509|\n",
      "|Raiders of the Lo...|      1786|         420|\n",
      "+--------------------+----------+------------+\n",
      "only showing top 5 rows\n",
      "\n"
     ]
    }
   ],
   "source": [
    "top5_max_rating_sum = joined_df.groupBy('movie_title').agg(sum('rating').alias('rating_sum'),\\\n",
    "                                    count('rating').alias('rating_count'))\\\n",
    "                                .orderBy(F.col('rating_sum').desc())\n",
    "top5_max_rating_sum.show(5)"
   ]
  },
  {
   "cell_type": "code",
   "execution_count": 140,
   "id": "e49efbe0-4144-42fc-98eb-d66e7c0d6532",
   "metadata": {},
   "outputs": [
    {
     "name": "stdout",
     "output_type": "stream",
     "text": [
      "+--------------------+----------+------------+\n",
      "|         movie_title|rating_sum|rating_count|\n",
      "+--------------------+----------+------------+\n",
      "|    Star Wars (1977)|      2541|         583|\n",
      "|      Contact (1997)|      1936|         509|\n",
      "|        Fargo (1996)|      2111|         508|\n",
      "|Return of the Jed...|      2032|         507|\n",
      "|    Liar Liar (1997)|      1531|         485|\n",
      "+--------------------+----------+------------+\n",
      "only showing top 5 rows\n",
      "\n"
     ]
    }
   ],
   "source": [
    "top5_max_rating_count = joined_df.groupBy('movie_title').agg(sum('rating').alias('rating_sum'),\\\n",
    "                                    count('rating').alias('rating_count'))\\\n",
    "                                .orderBy(F.col('rating_count').desc())\n",
    "top5_max_rating_count.show(5)"
   ]
  },
  {
   "cell_type": "code",
   "execution_count": 141,
   "id": "b21db03a-ec6d-47d8-b3a1-c1e21dc1ac99",
   "metadata": {},
   "outputs": [
    {
     "name": "stdout",
     "output_type": "stream",
     "text": [
      "+--------------------+----------+------------+\n",
      "|         movie_title|rating_sum|rating_count|\n",
      "+--------------------+----------+------------+\n",
      "|Leopard Son, The ...|         1|           1|\n",
      "|Girl in the Cadil...|         1|           1|\n",
      "|Lashou shentan (1...|         1|           1|\n",
      "|Vie est belle, La...|         1|           1|\n",
      "|Tigrero: A Film T...|         1|           1|\n",
      "+--------------------+----------+------------+\n",
      "only showing top 5 rows\n",
      "\n"
     ]
    }
   ],
   "source": [
    "top5_min_rating_sum = joined_df.groupBy('movie_title').agg(sum('rating').alias('rating_sum'),\\\n",
    "                                    count('rating').alias('rating_count'))\\\n",
    "                                .orderBy('rating_sum')\n",
    "top5_min_rating_sum.show(5)"
   ]
  },
  {
   "cell_type": "code",
   "execution_count": null,
   "id": "fe5e934e-cc00-4209-8931-7cf4e76d0b43",
   "metadata": {},
   "outputs": [],
   "source": []
  }
 ],
 "metadata": {
  "kernelspec": {
   "display_name": "Python 3 (ipykernel)",
   "language": "python",
   "name": "python3"
  },
  "language_info": {
   "codemirror_mode": {
    "name": "ipython",
    "version": 3
   },
   "file_extension": ".py",
   "mimetype": "text/x-python",
   "name": "python",
   "nbconvert_exporter": "python",
   "pygments_lexer": "ipython3",
   "version": "3.11.5"
  }
 },
 "nbformat": 4,
 "nbformat_minor": 5
}
