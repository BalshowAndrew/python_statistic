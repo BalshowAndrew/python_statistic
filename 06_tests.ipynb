{
 "cells": [
  {
   "cell_type": "markdown",
   "id": "a087b278-e104-4672-a4cc-4682c3bcb025",
   "metadata": {},
   "source": [
    "## Тренажер"
   ]
  },
  {
   "cell_type": "code",
   "execution_count": 1,
   "id": "93e81351-0602-49ab-8b3c-868969c7137f",
   "metadata": {},
   "outputs": [],
   "source": [
    "import numpy as np\n",
    "import scipy.stats as st\n",
    "import pandas as pd\n",
    "import math\n",
    "import matplotlib.pyplot as plt"
   ]
  },
  {
   "cell_type": "markdown",
   "id": "5744195e-8a73-4ec6-b9c4-6e48e0e3392e",
   "metadata": {},
   "source": [
    "### Задание_1\n",
    "\n",
    "Определите размер необходимой выборки для исследования среднего чека за кофе в городе N, если известны следующие параметры:\n",
    "- погрешность (Δ);\n",
    "- дисперсия (σ2);\n",
    "- уровень доверия (1-α).\n",
    "\n",
    "Ответ округлите до целого.\n",
    "\n",
    "Внимание: не удаляйте код ниже, а дополните его. Функция нужна для проверки вашего решения."
   ]
  },
  {
   "cell_type": "markdown",
   "id": "63e0b687-143a-4ad3-9952-17edb0cd8e9e",
   "metadata": {},
   "source": [
    "#### Поиск критического значения Z"
   ]
  },
  {
   "cell_type": "code",
   "execution_count": 3,
   "id": "39de5716-d081-438b-ad94-b4154dd5111e",
   "metadata": {},
   "outputs": [],
   "source": [
    "delta = 5\n",
    "sigsqr = 225\n",
    "conf = 0.95"
   ]
  },
  {
   "cell_type": "code",
   "execution_count": 6,
   "id": "54105adc-8a49-4d3e-ac38-c416a213cf0a",
   "metadata": {},
   "outputs": [
    {
     "data": {
      "text/plain": [
       "-1.6448536269514722"
      ]
     },
     "execution_count": 6,
     "metadata": {},
     "output_type": "execute_result"
    }
   ],
   "source": [
    "# левосторонний тест\n",
    "z = st.norm.ppf(1 - conf)\n",
    "z"
   ]
  },
  {
   "cell_type": "code",
   "execution_count": 8,
   "id": "1a862794-3d37-4c5a-905a-c6908f8cae61",
   "metadata": {},
   "outputs": [
    {
     "data": {
      "text/plain": [
       "1.6448536269514722"
      ]
     },
     "execution_count": 8,
     "metadata": {},
     "output_type": "execute_result"
    }
   ],
   "source": [
    "# правосторонний тест\n",
    "z = st.norm.ppf(conf)\n",
    "z"
   ]
  },
  {
   "cell_type": "code",
   "execution_count": 10,
   "id": "014bd2af-45c5-4d07-9125-7aef1d9632d2",
   "metadata": {},
   "outputs": [
    {
     "data": {
      "text/plain": [
       "1.959963984540054"
      ]
     },
     "execution_count": 10,
     "metadata": {},
     "output_type": "execute_result"
    }
   ],
   "source": [
    "# двусторонний тест\n",
    "z = st.norm.ppf(1 - (1 - conf) / 2)\n",
    "z"
   ]
  },
  {
   "cell_type": "code",
   "execution_count": 21,
   "id": "4112d371-ba4f-4036-81a9-4143bc049347",
   "metadata": {},
   "outputs": [],
   "source": [
    "def sample(delta, sigsqr, conf):\n",
    "    z = st.norm.ppf(1 - (1 - conf) / 2)\n",
    "    n = sigsqr * (z / delta) ** 2\n",
    "    return int(np.ceil(n))"
   ]
  },
  {
   "cell_type": "code",
   "execution_count": 22,
   "id": "f10e23f4-f2fb-4852-a2cd-4bee98b34db2",
   "metadata": {},
   "outputs": [
    {
     "data": {
      "text/plain": [
       "35"
      ]
     },
     "execution_count": 22,
     "metadata": {},
     "output_type": "execute_result"
    }
   ],
   "source": [
    "sample(delta, sigsqr, conf)"
   ]
  },
  {
   "cell_type": "code",
   "execution_count": 45,
   "id": "bb316694-f438-415a-a644-f8f97be71b5b",
   "metadata": {},
   "outputs": [],
   "source": [
    "def sample(delta, sigsqr, conf):\n",
    "    z = st.norm.ppf((1 + conf) / 2)\n",
    "    n = sigsqr * z ** 2 / delta ** 2\n",
    "    return round(np.ceil(n))"
   ]
  },
  {
   "cell_type": "code",
   "execution_count": 46,
   "id": "5371a4d7-cb6d-4899-8aac-656ff1608712",
   "metadata": {},
   "outputs": [
    {
     "data": {
      "text/plain": [
       "35"
      ]
     },
     "execution_count": 46,
     "metadata": {},
     "output_type": "execute_result"
    }
   ],
   "source": [
    "sample(delta, sigsqr, conf)"
   ]
  },
  {
   "cell_type": "markdown",
   "id": "7212566d-5343-46d8-8470-4d994d81db12",
   "metadata": {
    "jp-MarkdownHeadingCollapsed": true
   },
   "source": [
    "### Задание_2\n",
    "Постройте доверительный интервал для среднего значения, если известны:\n",
    "- объём выборки (n) от 10 до 26;\n",
    "- среднее значение по выборке (x¯);\n",
    "- стандартное отклонение (σ).\n",
    "\n",
    "В ответе укажите длину полученного доверительного интервала - разницу между правым и левым концом, - округлённую до целого.\n",
    "\n",
    "Подсказка: при малом размере выборки предпочтительнее использовать t-распределение из модуля scipy."
   ]
  },
  {
   "cell_type": "code",
   "execution_count": 54,
   "id": "4119983f-ff47-4e63-8ef7-8ac75e227d16",
   "metadata": {},
   "outputs": [],
   "source": [
    "def interval(n, mean, sig, conf):\n",
    "    ci_lower, ci_upper = st.t.interval(\n",
    "        confidence = conf,\n",
    "        df = n - 1,\n",
    "        loc = mean,\n",
    "        scale = sig / np.sqrt(n)       \n",
    "    )\n",
    "    return round(ci_upper - ci_lower)"
   ]
  },
  {
   "cell_type": "code",
   "execution_count": 55,
   "id": "c22e30eb-a24e-402f-8758-cda972fc9249",
   "metadata": {},
   "outputs": [
    {
     "data": {
      "text/plain": [
       "7"
      ]
     },
     "execution_count": 55,
     "metadata": {},
     "output_type": "execute_result"
    }
   ],
   "source": [
    "interval(26, 54.3, 9.2, 0.95)"
   ]
  },
  {
   "cell_type": "code",
   "execution_count": 59,
   "id": "a4c8d1bf-7072-4ded-a15c-d8ef3ba7c31b",
   "metadata": {},
   "outputs": [],
   "source": [
    "def interval(n, mean, sig, conf):\n",
    "    h = st.t.interval(\n",
    "        confidence = conf,\n",
    "        df = n - 1,\n",
    "        loc = mean,\n",
    "        scale = sig / np.sqrt(n)       \n",
    "    )\n",
    "    print(h)\n",
    "    return round(h[1] - h[0])"
   ]
  },
  {
   "cell_type": "code",
   "execution_count": 60,
   "id": "22723aea-2d80-43f1-85f5-29e041b19b59",
   "metadata": {},
   "outputs": [
    {
     "name": "stdout",
     "output_type": "stream",
     "text": [
      "(50.5840395815666, 58.015960418433394)\n"
     ]
    },
    {
     "data": {
      "text/plain": [
       "7"
      ]
     },
     "execution_count": 60,
     "metadata": {},
     "output_type": "execute_result"
    }
   ],
   "source": [
    "interval(26, 54.3, 9.2, 0.95)"
   ]
  },
  {
   "cell_type": "markdown",
   "id": "2a7b0c0b-8396-4da9-afe0-47048dc2fc58",
   "metadata": {},
   "source": [
    "### Задание_3\n",
    "Постройте доверительный интервал для среднего значения, если известны:\n",
    "- объём выборки (n) от 30 до 50;\n",
    "- среднее значение по выборке (x¯);\n",
    "- стандартное отклонение (σ).\n",
    "\n",
    "В ответе укажите длину полученного доверительного интервала — разницу между правым и левым концом, — округлённую до целого.\n",
    "\n",
    "Подсказка: при малом размере выборки предпочтительнее использовать t-распределение из модуля scipy."
   ]
  },
  {
   "cell_type": "code",
   "execution_count": 63,
   "id": "7573bbea-81c7-402a-a195-a185630f8916",
   "metadata": {},
   "outputs": [],
   "source": [
    "def interval(n, mean, sig, conf):\n",
    "    h = st.norm.interval(\n",
    "        confidence = conf,\n",
    "        loc = mean,\n",
    "        scale = sig / np.sqrt(n)\n",
    "    )\n",
    "    print(h)\n",
    "    return round(h[1] - h[0])"
   ]
  },
  {
   "cell_type": "code",
   "execution_count": 64,
   "id": "3275b21c-ee13-4bb2-9f47-fab283fdde98",
   "metadata": {},
   "outputs": [
    {
     "name": "stdout",
     "output_type": "stream",
     "text": [
      "(11.856063135060033, 14.543936864939965)\n"
     ]
    },
    {
     "data": {
      "text/plain": [
       "3"
      ]
     },
     "execution_count": 64,
     "metadata": {},
     "output_type": "execute_result"
    }
   ],
   "source": [
    "interval(45, 13.2, 3.5, 0.99)"
   ]
  },
  {
   "cell_type": "markdown",
   "id": "c323c169-06b1-44e9-bb02-b240437d2900",
   "metadata": {},
   "source": [
    "### Задание_4\n",
    "Профессор университета читал онлайн-лекции вместо очных занятий из-за Covid-19. Позже он загружал в облако записанные лекции для студентов, которые просматривали их в записи. Профессор считает, что учащиеся, которые посещают занятия в учебное время и участвуют в процессе, более успешны. Поэтому он записал средние оценки студентов в конце семестра, чтобы проверить эту гипотезу.\n",
    "\n",
    "С помощью статистического теста проверьте, является ли мнение профессора статистически значимым, используя уровень значимости 0,05 для оценки нулевой и альтернативной гипотез.\n",
    "\n",
    "В рамках задания считается, что данные распределены нормально, а вариация в группах одинаковая."
   ]
  },
  {
   "cell_type": "code",
   "execution_count": 70,
   "id": "7e675e52-3d72-4166-a25c-63013524a127",
   "metadata": {},
   "outputs": [],
   "source": [
    "sync = np.round(81 + 6 * np.random.standard_normal(22),1)\n",
    "asyncr = np.round(74 + 6 * np.random.standard_normal(14),1)"
   ]
  },
  {
   "cell_type": "code",
   "execution_count": 71,
   "id": "1929d2c5-edee-4f27-84d9-c5ec97af14cb",
   "metadata": {},
   "outputs": [
    {
     "name": "stdout",
     "output_type": "stream",
     "text": [
      "[76.5 69.9 80.6 80.3 86.6 79.1 80.2 78.2 80.6 73.9 86.9 77.6 82.7 83.2\n",
      " 84.2 81.6 85.  91.7 79.5 94.1 75.4 83.7]\n"
     ]
    }
   ],
   "source": [
    "print(sync)"
   ]
  },
  {
   "cell_type": "code",
   "execution_count": 72,
   "id": "5bf0daf4-f9d1-40ea-aab3-b4ef1923f4ca",
   "metadata": {},
   "outputs": [
    {
     "name": "stdout",
     "output_type": "stream",
     "text": [
      "[71.7 88.8 66.9 79.6 66.7 71.8 75.3 67.3 71.6 77.8 72.  70.5 75.8 76.6]\n"
     ]
    }
   ],
   "source": [
    "print(asyncr)"
   ]
  },
  {
   "cell_type": "code",
   "execution_count": 74,
   "id": "3ce34570-369f-4f93-9334-05f64d6425e9",
   "metadata": {},
   "outputs": [
    {
     "name": "stdout",
     "output_type": "stream",
     "text": [
      "Отклоняем нулевую гипотезу\n"
     ]
    }
   ],
   "source": [
    "# H0 - выборки не имеют стат. значимых различий\n",
    "# H1 - выборки имеют стат. значимые различия\n",
    "\n",
    "significance = 0.05\n",
    "stat, p = st.ttest_ind(sync, asyncr)\n",
    "if p < significance:\n",
    "    print('Отклоняем нулевую гипотезу')\n",
    "else:\n",
    "    print('Не отклоняем нулевую гипотезу')"
   ]
  },
  {
   "cell_type": "markdown",
   "id": "22578ada-979f-40ce-aa19-d70cae70f7de",
   "metadata": {},
   "source": [
    "### Задание_5\n",
    "Центр здоровья университета диагностировал у восемнадцати студентов высокий уровень холестерина в предыдущем семестре. Медицинский персонал рассказал этим пациентам об опасности высокого уровня холестерина и прописал диету. Через месяц больные пришли на контроль, и у них повторно проверили уровень холестерина. Проверьте, есть ли разница в уровнях холестерина у пациентов.\n",
    "\n",
    "В соответствии с этой информацией проведите проверку гипотезы, чтобы проверить, есть ли снижение уровня холестерина у пациентов после диеты, используя уровень значимости 0,05.\n",
    "\n",
    "В рамках задания считается, что данные распределены нормально, а вариация в группах одинаковая."
   ]
  },
  {
   "cell_type": "code",
   "execution_count": 75,
   "id": "3465d952-27a7-4409-8f63-a6d5a2fd2e29",
   "metadata": {},
   "outputs": [],
   "source": [
    "before_diet = np.round(239 + 15 * np.random.standard_normal(18),0)\n",
    "after_diet = np.round(206 + 15 * np.random.standard_normal(18),0)"
   ]
  },
  {
   "cell_type": "code",
   "execution_count": 76,
   "id": "5df2ba4a-6ddd-4c48-8a42-2d9d9791d32f",
   "metadata": {},
   "outputs": [
    {
     "data": {
      "text/plain": [
       "array([244., 246., 243., 209., 207., 252., 252., 235., 210., 273., 250.,\n",
       "       225., 245., 235., 258., 254., 250., 252.])"
      ]
     },
     "execution_count": 76,
     "metadata": {},
     "output_type": "execute_result"
    }
   ],
   "source": [
    "before_diet"
   ]
  },
  {
   "cell_type": "code",
   "execution_count": 77,
   "id": "83d02f25-0c0c-466c-842f-fe38f7998ec1",
   "metadata": {},
   "outputs": [
    {
     "data": {
      "text/plain": [
       "array([204., 218., 209., 205., 195., 230., 187., 214., 200., 193., 205.,\n",
       "       222., 186., 176., 203., 232., 204., 195.])"
      ]
     },
     "execution_count": 77,
     "metadata": {},
     "output_type": "execute_result"
    }
   ],
   "source": [
    "after_diet"
   ]
  },
  {
   "cell_type": "code",
   "execution_count": 78,
   "id": "34d5478d-1fb5-4ab2-bcaf-9a9778756116",
   "metadata": {},
   "outputs": [
    {
     "name": "stdout",
     "output_type": "stream",
     "text": [
      "Отклоняем нулевую гипотезу\n"
     ]
    }
   ],
   "source": [
    "# H0 - выборки не имеют стат. значимых различий\n",
    "# H1 - выборки имеют стат. значимые различия\n",
    "\n",
    "stat, p = st.ttest_rel(a = before_diet, b = after_diet)\n",
    "if p < 0.05:\n",
    "    print('Отклоняем нулевую гипотезу')\n",
    "else:\n",
    "    print('Не отклоняем нулевую гипотезу')"
   ]
  },
  {
   "cell_type": "markdown",
   "id": "9963d656-9d77-411a-b41e-e2c23991bbbf",
   "metadata": {},
   "source": [
    "### Задание_6\n",
    "Представьте, что вы хотите разоблачить “волшебника” который считает, что умеет предсказывать погоду на завтра, отвечая просто: дождь или солнце. Вы пронаблюдали за ответами “волшебника” в течении какого-то периода времени и получили некие результаты:"
   ]
  },
  {
   "cell_type": "code",
   "execution_count": 91,
   "id": "8c6fb2e1-f8f1-4bf6-861f-86c09776bd19",
   "metadata": {},
   "outputs": [
    {
     "data": {
      "text/html": [
       "<div>\n",
       "<style scoped>\n",
       "    .dataframe tbody tr th:only-of-type {\n",
       "        vertical-align: middle;\n",
       "    }\n",
       "\n",
       "    .dataframe tbody tr th {\n",
       "        vertical-align: top;\n",
       "    }\n",
       "\n",
       "    .dataframe thead th {\n",
       "        text-align: right;\n",
       "    }\n",
       "</style>\n",
       "<table border=\"1\" class=\"dataframe\">\n",
       "  <thead>\n",
       "    <tr style=\"text-align: right;\">\n",
       "      <th></th>\n",
       "      <th>Верные ответы волшебника</th>\n",
       "      <th>Неверные ответы</th>\n",
       "    </tr>\n",
       "  </thead>\n",
       "  <tbody>\n",
       "    <tr>\n",
       "      <th>Дождь</th>\n",
       "      <td>12</td>\n",
       "      <td>14</td>\n",
       "    </tr>\n",
       "    <tr>\n",
       "      <th>Солнце</th>\n",
       "      <td>34</td>\n",
       "      <td>37</td>\n",
       "    </tr>\n",
       "  </tbody>\n",
       "</table>\n",
       "</div>"
      ],
      "text/plain": [
       "        Верные ответы волшебника  Неверные ответы\n",
       "Дождь                         12               14\n",
       "Солнце                        34               37"
      ]
     },
     "execution_count": 91,
     "metadata": {},
     "output_type": "execute_result"
    }
   ],
   "source": [
    "d1 = np.random.choice(range(8,18),(1,2))\n",
    "d2 = np.random.choice(range(28,41),(1,2))\n",
    "data = np.concatenate((d1, d2), axis=0)\n",
    "observations = pd.DataFrame(data,\n",
    "                            index=['Дождь','Солнце'],\n",
    "                            columns=['Верные ответы волшебника','Неверные ответы'])\n",
    "observations"
   ]
  },
  {
   "cell_type": "markdown",
   "id": "e1ac6e0b-57c6-4554-951c-a3c8b4c996e2",
   "metadata": {},
   "source": [
    "Можно ли сказать, что маг действительно умеет предсказывать погоду? Уровень значимости принимаем за 0.05."
   ]
  },
  {
   "cell_type": "code",
   "execution_count": 92,
   "id": "91aff7b2-4277-4521-8f9b-e00bb957b420",
   "metadata": {},
   "outputs": [
    {
     "name": "stdout",
     "output_type": "stream",
     "text": [
      "Не отклоням нулевую гипотезу. Выборки, вероятно, независимы\n"
     ]
    }
   ],
   "source": [
    "oddsratio, p = st.fisher_exact(observations)\n",
    "if p < 0.05:\n",
    "    print('Отклоняем нулевую гипотезу. Есть некоторая зависимость')\n",
    "else:\n",
    "    print('Не отклоням нулевую гипотезу. Выборки, вероятно, независимы')"
   ]
  },
  {
   "cell_type": "code",
   "execution_count": null,
   "id": "44d5c369-f581-416b-b9c6-d097d1d98365",
   "metadata": {},
   "outputs": [],
   "source": []
  }
 ],
 "metadata": {
  "kernelspec": {
   "display_name": "Python 3 (ipykernel)",
   "language": "python",
   "name": "python3"
  },
  "language_info": {
   "codemirror_mode": {
    "name": "ipython",
    "version": 3
   },
   "file_extension": ".py",
   "mimetype": "text/x-python",
   "name": "python",
   "nbconvert_exporter": "python",
   "pygments_lexer": "ipython3",
   "version": "3.11.4"
  }
 },
 "nbformat": 4,
 "nbformat_minor": 5
}
