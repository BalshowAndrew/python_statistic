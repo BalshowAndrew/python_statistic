{
 "cells": [
  {
   "cell_type": "markdown",
   "id": "e715394f-361f-4d1c-bcb5-acda4030bb57",
   "metadata": {},
   "source": [
    "# Индуктивная статистика\n",
    "Максим Сахаров\n",
    "\n",
    "2023-07-28"
   ]
  },
  {
   "cell_type": "markdown",
   "id": "f8be699b-e237-4d3b-ad1c-bcd8b401598d",
   "metadata": {},
   "source": [
    "**Статистический вывод** (англ. statistical inference), также называемый **индуктивной статистикой** (англ. inferential statistics, inductive statistics) — обобщение информации из выборки для получения представления о свойствах генеральной совокупности."
   ]
  },
  {
   "cell_type": "code",
   "execution_count": 105,
   "id": "3e824db5-b1d0-4c0c-a65c-9618841e9cb1",
   "metadata": {},
   "outputs": [],
   "source": [
    "#!pip install statsmodels\n",
    "#!'/usr/bin/python3' -m pip install scikit-posthocs"
   ]
  },
  {
   "cell_type": "code",
   "execution_count": 104,
   "id": "2f2ff9f1-bef3-4dd6-bde4-e4d1ee073d2c",
   "metadata": {},
   "outputs": [],
   "source": [
    "import numpy as np\n",
    "import scipy.stats as st\n",
    "import pandas as pd\n",
    "import math\n",
    "import matplotlib.pyplot as plt\n",
    "import seaborn as sns\n",
    "import scikit_posthocs as sp\n",
    "\n",
    "from statsmodels.stats.multicomp import pairwise_tukeyhsd\n",
    "from statsmodels.stats.power import tt_solve_power"
   ]
  },
  {
   "cell_type": "markdown",
   "id": "c945a404-f255-42b7-8e4c-82f72388c690",
   "metadata": {
    "jp-MarkdownHeadingCollapsed": true
   },
   "source": [
    "## Доверительные интервалы"
   ]
  },
  {
   "cell_type": "markdown",
   "id": "0065beee-dab9-4ea6-a0b6-93215b5adca1",
   "metadata": {},
   "source": [
    "### Расчет по формуле\n",
    "\n",
    "**Пример** По данным 7 измеренией некоторой величины найдены средняя результатов измерений, равная 30 и выборочная дисперсия, равная 36.\n",
    "Найдите границы, в которых с надежностью 0,95 заключено истинное значение измеряемой выличины."
   ]
  },
  {
   "cell_type": "code",
   "execution_count": 3,
   "id": "929edf04-aea1-44f2-aae0-c4b99bd1fe06",
   "metadata": {},
   "outputs": [],
   "source": [
    "n = 7\n",
    "dof = n - 1 # число степеней свободы\n",
    "mn = 30 # среднее значение\n",
    "sigma = np.sqrt(36) # Стандартное отклонение\n",
    "T = 2.45 # Параметр t распределения (взят из таблицы)"
   ]
  },
  {
   "cell_type": "code",
   "execution_count": 4,
   "id": "9fad8853-3e2e-4172-9004-e3eb5bd2d023",
   "metadata": {},
   "outputs": [],
   "source": [
    "delta = sigma * T / np.sqrt(n)"
   ]
  },
  {
   "cell_type": "code",
   "execution_count": 5,
   "id": "b0cd9e43-c2e6-449b-b5f4-c0100d215e45",
   "metadata": {},
   "outputs": [
    {
     "data": {
      "text/plain": [
       "(24.44392224676436, 35.55607775323564)"
      ]
     },
     "execution_count": 5,
     "metadata": {},
     "output_type": "execute_result"
    }
   ],
   "source": [
    "CI = (mn - delta, mn + delta)\n",
    "CI"
   ]
  },
  {
   "cell_type": "markdown",
   "id": "51cc6e73-c362-4d45-8fce-7aca660c81ba",
   "metadata": {
    "jp-MarkdownHeadingCollapsed": true
   },
   "source": [
    "### Собственная функция\n",
    "Вспомогательная функция для подсчета доверительного интервала для маленьких выборок (до 30 элементов, t-распределение)."
   ]
  },
  {
   "cell_type": "code",
   "execution_count": 6,
   "id": "dfea3f00-b72f-427b-8b92-0e73134810c6",
   "metadata": {},
   "outputs": [],
   "source": [
    "def mean_confidence_interval(data, confidence=0.95):\n",
    "    n = len(data)\n",
    "    m, se = np.mean(data), st.sem(data) # sem() возвращает стандартную ошибку среднего (standart error of the mean)\n",
    "    h = se * st.t.ppf((1 + confidence) / 2, n-1)  # ppf() возвращает перцентиль\n",
    "    return m - h, m, m + h"
   ]
  },
  {
   "cell_type": "markdown",
   "id": "bd0c4f08-651d-421c-b976-c1ceb4d816f4",
   "metadata": {},
   "source": [
    "standart error of the mean  ==  sigma / np.sqrt(n)"
   ]
  },
  {
   "cell_type": "code",
   "execution_count": 7,
   "id": "58fa85f4-b96c-400a-ab3e-4acfaac5467e",
   "metadata": {},
   "outputs": [
    {
     "name": "stdout",
     "output_type": "stream",
     "text": [
      "(11.707199792530355, 12.391304347826088, 13.07540890312182)\n",
      "(11.02260721314349, 12.391304347826088, 13.760001482508686)\n",
      "(10.1445373309875, 12.391304347826088, 14.638071364664675)\n"
     ]
    }
   ],
   "source": [
    "a = [5, 7, 7, 9, 10, 16, 7, 14, 13, 15, 16, 15, 16, 17, 18, 13, 14, 15, 6, 13, 14, 12, 13]\n",
    "\n",
    "print(mean_confidence_interval(a, 0.60))\n",
    "print(mean_confidence_interval(a, 0.90))\n",
    "print(mean_confidence_interval(a, 0.99))"
   ]
  },
  {
   "cell_type": "markdown",
   "id": "450f2ead-9bc2-4b59-9639-70e9f263d8d4",
   "metadata": {
    "jp-MarkdownHeadingCollapsed": true
   },
   "source": [
    "### Встроенные функции scipy.stats"
   ]
  },
  {
   "cell_type": "markdown",
   "id": "f5dadd9d-a1bd-4b57-bdd1-2c862d931a76",
   "metadata": {},
   "source": [
    "#### Расчет с использованием нормального расеределения\n",
    "\n",
    "Длина выборки более 30 элементов\n",
    "\n",
    "**Пример** Используем выборку размером n = 100 и определим 90% и 99% доверительные интервалы, используя нормальное расеределение."
   ]
  },
  {
   "cell_type": "code",
   "execution_count": 8,
   "id": "94a5e4b5-a4af-4766-a647-29a72842a18a",
   "metadata": {},
   "outputs": [],
   "source": [
    "np.random.seed(54)\n",
    "# Генерируем случайное множество с нормальным респределением, где среднее = loc, а стандартное отклонение = scale\n",
    "dataN = st.norm.rvs(loc=25, scale=5, size=100)"
   ]
  },
  {
   "cell_type": "code",
   "execution_count": 9,
   "id": "a53b2aab-dd02-4b53-aeab-51a80e470b8b",
   "metadata": {},
   "outputs": [
    {
     "data": {
      "text/plain": [
       "array([15.73894628, 19.59500504, 25.39281913, 18.22932204, 28.1307423 ,\n",
       "       28.66693776, 17.64510722, 16.62290224, 27.91513782, 21.61269469,\n",
       "       28.38777594, 25.92764723, 19.2158274 , 20.90224588, 20.48267271,\n",
       "       22.35407158, 23.12972966, 23.19403118, 21.09564881, 37.54233791,\n",
       "       17.18218648, 23.84161045, 24.528124  , 30.7750649 , 28.1228123 ,\n",
       "       20.52654617, 24.38654952, 31.70598737, 22.96965371, 16.83108847,\n",
       "       24.31890254, 17.69496754, 22.01306736, 22.63197483, 22.29777635,\n",
       "       22.74654808, 25.72601767, 27.66558128, 28.04881113, 26.8546621 ,\n",
       "       28.20893056, 30.76199044, 26.6411325 , 29.08380767, 25.60118661,\n",
       "       22.89269323, 23.07748028, 33.96101816, 30.31506597, 28.07265045,\n",
       "       22.59758109, 22.78986482, 28.81509163, 28.63861627, 19.79342847,\n",
       "       15.38874649, 20.06079634, 27.62294262, 17.28963417, 32.97260519,\n",
       "       27.72269413, 29.18532255, 24.5306575 , 22.62871331, 16.02477374,\n",
       "       23.83769765, 23.29590212, 23.63300021, 28.20716716, 20.11628637,\n",
       "       25.43559775, 25.07695199, 21.57864557, 17.56592716, 28.49350286,\n",
       "       29.61925989, 21.15311938, 20.22986308, 21.75009345, 23.01930399,\n",
       "       27.84136592, 25.25605016, 20.4986704 , 25.09826734, 25.34303252,\n",
       "       35.73400498, 30.67623237, 17.24989084, 25.47918252, 25.55303556,\n",
       "       21.55634518, 21.48358866, 32.81960512, 31.79755576, 18.37985247,\n",
       "       31.57581841, 26.64052268, 24.8499126 , 24.07083766, 22.61241638])"
      ]
     },
     "execution_count": 9,
     "metadata": {},
     "output_type": "execute_result"
    }
   ],
   "source": [
    "dataN"
   ]
  },
  {
   "cell_type": "code",
   "execution_count": 10,
   "id": "5b801cd8-c5d7-4082-98fa-dc26ede2cef8",
   "metadata": {},
   "outputs": [
    {
     "name": "stdout",
     "output_type": "stream",
     "text": [
      "Мы уверены на 90%, что истинное среднее значение генеральной совокупности находится в диапазоне между 23.677 и 25.221\n"
     ]
    }
   ],
   "source": [
    "ci_lower, ci_upper = st.norm.interval(confidence=0.90, loc=np.mean(dataN), scale=st.sem(dataN))\n",
    "print(f'Мы уверены на 90%, что истинное среднее значение генеральной совокупности находится в диапазоне между {ci_lower:5.3f} и {ci_upper:5.3f}')"
   ]
  },
  {
   "cell_type": "code",
   "execution_count": 11,
   "id": "58366af9-0e71-436f-a72b-ee3df4082f52",
   "metadata": {},
   "outputs": [
    {
     "name": "stdout",
     "output_type": "stream",
     "text": [
      "Мы уверены на 99%, что истинное среднее значение генеральной совокупности находится в диапазоне между 23.240 и 25.658\n"
     ]
    }
   ],
   "source": [
    "ci_lower, ci_upper = st.norm.interval(confidence=0.99, loc=np.mean(dataN), scale=st.sem(dataN))\n",
    "print(f'Мы уверены на 99%, что истинное среднее значение генеральной совокупности находится в диапазоне между {ci_lower:5.3f} и {ci_upper:5.3f}')"
   ]
  },
  {
   "cell_type": "markdown",
   "id": "7a392726-bd7b-41b8-beed-4f35f8708138",
   "metadata": {},
   "source": [
    "#### Рассчет с использованием t распределения\n",
    "Длина выборки менее 30 элементов\n",
    "\n",
    "**Пример** Используем выборку размером n = 20 и определим 90% и 99% доверительные интервалы, используя t распределение"
   ]
  },
  {
   "cell_type": "code",
   "execution_count": 12,
   "id": "73ae0902-1bc1-458f-8748-13bf3c5cccbd",
   "metadata": {},
   "outputs": [],
   "source": [
    "np.random.seed(54)\n",
    "# Генерируем случайное множество с нормальным респределением, где среднее = loc, а стандартное отклонение = scale\n",
    "dataT = st.norm.rvs(loc=25, scale=5, size=20)"
   ]
  },
  {
   "cell_type": "code",
   "execution_count": 13,
   "id": "357ea36d-0cea-4e83-b8c6-c21c1111edab",
   "metadata": {},
   "outputs": [
    {
     "data": {
      "text/plain": [
       "array([15.73894628, 19.59500504, 25.39281913, 18.22932204, 28.1307423 ,\n",
       "       28.66693776, 17.64510722, 16.62290224, 27.91513782, 21.61269469,\n",
       "       28.38777594, 25.92764723, 19.2158274 , 20.90224588, 20.48267271,\n",
       "       22.35407158, 23.12972966, 23.19403118, 21.09564881, 37.54233791])"
      ]
     },
     "execution_count": 13,
     "metadata": {},
     "output_type": "execute_result"
    }
   ],
   "source": [
    "dataT"
   ]
  },
  {
   "cell_type": "code",
   "execution_count": 14,
   "id": "1352ba9b-125a-4aa0-9294-d77185e57f61",
   "metadata": {},
   "outputs": [
    {
     "name": "stdout",
     "output_type": "stream",
     "text": [
      "Мы уверены на 90%, что истинное среднее значение генеральной совокупности находится в диапазоне между 21.057 и 25.121\n"
     ]
    }
   ],
   "source": [
    "ci_lower, ci_upper = st.t.interval(confidence=0.90, df=len(dataT)-1, loc=np.mean(dataT), scale=st.sem(dataT))\n",
    "print(f'Мы уверены на 90%, что истинное среднее значение генеральной совокупности находится в диапазоне между {ci_lower:4.3f} и {ci_upper:4.3f}')"
   ]
  },
  {
   "cell_type": "code",
   "execution_count": 15,
   "id": "6fd29375-a0ff-459f-ae6a-537141b05f0d",
   "metadata": {},
   "outputs": [
    {
     "name": "stdout",
     "output_type": "stream",
     "text": [
      "Мы уверены на 99%, что истинное среднее значение генеральной совокупности находится в диапазоне между 19.727 и 26.451\n"
     ]
    }
   ],
   "source": [
    "ci_lower, ci_upper = st.t.interval(confidence=0.99, df=len(dataT)-1, loc=np.mean(dataT), scale=st.sem(dataT))\n",
    "print(f'Мы уверены на 99%, что истинное среднее значение генеральной совокупности находится в диапазоне между {ci_lower:4.3f} и {ci_upper:4.3f}')"
   ]
  },
  {
   "cell_type": "markdown",
   "id": "59cace09-0694-40f5-a433-2c546e1a2ee2",
   "metadata": {
    "jp-MarkdownHeadingCollapsed": true
   },
   "source": [
    "## Определение размера выборки"
   ]
  },
  {
   "cell_type": "markdown",
   "id": "a15a7c1f-1b98-44d1-b11d-8b86911e0409",
   "metadata": {},
   "source": [
    "**Пример** Журналист в 2016 году в предверии выборов в США хочет по результатам своих исследований достаточно точно определить, кто победит на этих выборах. Сколько ему необходимо опросить людей, чтобы назвать будущего президента с точностью в 95%?\n",
    "\n",
    "Результат предшествующих исследований свидетельствуют, что стандартное отклонение генеральной совокупности приблизительно равно 15.\n",
    "Пусть погрешность измерений дельта = 5. Таким образом, обозначим стандартное отклонение сигма = 15 и квантиль нормального распределения Z = 1,96"
   ]
  },
  {
   "cell_type": "code",
   "execution_count": 16,
   "id": "1e6038ff-620c-4a85-a4f5-1f90ed306038",
   "metadata": {},
   "outputs": [],
   "source": [
    "sigma = 15\n",
    "Z = 1.96\n",
    "Delta = 5"
   ]
  },
  {
   "cell_type": "code",
   "execution_count": 17,
   "id": "86546517-973d-42b7-a175-9d9b9e2dcc6b",
   "metadata": {},
   "outputs": [
    {
     "data": {
      "text/plain": [
       "35"
      ]
     },
     "execution_count": 17,
     "metadata": {},
     "output_type": "execute_result"
    }
   ],
   "source": [
    "N = int(np.ceil(((sigma * Z) / Delta)** 2))\n",
    "N"
   ]
  },
  {
   "cell_type": "code",
   "execution_count": 18,
   "id": "bad701a4-33f8-47f5-ad7f-0ccda3ebf615",
   "metadata": {},
   "outputs": [
    {
     "data": {
      "text/plain": [
       "865"
      ]
     },
     "execution_count": 18,
     "metadata": {},
     "output_type": "execute_result"
    }
   ],
   "source": [
    "Delta = 1\n",
    "N = int(np.ceil(((sigma * Z) / Delta)** 2))\n",
    "N"
   ]
  },
  {
   "cell_type": "markdown",
   "id": "0bd6997c-54dd-489d-b259-660aecf5de1e",
   "metadata": {},
   "source": [
    "**Пример** Часто бывают ситуации, когда размер выборки может зависеть от оценки размера генеральной совокупности. Например, если мы хотим провести опрос клиентов банка на предмет удобства или качества обслуживания. Неужели размер выборки удет одинаковый если у нас 10_000 клиентов или 1_000_000 клиентов?"
   ]
  },
  {
   "cell_type": "markdown",
   "id": "bba1bc8b-9439-4591-bc58-82cafd84858e",
   "metadata": {},
   "source": [
    "В этом случае для определения размера выборки можно использовать оценку размера генеральной сосоккупности о следующей формуле:"
   ]
  },
  {
   "cell_type": "code",
   "execution_count": 19,
   "id": "9ca8862f-9c96-48e1-ae75-c4417d137c18",
   "metadata": {},
   "outputs": [],
   "source": [
    "p = 0.5 # распределение голосов\n",
    "Ddec = Delta / 100\n",
    "Pop = 10000 # оценка размера генеральной совокупности"
   ]
  },
  {
   "cell_type": "code",
   "execution_count": 20,
   "id": "cc6e1ef1-4367-456e-be68-aeec8d2cce25",
   "metadata": {},
   "outputs": [
    {
     "data": {
      "text/plain": [
       "4900"
      ]
     },
     "execution_count": 20,
     "metadata": {},
     "output_type": "execute_result"
    }
   ],
   "source": [
    "int(np.ceil((Z ** 2 * p * (1 - p) / Ddec ** 2) / (1 + (Z ** 2 * p * (1 - p) / (Pop * Ddec ** 2)))))"
   ]
  },
  {
   "cell_type": "code",
   "execution_count": 21,
   "id": "1785a7b5-e1c4-461c-9892-0d51fe071e04",
   "metadata": {},
   "outputs": [
    {
     "data": {
      "text/plain": [
       "9513"
      ]
     },
     "execution_count": 21,
     "metadata": {},
     "output_type": "execute_result"
    }
   ],
   "source": [
    "Pop = 1000000\n",
    "int(np.ceil((Z ** 2 * p * (1 - p) / Ddec ** 2) / (1 + (Z ** 2 * p * (1 - p) / (Pop * Ddec ** 2)))))"
   ]
  },
  {
   "cell_type": "markdown",
   "id": "ba907c5e-c7c2-40c4-8f00-96b4f456a455",
   "metadata": {},
   "source": [
    "## Статистическая проверка гипотез при сравнении двух выборок"
   ]
  },
  {
   "cell_type": "markdown",
   "id": "2dc79305-01b8-43eb-b810-e6e312020d4e",
   "metadata": {
    "jp-MarkdownHeadingCollapsed": true
   },
   "source": [
    "### Параметрические тесты"
   ]
  },
  {
   "cell_type": "markdown",
   "id": "9b60a9c1-e6cb-445c-a07f-2bd0854f37a2",
   "metadata": {},
   "source": [
    "#### Тест Стьюдента"
   ]
  },
  {
   "cell_type": "markdown",
   "id": "1f3f7919-0c3e-4187-a8eb-98aac25edf57",
   "metadata": {},
   "source": [
    "Проверка среднего значения двух выборок или одной выборки с целевым значением\n",
    "\n",
    "Допущешия\n",
    "- Наблюдение внутри каждой выборки независимы друг от друга.\n",
    "- Распределение данных нормальное или близкое к нормальному. Можно применять для других распределений, но осторожно.\n",
    "- Одинаковая вариация в выборках.\n",
    "\n",
    "Гипотеза\n",
    "- Н0: Средние выборок одинаковы / Среднее выборки совпадает с целевым значением\n",
    "- Н1: Средние выборок раздичаются / Среднее выборки отличается от целевого значения"
   ]
  },
  {
   "cell_type": "markdown",
   "id": "6a819ed7-0460-45f7-8e95-64b42d94c1e5",
   "metadata": {},
   "source": [
    "**Одновыборочный тест**\n",
    "\n",
    "**Пример** Тест покажет нам, отличаются ли средние значения выборки и генеральной совокупности (сравниваем с генеральной). Рассмотрим некоторое количество голосующих из Индии и население всего Мира. Отличается ли средний возраст избирателей Индии от возраста населения?"
   ]
  },
  {
   "cell_type": "code",
   "execution_count": 22,
   "id": "ff0235a4-9924-4701-90a2-78210be217d3",
   "metadata": {},
   "outputs": [],
   "source": [
    "np.random.seed(54)\n",
    "\n",
    "population_ages1 = st.norm.rvs(loc=20, scale=45, size=15000)\n",
    "population_ages2 = st.norm.rvs(loc=20, scale=10, size=10000)\n",
    "population_ages = np.concatenate((population_ages1, population_ages2)) # Сгенерировали всю популяцию.\n",
    "\n",
    "india_ages1 = st.norm.rvs(loc=19, scale=65, size=2000)\n",
    "india_ages2 = st.norm.rvs(loc=19, scale=55, size=2000)\n",
    "india_ages = np.concatenate((india_ages1, india_ages2))"
   ]
  },
  {
   "cell_type": "code",
   "execution_count": 23,
   "id": "f9893e0a-c90e-47dc-be0c-489ac017a8c9",
   "metadata": {},
   "outputs": [
    {
     "name": "stdout",
     "output_type": "stream",
     "text": [
      "Средний возраст всего мира 19.87059878444056\n",
      "Средний возраст индусов 20.815033188073294\n"
     ]
    }
   ],
   "source": [
    "print('Средний возраст всего мира', population_ages.mean())\n",
    "print('Средний возраст индусов', india_ages.mean())"
   ]
  },
  {
   "cell_type": "code",
   "execution_count": 24,
   "id": "2d0ba4ca-5853-4c19-9173-eeaf731c9267",
   "metadata": {},
   "outputs": [
    {
     "name": "stdout",
     "output_type": "stream",
     "text": [
      "Статистика = 0.995, p = 0.320\n",
      "Не отклоняем нулевую гипотезу, средний возраст в Индии, вероятно, не отличается от среднего по миру\n"
     ]
    }
   ],
   "source": [
    "# используем одновыборочный тест Стьюдента\n",
    "stat, p = st.ttest_1samp(a=india_ages, popmean=population_ages.mean())\n",
    "print(f'Статистика = {stat:.3f}, p = {p:.3f}')\n",
    "\n",
    "if p > 0.05:\n",
    "    print('Не отклоняем нулевую гипотезу, средний возраст в Индии, вероятно, не отличается от среднего по миру')\n",
    "else:\n",
    "    print('Отклоняем нулевую гипотезу, средний возраст в Индии, вероятно, отличается от среднего по миру')"
   ]
  },
  {
   "cell_type": "code",
   "execution_count": 25,
   "id": "b81839a7-07cc-41a2-8fd5-5be381ec8d5d",
   "metadata": {},
   "outputs": [
    {
     "data": {
      "image/png": "[encoded data removed]",
      "text/plain": [
       "<Figure size 640x480 with 1 Axes>"
      ]
     },
     "metadata": {},
     "output_type": "display_data"
    }
   ],
   "source": [
    "plt.hist(population_ages, bins=120, alpha=0.5);\n",
    "plt.hist(india_ages, bins=120, alpha=0.5);"
   ]
  },
  {
   "cell_type": "markdown",
   "id": "6057a26e-0573-4226-8b76-29ea16d83582",
   "metadata": {},
   "source": [
    "**Тест для двух выборок**\n",
    "\n",
    "**Пример** Такой тест показывает, имеют ли две выборки разные средние значения. Здесь нулевая гипотеза заключается в том, что обе группы имеют равные средние."
   ]
  },
  {
   "cell_type": "code",
   "execution_count": 26,
   "id": "b446b7b5-bceb-4fe3-86a9-94f37b068ebf",
   "metadata": {},
   "outputs": [],
   "source": [
    "np.random.seed(54)\n",
    "\n",
    "# Генерируем случайное множество с нормальным распределением, где среднее = loc, а стандартное отклонение = scale\n",
    "data1 = st.norm.rvs(loc=50, scale=10, size=100)\n",
    "data2 = st.norm.rvs(loc=40, scale=15, size=100)"
   ]
  },
  {
   "cell_type": "code",
   "execution_count": 27,
   "id": "34859c7c-9c32-4ad4-acde-f70ee94bf25b",
   "metadata": {},
   "outputs": [
    {
     "name": "stdout",
     "output_type": "stream",
     "text": [
      "Статистика = 4.28499, p = 0.0000285042\n",
      "Отклоняем нулевую гипотезу, срудние, вероятно, различаются\n"
     ]
    }
   ],
   "source": [
    "# Используем тест Стьюдента для двух выборок\n",
    "stat, p = st.ttest_ind(data1, data2)\n",
    "\n",
    "print(f'Статистика = {stat:.5f}, p = {p:.10f}')\n",
    "\n",
    "if p > 0.05:\n",
    "    print('Не отклоняем нулевую гипотезу, средние, вероятно, одинаковые')\n",
    "else:\n",
    "    print('Отклоняем нулевую гипотезу, срудние, вероятно, различаются')\n",
    "\n",
    "                                      "
   ]
  },
  {
   "cell_type": "code",
   "execution_count": 28,
   "id": "4fb22ba5-a11d-45f2-b855-fdac7e4c0302",
   "metadata": {},
   "outputs": [
    {
     "data": {
      "image/png": "[encoded data removed]",
      "text/plain": [
       "<Figure size 640x480 with 1 Axes>"
      ]
     },
     "metadata": {},
     "output_type": "display_data"
    }
   ],
   "source": [
    "plt.hist(data1, bins=20, alpha=0.5);\n",
    "plt.hist(data2, bins=20, alpha=0.5);"
   ]
  },
  {
   "cell_type": "code",
   "execution_count": 29,
   "id": "98c115fb-7765-47db-958a-9b599c370f1b",
   "metadata": {},
   "outputs": [
    {
     "data": {
      "image/png": "[encoded data removed]",
      "text/plain": [
       "<Figure size 640x480 with 1 Axes>"
      ]
     },
     "metadata": {},
     "output_type": "display_data"
    }
   ],
   "source": [
    "plt.boxplot(data1);\n",
    "plt.boxplot(data2);"
   ]
  },
  {
   "cell_type": "markdown",
   "id": "22d563e6-7e55-4906-9b90-596e718ea91e",
   "metadata": {},
   "source": [
    "**Тест Левена**"
   ]
  },
  {
   "cell_type": "code",
   "execution_count": 30,
   "id": "da30b239-f09f-4227-ba51-eb8145aaec7b",
   "metadata": {},
   "outputs": [],
   "source": [
    "# Используем тест Левена для проверки равенства дисперсий двух групп\n",
    "def check_variance(group1, group2):\n",
    "    stat, p = st.levene(group1, group2)\n",
    "    print(f\"p = {p:.5}\")\n",
    "    if p < 0.05:\n",
    "        print('Отклоняем нулевую гипотезу >> Вариация в группах различается')\n",
    "    else:\n",
    "        print('Не отклоняем нулевую гипотезу >> Вариация в группах одинаковая')"
   ]
  },
  {
   "cell_type": "code",
   "execution_count": 31,
   "id": "c21ac8fb-e029-4354-90aa-216b3a951dee",
   "metadata": {},
   "outputs": [
    {
     "name": "stdout",
     "output_type": "stream",
     "text": [
      "p = 5.3603e-06\n",
      "Отклоняем нулевую гипотезу >> Вариация в группах различается\n"
     ]
    }
   ],
   "source": [
    "check_variance(data1, data2)"
   ]
  },
  {
   "cell_type": "markdown",
   "id": "142a19cd-cb98-42b6-848b-f06c1f6a096c",
   "metadata": {},
   "source": [
    "**Замечание**\n",
    "\n",
    "По умолчанию критерий Стьюдента подразумевает раветснво дисперсий двух выборок. Если дисперсии отличаются (можно проверить с помощью F-теста), \n",
    "то нужно использовать поправку Уэлча (Welch). В **scipy** это реализовано через параметр функции **ttest_ind: equal_var = False**"
   ]
  },
  {
   "cell_type": "code",
   "execution_count": 32,
   "id": "9b15e06d-6ca0-4ff4-8dfc-5354c4014e3e",
   "metadata": {},
   "outputs": [
    {
     "name": "stdout",
     "output_type": "stream",
     "text": [
      "Статистика = 4.28499, p = 0.0000311336\n",
      "Отклоняем нулевую гипотезу, срудние, вероятно, различаются\n"
     ]
    }
   ],
   "source": [
    "# Используем тест Стьюдента для двух выборок с поправкой Уэлча\n",
    "stat, p = st.ttest_ind(data1, data2, equal_var=False)\n",
    "\n",
    "print(f'Статистика = {stat:.5f}, p = {p:.10f}')\n",
    "\n",
    "if p > 0.05:\n",
    "    print('Не отклоняем нулевую гипотезу, средние, вероятно, одинаковые')\n",
    "else:\n",
    "    print('Отклоняем нулевую гипотезу, срудние, вероятно, различаются')"
   ]
  },
  {
   "cell_type": "markdown",
   "id": "9b86a559-68aa-4849-bdf6-b12367ffe4ac",
   "metadata": {},
   "source": [
    "#### Парный тест Стьюдента"
   ]
  },
  {
   "cell_type": "markdown",
   "id": "60bb2f63-900d-4405-9f80-7627d8c76018",
   "metadata": {},
   "source": [
    "Сравнивает средние значения при связанных данных, когда измерения проводились, например, до и после каких-то изменений.\n",
    "\n",
    "Допущения\n",
    "- Наблюдения внутри каждой выборки независимы друг от друга.\n",
    "- Распределение данных нормальное или близкое к нормальному.\n",
    "- Одинаковая вариация в выборках.\n",
    "- Набдюдения связаны попарно в двух выборках.\n",
    "\n",
    "Гипотеза\n",
    "- Н0: Средние выборок одинаковы.\n",
    "- Н1: Средние выборок различаются."
   ]
  },
  {
   "cell_type": "code",
   "execution_count": 33,
   "id": "57ebb29a-ef0e-49f1-a76d-3e04d71b4857",
   "metadata": {},
   "outputs": [],
   "source": [
    "np.random.seed(54)\n",
    "\n",
    "before = st.norm.rvs(scale=30, loc=250, size=100)\n",
    "after = before + st.norm.rvs(scale=5, loc=-.273, size=100)"
   ]
  },
  {
   "cell_type": "code",
   "execution_count": 34,
   "id": "984f19ee-b1cf-4561-8389-40bd8fc82661",
   "metadata": {},
   "outputs": [
    {
     "data": {
      "text/html": [
       "<div>\n",
       "<style scoped>\n",
       "    .dataframe tbody tr th:only-of-type {\n",
       "        vertical-align: middle;\n",
       "    }\n",
       "\n",
       "    .dataframe tbody tr th {\n",
       "        vertical-align: top;\n",
       "    }\n",
       "\n",
       "    .dataframe thead th {\n",
       "        text-align: right;\n",
       "    }\n",
       "</style>\n",
       "<table border=\"1\" class=\"dataframe\">\n",
       "  <thead>\n",
       "    <tr style=\"text-align: right;\">\n",
       "      <th></th>\n",
       "      <th>вес_до</th>\n",
       "      <th>вес_после</th>\n",
       "      <th>вес_изменение</th>\n",
       "    </tr>\n",
       "  </thead>\n",
       "  <tbody>\n",
       "    <tr>\n",
       "      <th>count</th>\n",
       "      <td>100.000000</td>\n",
       "      <td>100.000000</td>\n",
       "      <td>100.000000</td>\n",
       "    </tr>\n",
       "    <tr>\n",
       "      <th>mean</th>\n",
       "      <td>246.691328</td>\n",
       "      <td>246.800651</td>\n",
       "      <td>0.109323</td>\n",
       "    </tr>\n",
       "    <tr>\n",
       "      <th>std</th>\n",
       "      <td>28.161039</td>\n",
       "      <td>28.746787</td>\n",
       "      <td>5.153353</td>\n",
       "    </tr>\n",
       "    <tr>\n",
       "      <th>min</th>\n",
       "      <td>192.332479</td>\n",
       "      <td>189.122861</td>\n",
       "      <td>-12.533319</td>\n",
       "    </tr>\n",
       "    <tr>\n",
       "      <th>25%</th>\n",
       "      <td>228.405828</td>\n",
       "      <td>225.747076</td>\n",
       "      <td>-2.846210</td>\n",
       "    </tr>\n",
       "    <tr>\n",
       "      <th>50%</th>\n",
       "      <td>245.169221</td>\n",
       "      <td>244.712994</td>\n",
       "      <td>-0.115017</td>\n",
       "    </tr>\n",
       "    <tr>\n",
       "      <th>75%</th>\n",
       "      <td>268.328626</td>\n",
       "      <td>266.582395</td>\n",
       "      <td>3.782396</td>\n",
       "    </tr>\n",
       "    <tr>\n",
       "      <th>max</th>\n",
       "      <td>325.254027</td>\n",
       "      <td>319.269443</td>\n",
       "      <td>11.587162</td>\n",
       "    </tr>\n",
       "  </tbody>\n",
       "</table>\n",
       "</div>"
      ],
      "text/plain": [
       "           вес_до   вес_после  вес_изменение\n",
       "count  100.000000  100.000000     100.000000\n",
       "mean   246.691328  246.800651       0.109323\n",
       "std     28.161039   28.746787       5.153353\n",
       "min    192.332479  189.122861     -12.533319\n",
       "25%    228.405828  225.747076      -2.846210\n",
       "50%    245.169221  244.712994      -0.115017\n",
       "75%    268.328626  266.582395       3.782396\n",
       "max    325.254027  319.269443      11.587162"
      ]
     },
     "execution_count": 34,
     "metadata": {},
     "output_type": "execute_result"
    }
   ],
   "source": [
    "weight_df = pd.DataFrame({\n",
    "    'вес_до': before,\n",
    "    'вес_после': after,\n",
    "    'вес_изменение': after - before\n",
    "})\n",
    "\n",
    "weight_df.describe()"
   ]
  },
  {
   "cell_type": "code",
   "execution_count": 35,
   "id": "713fcdb9-020b-4b92-816d-242eda78c76f",
   "metadata": {},
   "outputs": [
    {
     "name": "stdout",
     "output_type": "stream",
     "text": [
      "Статистика = -0.212, p = 0.832\n",
      "Не отклоняем нулевую гипотезу, средние, вероятно, одинаковые\n"
     ]
    }
   ],
   "source": [
    "stat, p = st.ttest_rel(a=before, b=after)\n",
    "\n",
    "print(f'Статистика = {stat:.3f}, p = {p:.3f}')\n",
    "if p > 0.05:\n",
    "    print('Не отклоняем нулевую гипотезу, средние, вероятно, одинаковые')\n",
    "else:\n",
    "    print('Отклоняем нулевую гипотезу, средние, вероятно, раздичаются')"
   ]
  },
  {
   "cell_type": "markdown",
   "id": "ffb7f494-e9f6-4c56-b670-6bb6623334de",
   "metadata": {
    "jp-MarkdownHeadingCollapsed": true
   },
   "source": [
    "#### Преобразуем данные"
   ]
  },
  {
   "cell_type": "code",
   "execution_count": 36,
   "id": "0d9c3ace-e234-4328-8d0d-44edb3f3ad27",
   "metadata": {},
   "outputs": [
    {
     "data": {
      "text/html": [
       "<div>\n",
       "<style scoped>\n",
       "    .dataframe tbody tr th:only-of-type {\n",
       "        vertical-align: middle;\n",
       "    }\n",
       "\n",
       "    .dataframe tbody tr th {\n",
       "        vertical-align: top;\n",
       "    }\n",
       "\n",
       "    .dataframe thead th {\n",
       "        text-align: right;\n",
       "    }\n",
       "</style>\n",
       "<table border=\"1\" class=\"dataframe\">\n",
       "  <thead>\n",
       "    <tr style=\"text-align: right;\">\n",
       "      <th></th>\n",
       "      <th>id</th>\n",
       "      <th>name</th>\n",
       "      <th>host_id</th>\n",
       "      <th>host_name</th>\n",
       "      <th>neighbourhood_group</th>\n",
       "      <th>neighbourhood</th>\n",
       "      <th>latitude</th>\n",
       "      <th>longitude</th>\n",
       "      <th>room_type</th>\n",
       "      <th>price</th>\n",
       "      <th>minimum_nights</th>\n",
       "      <th>number_of_reviews</th>\n",
       "      <th>last_review</th>\n",
       "      <th>reviews_per_month</th>\n",
       "      <th>calculated_host_listings_count</th>\n",
       "      <th>availability_365</th>\n",
       "    </tr>\n",
       "  </thead>\n",
       "  <tbody>\n",
       "    <tr>\n",
       "      <th>0</th>\n",
       "      <td>2539</td>\n",
       "      <td>Clean &amp; quiet apt home by the park</td>\n",
       "      <td>2787</td>\n",
       "      <td>John</td>\n",
       "      <td>Brooklyn</td>\n",
       "      <td>Kensington</td>\n",
       "      <td>40.64749</td>\n",
       "      <td>-73.97237</td>\n",
       "      <td>Private room</td>\n",
       "      <td>149</td>\n",
       "      <td>1</td>\n",
       "      <td>9</td>\n",
       "      <td>2018-10-19</td>\n",
       "      <td>0.21</td>\n",
       "      <td>6</td>\n",
       "      <td>365</td>\n",
       "    </tr>\n",
       "    <tr>\n",
       "      <th>1</th>\n",
       "      <td>2595</td>\n",
       "      <td>Skylit Midtown Castle</td>\n",
       "      <td>2845</td>\n",
       "      <td>Jennifer</td>\n",
       "      <td>Manhattan</td>\n",
       "      <td>Midtown</td>\n",
       "      <td>40.75362</td>\n",
       "      <td>-73.98377</td>\n",
       "      <td>Entire home/apt</td>\n",
       "      <td>225</td>\n",
       "      <td>1</td>\n",
       "      <td>45</td>\n",
       "      <td>2019-05-21</td>\n",
       "      <td>0.38</td>\n",
       "      <td>2</td>\n",
       "      <td>355</td>\n",
       "    </tr>\n",
       "    <tr>\n",
       "      <th>3</th>\n",
       "      <td>3831</td>\n",
       "      <td>Cozy Entire Floor of Brownstone</td>\n",
       "      <td>4869</td>\n",
       "      <td>LisaRoxanne</td>\n",
       "      <td>Brooklyn</td>\n",
       "      <td>Clinton Hill</td>\n",
       "      <td>40.68514</td>\n",
       "      <td>-73.95976</td>\n",
       "      <td>Entire home/apt</td>\n",
       "      <td>89</td>\n",
       "      <td>1</td>\n",
       "      <td>270</td>\n",
       "      <td>2019-07-05</td>\n",
       "      <td>4.64</td>\n",
       "      <td>1</td>\n",
       "      <td>194</td>\n",
       "    </tr>\n",
       "  </tbody>\n",
       "</table>\n",
       "</div>"
      ],
      "text/plain": [
       "     id                                name  host_id    host_name  \\\n",
       "0  2539  Clean & quiet apt home by the park     2787         John   \n",
       "1  2595               Skylit Midtown Castle     2845     Jennifer   \n",
       "3  3831     Cozy Entire Floor of Brownstone     4869  LisaRoxanne   \n",
       "\n",
       "  neighbourhood_group neighbourhood  latitude  longitude        room_type  \\\n",
       "0            Brooklyn    Kensington  40.64749  -73.97237     Private room   \n",
       "1           Manhattan       Midtown  40.75362  -73.98377  Entire home/apt   \n",
       "3            Brooklyn  Clinton Hill  40.68514  -73.95976  Entire home/apt   \n",
       "\n",
       "   price  minimum_nights  number_of_reviews last_review  reviews_per_month  \\\n",
       "0    149               1                  9  2018-10-19               0.21   \n",
       "1    225               1                 45  2019-05-21               0.38   \n",
       "3     89               1                270  2019-07-05               4.64   \n",
       "\n",
       "   calculated_host_listings_count  availability_365  \n",
       "0                               6               365  \n",
       "1                               2               355  \n",
       "3                               1               194  "
      ]
     },
     "execution_count": 36,
     "metadata": {},
     "output_type": "execute_result"
    }
   ],
   "source": [
    "url = 'https://raw.githubusercontent.com/a-milenkin/datasets_for_t-tests/main/AB_NYC_2019.csv'\n",
    "df = pd.read_csv(url, on_bad_lines=\"skip\")\n",
    "df.dropna(how='any', inplace=True)\n",
    "df.head(3)"
   ]
  },
  {
   "cell_type": "code",
   "execution_count": 37,
   "id": "3036b833-e2da-4cf6-bcf4-7bc8a1c8635e",
   "metadata": {},
   "outputs": [
    {
     "data": {
      "image/png": "[encoded data removed]",
      "text/plain": [
       "<Figure size 640x480 with 1 Axes>"
      ]
     },
     "metadata": {},
     "output_type": "display_data"
    }
   ],
   "source": [
    "df[df.price < 500].price.hist(bins=30);"
   ]
  },
  {
   "cell_type": "code",
   "execution_count": 38,
   "id": "e3f5fb67-63d8-4ffb-a7e8-7cd89be41874",
   "metadata": {},
   "outputs": [
    {
     "data": {
      "image/png": "[encoded data removed]",
      "text/plain": [
       "<Figure size 640x480 with 1 Axes>"
      ]
     },
     "metadata": {},
     "output_type": "display_data"
    }
   ],
   "source": [
    "np.log2(abs(df[df.price < 500].price)+1).hist(bins=30);"
   ]
  },
  {
   "cell_type": "markdown",
   "id": "fa498e62-b1f1-41a9-957f-9a285624c562",
   "metadata": {},
   "source": [
    "### Непараметрические тесты"
   ]
  },
  {
   "cell_type": "markdown",
   "id": "a3d3dc2e-574a-432b-afec-1023acb0dbfa",
   "metadata": {
    "jp-MarkdownHeadingCollapsed": true
   },
   "source": [
    "#### Тест Манна-Уитни"
   ]
  },
  {
   "cell_type": "markdown",
   "id": "8463db14-4403-4b24-80a3-d1c8ae284f2c",
   "metadata": {},
   "source": [
    "Критерий Манна-Уитни представляет непараметрическую альтернативу критерию Стьюдента для независимых выборок и используется для оценки раздичий между двумя независимыми выборками по уровню какого-либо празнака, измеренного количественно.\n",
    "\n",
    "Допущения\n",
    "- Наблюдения внутри каждой выборки независимы доуг от друга.\n",
    "- Наблюдения можно проранжировать.\n",
    "\n",
    "Гипотеза\n",
    "- Н0: Распределения одинаковы.\n",
    "- Н1: Распределения различаются."
   ]
  },
  {
   "cell_type": "code",
   "execution_count": 39,
   "id": "b93efa60-c9dd-4412-8bd8-8ee120a3125d",
   "metadata": {},
   "outputs": [
    {
     "name": "stdout",
     "output_type": "stream",
     "text": [
      "Статистика = 40.00000, p = 0.47268\n",
      "Не отклоняем нулевую гипотезу, распределения, вроятно, одинаковые\n"
     ]
    }
   ],
   "source": [
    "data1 = [0.837, 2.817, 0.121, -0.945, -0.055, -1.436, 0.360, -1.478, -1.637, -1.869]\n",
    "data2 = [1.142, -0.432, -0.938, -0.729, -0.846, -0.157, 0.500, 1.183, -1.075, -0.169]\n",
    "\n",
    "stat, p = st.mannwhitneyu(data1, data2)\n",
    "\n",
    "print(f'Статистика = {stat:.5f}, p = {p:.5f}')\n",
    "if p > 0.05:\n",
    "    print('Не отклоняем нулевую гипотезу, распределения, вроятно, одинаковые')\n",
    "else:\n",
    "    print('Отклоняем нулевую гипотезу, распределения, вероятно, раздичаются')"
   ]
  },
  {
   "cell_type": "markdown",
   "id": "ab006fb3-c96a-4c9e-bf1b-9c982491d08c",
   "metadata": {
    "jp-MarkdownHeadingCollapsed": true
   },
   "source": [
    "#### Тест Вилкоксона"
   ]
  },
  {
   "cell_type": "markdown",
   "id": "e742461d-12fe-4514-a5da-cce8bdae9a95",
   "metadata": {},
   "source": [
    "Тест Вилкоксона - это непараметрический аналог пароно критерия Стьюдента.\n",
    "\n",
    "Допущения\n",
    "- Наблюдения внутри каждой выборки назависимы друг от друга.\n",
    "- Наболюдения можно проранжировать.\n",
    "- Наблюдения связаны попарно в двух выборках.\n",
    "\n",
    "Гипотеза\n",
    "- Н0: Две связанные выборки принадленат отному распределению.\n",
    "- Н1: Дву связанные выборки принадленат разным распределениям."
   ]
  },
  {
   "cell_type": "code",
   "execution_count": 40,
   "id": "cabb85c9-6e6f-4e16-be96-4390e8aab6a7",
   "metadata": {},
   "outputs": [
    {
     "name": "stdout",
     "output_type": "stream",
     "text": [
      "Статистика = 21.00000, p = 0.55664\n",
      "Не отклоняем нулевую гипотезу, распределения, вроятно, одинаковые\n"
     ]
    }
   ],
   "source": [
    "data1 = [0.837, 2.817, 0.121, -0.945, -0.055, -1.436, 0.360, -1.478, -1.637, -1.869]\n",
    "data2 = [1.142, -0.432, -0.938, -0.729, -0.846, -0.157, 0.500, 1.183, -1.075, -0.169]\n",
    "\n",
    "stat, p = st.wilcoxon(data1, data2)\n",
    "\n",
    "print(f'Статистика = {stat:.5f}, p = {p:.5f}')\n",
    "if p > 0.05:\n",
    "    print('Не отклоняем нулевую гипотезу, распределения, вроятно, одинаковые')\n",
    "else:\n",
    "    print('Отклоняем нулевую гипотезу, распределения, вероятно, раздичаются')"
   ]
  },
  {
   "cell_type": "code",
   "execution_count": 41,
   "id": "5e86d986-dbfc-4ad4-b374-e346f2dd05de",
   "metadata": {},
   "outputs": [
    {
     "name": "stdout",
     "output_type": "stream",
     "text": [
      "Статистика = 21.00000, p = 0.55664\n",
      "Не отклоняем нулевую гипотезу, распределения, вроятно, одинаковые\n"
     ]
    }
   ],
   "source": [
    "# Этот тест можно применить только к столбцу разница (dif)\n",
    "dif = np.array(data1) - np.array(data2)\n",
    "\n",
    "stat, p = st.wilcoxon(dif)\n",
    "\n",
    "print(f'Статистика = {stat:.5f}, p = {p:.5f}')\n",
    "if p > 0.05:\n",
    "    print('Не отклоняем нулевую гипотезу, распределения, вроятно, одинаковые')\n",
    "else:\n",
    "    print('Отклоняем нулевую гипотезу, распределения, вероятно, раздичаются')"
   ]
  },
  {
   "cell_type": "markdown",
   "id": "b318e1eb-8c32-4d60-bab0-70762472a028",
   "metadata": {
    "jp-MarkdownHeadingCollapsed": true
   },
   "source": [
    "### Тесты, работающие с категориальными данными"
   ]
  },
  {
   "cell_type": "markdown",
   "id": "eb56d3b4-573a-41de-82a7-b3ef4bb8412c",
   "metadata": {},
   "source": [
    "#### Точный критерий Фишера"
   ]
  },
  {
   "cell_type": "markdown",
   "id": "2779deb2-1e86-4d04-907c-dfa10a351ae0",
   "metadata": {},
   "source": [
    "Критерий Стьюдента позволяет работать с численными переменными, но не позволяет работать с категориальными. Для этого существует критерий Фишера (или Хи-квадрат). Одна из его задач сказать, насколько слуяайно распределены значения между группами. Позволяет проверить гипотезу, есть ли значимый перевес между группами.\n",
    "\n",
    "Допущения\n",
    "- Наблюдения независимы друг от друга.\n",
    "- Встречаются ограничения на минимальное число набрюдений.\n",
    "\n",
    "Гипотеза\n",
    "- Н0: Выборки назевисимы.\n",
    "- Н1: Есть некоторая зависимость."
   ]
  },
  {
   "cell_type": "markdown",
   "id": "f5ba7e9f-9ba3-412a-b6ba-8c6cc31f7207",
   "metadata": {},
   "source": [
    "**Пример** Хотим проверить, нет ли дискриминации по половому признаку в сфере Data Science. Есть информация, что в какой-то компании после серии собеседований 107 мужчин взяли на работу, а 93-м отказали. А среди женщин 74 взяли, а отказали 45-и. Относится ли руководство компании предвзято к мужчинам или к женщинам?"
   ]
  },
  {
   "cell_type": "code",
   "execution_count": 42,
   "id": "d1ea681e-0c31-4ea8-a983-bd1e71f11c6d",
   "metadata": {},
   "outputs": [
    {
     "name": "stdout",
     "output_type": "stream",
     "text": [
      "Статистика = 0.69965, p = 0.16076\n",
      "Не отклоняем нулевую гипотезу, выборки, вероятно, независимы\n"
     ]
    }
   ],
   "source": [
    "x = [[107, 93], [74, 45]]\n",
    "\n",
    "oddsratio, p = st.fisher_exact(x) # Точный тест Фишера\n",
    "\n",
    "print(f'Статистика = {oddsratio:.5f}, p = {p:.5f}')\n",
    "if p > 0.05:\n",
    "    print('Не отклоняем нулевую гипотезу, выборки, вероятно, независимы')\n",
    "else:\n",
    "    print('Отклоняем нулевую гипотезу, вероятно, есть некоторая зависимость')"
   ]
  },
  {
   "cell_type": "markdown",
   "id": "44e4c60f-8588-42aa-b561-322daafea8b9",
   "metadata": {},
   "source": [
    "#### Тест Хи-квадрат"
   ]
  },
  {
   "cell_type": "markdown",
   "id": "f12e06dd-4a23-48f7-8715-751b5caaf8b5",
   "metadata": {},
   "source": [
    "Например, вы хотите проверить правда ли эксперт по Data Science таковым является. Вы составили список вопросов, спросили эксперта и случайных прохожих. Количество правильных ответов по каждому разделу вы записали в таблицу (таблица смежности)\n",
    "\n",
    "Выясните, исходя из полученных данных, действительно ли перед вами носитель экспертности или пока что еще на очень опытный начинающий?"
   ]
  },
  {
   "cell_type": "code",
   "execution_count": 43,
   "id": "821e5547-3fe0-48cc-aeae-01c3aacc8d0c",
   "metadata": {},
   "outputs": [
    {
     "name": "stdout",
     "output_type": "stream",
     "text": [
      "Реальная таблица\n",
      "                    Machine Learning  Data Science  Analytics\n",
      "Эксперт                           22            99         59\n",
      "Случайный прохожий                10            12         31\n"
     ]
    }
   ],
   "source": [
    "contingency_table = pd.DataFrame(\n",
    "    [\n",
    "        [22, 99, 59],\n",
    "        [10, 12, 31]\n",
    "    ],\n",
    "    columns = ['Machine Learning', 'Data Science', 'Analytics'],\n",
    "    index = ['Эксперт', 'Случайный прохожий']\n",
    ")\n",
    "\n",
    "print('Реальная таблица')\n",
    "print(contingency_table)"
   ]
  },
  {
   "cell_type": "code",
   "execution_count": 44,
   "id": "71d660fb-39e4-472c-8ff8-bd86d5fe02a9",
   "metadata": {},
   "outputs": [
    {
     "name": "stdout",
     "output_type": "stream",
     "text": [
      "p-value = 0.000173, уровень значимости = 0.05\n",
      "На уровне значимости 0.05 мы отвергаем нулевую гипотезу и принимает Н1. Они не зависимы.\n",
      "Это и првда эксперт!\n"
     ]
    }
   ],
   "source": [
    "chi, pval, dof, exp = st.chi2_contingency(contingency_table.values) # Критерий Пирсона (хи-квадрат)\n",
    "significance = 0.05\n",
    "\n",
    "print(f'p-value = {pval:.6f}, уровень значимости = {significance:.2f}')\n",
    "if pval < significance:\n",
    "    print(f'На уровне значимости {significance:.2f} мы отвергаем нулевую гипотезу и принимает Н1. Они не зависимы.')\n",
    "    print('Это и првда эксперт!')\n",
    "else:\n",
    "    print(f'На уровне значимости {significance:.2f} мы не отвергаем нулевую гипотезу. Они зависимы.')\n",
    "\n",
    "            "
   ]
  },
  {
   "cell_type": "markdown",
   "id": "0f411282-fb06-478b-94ee-689cd65526f8",
   "metadata": {
    "jp-MarkdownHeadingCollapsed": true
   },
   "source": [
    "## Дисперсионный анализ"
   ]
  },
  {
   "cell_type": "markdown",
   "id": "8243935a-3647-4b1c-8fea-2d33ebbbbc90",
   "metadata": {
    "jp-MarkdownHeadingCollapsed": true
   },
   "source": [
    "### Рассчет вручную"
   ]
  },
  {
   "cell_type": "code",
   "execution_count": 45,
   "id": "15dcda54-63dd-4a73-a4b3-e4e3d3c16a8d",
   "metadata": {},
   "outputs": [
    {
     "data": {
      "text/html": [
       "<div>\n",
       "<style scoped>\n",
       "    .dataframe tbody tr th:only-of-type {\n",
       "        vertical-align: middle;\n",
       "    }\n",
       "\n",
       "    .dataframe tbody tr th {\n",
       "        vertical-align: top;\n",
       "    }\n",
       "\n",
       "    .dataframe thead th {\n",
       "        text-align: right;\n",
       "    }\n",
       "</style>\n",
       "<table border=\"1\" class=\"dataframe\">\n",
       "  <thead>\n",
       "    <tr style=\"text-align: right;\">\n",
       "      <th></th>\n",
       "      <th>a</th>\n",
       "      <th>b</th>\n",
       "      <th>c</th>\n",
       "    </tr>\n",
       "  </thead>\n",
       "  <tbody>\n",
       "    <tr>\n",
       "      <th>0</th>\n",
       "      <td>3</td>\n",
       "      <td>5</td>\n",
       "      <td>7</td>\n",
       "    </tr>\n",
       "    <tr>\n",
       "      <th>1</th>\n",
       "      <td>1</td>\n",
       "      <td>3</td>\n",
       "      <td>6</td>\n",
       "    </tr>\n",
       "    <tr>\n",
       "      <th>2</th>\n",
       "      <td>2</td>\n",
       "      <td>4</td>\n",
       "      <td>5</td>\n",
       "    </tr>\n",
       "  </tbody>\n",
       "</table>\n",
       "</div>"
      ],
      "text/plain": [
       "   a  b  c\n",
       "0  3  5  7\n",
       "1  1  3  6\n",
       "2  2  4  5"
      ]
     },
     "execution_count": 45,
     "metadata": {},
     "output_type": "execute_result"
    }
   ],
   "source": [
    "# Выборки, которые надо сравнить\n",
    "data = pd.DataFrame(\n",
    "    {\n",
    "        \"a\": [3, 1, 2],\n",
    "        \"b\": [5, 3, 4],\n",
    "        \"c\": [7, 6, 5],\n",
    "    }\n",
    ")\n",
    "\n",
    "data"
   ]
  },
  {
   "cell_type": "code",
   "execution_count": 46,
   "id": "0f82819f-ffeb-4773-9044-27503aa460e7",
   "metadata": {},
   "outputs": [
    {
     "name": "stdout",
     "output_type": "stream",
     "text": [
      "Нулевая гипотеза: a=b=c\n",
      "Альтернативная гипотеза: !(a=b=c)\n"
     ]
    },
    {
     "data": {
      "image/png": "[encoded data removed]",
      "text/plain": [
       "<Figure size 640x480 with 1 Axes>"
      ]
     },
     "metadata": {},
     "output_type": "display_data"
    }
   ],
   "source": [
    "data.boxplot()\n",
    "print('Нулевая гипотеза:', '='.join(data))\n",
    "print('Альтернативная гипотеза:', f'!({\"=\".join(data)})')"
   ]
  },
  {
   "cell_type": "markdown",
   "id": "8e3b7bbf-10f5-4efc-a35d-f198060404b4",
   "metadata": {},
   "source": [
    "#### Вычисляем общее среднее"
   ]
  },
  {
   "cell_type": "code",
   "execution_count": 47,
   "id": "3baf9a39-07bc-489d-9322-751fc06ecea1",
   "metadata": {},
   "outputs": [
    {
     "data": {
      "text/plain": [
       "array([[3, 5, 7],\n",
       "       [1, 3, 6],\n",
       "       [2, 4, 5]])"
      ]
     },
     "execution_count": 47,
     "metadata": {},
     "output_type": "execute_result"
    }
   ],
   "source": [
    "data.values"
   ]
  },
  {
   "cell_type": "code",
   "execution_count": 48,
   "id": "a7c0feae-9b3e-4727-86b0-e92fef82f40c",
   "metadata": {},
   "outputs": [
    {
     "data": {
      "text/plain": [
       "array([3, 5, 7, 1, 3, 6, 2, 4, 5])"
      ]
     },
     "execution_count": 48,
     "metadata": {},
     "output_type": "execute_result"
    }
   ],
   "source": [
    "# Переводим матрицу в одно измерение\n",
    "data.values.flatten()"
   ]
  },
  {
   "cell_type": "code",
   "execution_count": 49,
   "id": "6124dbc6-e398-4d69-a8bf-6639a51d5a2e",
   "metadata": {},
   "outputs": [
    {
     "data": {
      "text/plain": [
       "4.0"
      ]
     },
     "execution_count": 49,
     "metadata": {},
     "output_type": "execute_result"
    }
   ],
   "source": [
    "# Общая средняя\n",
    "grand_mean = data.values.flatten().mean()\n",
    "grand_mean"
   ]
  },
  {
   "cell_type": "markdown",
   "id": "3bc09b4b-7e6b-4a4c-ade6-beb2cb5d4a27",
   "metadata": {},
   "source": [
    "#### Вычисляем общую сумму квадратов sst = ssb + ssw"
   ]
  },
  {
   "cell_type": "code",
   "execution_count": 50,
   "id": "0223348e-683b-4d5f-a7ff-f723ee84be5f",
   "metadata": {},
   "outputs": [
    {
     "data": {
      "text/plain": [
       "[1.0, 1.0, 9.0, 9.0, 1.0, 4.0, 4.0, 0.0, 1.0]"
      ]
     },
     "execution_count": 50,
     "metadata": {},
     "output_type": "execute_result"
    }
   ],
   "source": [
    "# Список квадратов отклонений от общего среднего\n",
    "[(val - grand_mean)**2 for val in data.values.flatten()]"
   ]
  },
  {
   "cell_type": "code",
   "execution_count": 51,
   "id": "39a5f303-cf2d-4122-b287-109d4830e5d1",
   "metadata": {},
   "outputs": [
    {
     "data": {
      "text/plain": [
       "30.0"
      ]
     },
     "execution_count": 51,
     "metadata": {},
     "output_type": "execute_result"
    }
   ],
   "source": [
    "# Сумма квадратов отклонений от общего среднего\n",
    "sst = sum((val - grand_mean)**2 for val in data.values.flatten())\n",
    "sst"
   ]
  },
  {
   "cell_type": "markdown",
   "id": "fa787a52-dad3-48f8-bff9-2d6f86cc544a",
   "metadata": {},
   "source": [
    "#### Формула рассчета разброса между группами (ssb)"
   ]
  },
  {
   "cell_type": "code",
   "execution_count": 52,
   "id": "d52b3e6f-3326-4258-86f3-b4eeb0a77ff9",
   "metadata": {},
   "outputs": [
    {
     "data": {
      "text/plain": [
       "[('a', 2.0), ('b', 4.0), ('c', 6.0)]"
      ]
     },
     "execution_count": 52,
     "metadata": {},
     "output_type": "execute_result"
    }
   ],
   "source": [
    "list(data.mean().items())"
   ]
  },
  {
   "cell_type": "code",
   "execution_count": 53,
   "id": "fd9e60e8-d0bc-429c-8077-b3343e61df82",
   "metadata": {},
   "outputs": [
    {
     "data": {
      "text/plain": [
       "[('a', 2.0), ('b', 4.0), ('c', 6.0)]"
      ]
     },
     "execution_count": 53,
     "metadata": {},
     "output_type": "execute_result"
    }
   ],
   "source": [
    "[(group, group_mean) for group, group_mean in data.mean().items()]"
   ]
  },
  {
   "cell_type": "code",
   "execution_count": 54,
   "id": "c3a2375f-ac86-4279-9261-fc49de0e171a",
   "metadata": {},
   "outputs": [
    {
     "data": {
      "text/plain": [
       "3"
      ]
     },
     "execution_count": 54,
     "metadata": {},
     "output_type": "execute_result"
    }
   ],
   "source": [
    "data['a'].size"
   ]
  },
  {
   "cell_type": "code",
   "execution_count": 55,
   "id": "57eed3ed-8f71-4372-892b-93101d3eae21",
   "metadata": {},
   "outputs": [
    {
     "data": {
      "text/plain": [
       "[12.0, 0.0, 12.0]"
      ]
     },
     "execution_count": 55,
     "metadata": {},
     "output_type": "execute_result"
    }
   ],
   "source": [
    "[data[group].size * (group_mean - grand_mean) ** 2 for group, group_mean in data.mean().items()]"
   ]
  },
  {
   "cell_type": "code",
   "execution_count": 56,
   "id": "59fc8e48-b800-4472-9b10-1cd4bb2ba44b",
   "metadata": {},
   "outputs": [
    {
     "data": {
      "text/plain": [
       "24.0"
      ]
     },
     "execution_count": 56,
     "metadata": {},
     "output_type": "execute_result"
    }
   ],
   "source": [
    "# Отклонение групповых средних от общей средней\n",
    "ssb = sum(data[group].size * (group_mean - grand_mean) ** 2 for group, group_mean in data.mean().items())\n",
    "ssb"
   ]
  },
  {
   "cell_type": "markdown",
   "id": "d471b9cb-e2ab-4b77-9d34-3d059cd57fc9",
   "metadata": {},
   "source": [
    "#### Формула рассчета разброса внутри каждой группы (ssw)"
   ]
  },
  {
   "cell_type": "code",
   "execution_count": 57,
   "id": "83a43d9b-130b-4423-9553-77e96f1f3c3a",
   "metadata": {},
   "outputs": [
    {
     "data": {
      "text/plain": [
       "6.0"
      ]
     },
     "execution_count": 57,
     "metadata": {},
     "output_type": "execute_result"
    }
   ],
   "source": [
    "# Отклонения значений внутри группы от средней группы\n",
    "ssw = sum(sum((x - group_mean)**2 for x in data[group]) for group, group_mean in data.mean().items())\n",
    "ssw"
   ]
  },
  {
   "cell_type": "markdown",
   "id": "aeb8a803-8cff-42f2-9099-02fd5a6da1c3",
   "metadata": {},
   "source": [
    "#### Степени свободы"
   ]
  },
  {
   "cell_type": "code",
   "execution_count": 58,
   "id": "fb1b324b-7caf-46fa-97d9-533b6d05db80",
   "metadata": {},
   "outputs": [
    {
     "data": {
      "text/plain": [
       "3"
      ]
     },
     "execution_count": 58,
     "metadata": {},
     "output_type": "execute_result"
    }
   ],
   "source": [
    "groups = data.shape[1]\n",
    "groups"
   ]
  },
  {
   "cell_type": "code",
   "execution_count": 59,
   "id": "b53f0292-f40e-4364-adf2-a118ebce7f2c",
   "metadata": {},
   "outputs": [],
   "source": [
    "dfb = groups - 1\n",
    "dfw = data.size - groups"
   ]
  },
  {
   "cell_type": "code",
   "execution_count": 60,
   "id": "2f919404-ec62-4b90-96f0-6e0eace38154",
   "metadata": {},
   "outputs": [
    {
     "data": {
      "text/plain": [
       "2"
      ]
     },
     "execution_count": 60,
     "metadata": {},
     "output_type": "execute_result"
    }
   ],
   "source": [
    "dfb"
   ]
  },
  {
   "cell_type": "code",
   "execution_count": 61,
   "id": "b373cf03-d9e1-45b4-ad6d-f0568f533404",
   "metadata": {},
   "outputs": [
    {
     "data": {
      "text/plain": [
       "6"
      ]
     },
     "execution_count": 61,
     "metadata": {},
     "output_type": "execute_result"
    }
   ],
   "source": [
    "dfw"
   ]
  },
  {
   "cell_type": "markdown",
   "id": "7eee43d9-8bfd-4348-80d4-f5ad8921820f",
   "metadata": {},
   "source": [
    "#### Межгрупповой средний квадрат"
   ]
  },
  {
   "cell_type": "code",
   "execution_count": 62,
   "id": "d459b401-776b-4447-b734-59da46927108",
   "metadata": {},
   "outputs": [
    {
     "data": {
      "text/plain": [
       "12.0"
      ]
     },
     "execution_count": 62,
     "metadata": {},
     "output_type": "execute_result"
    }
   ],
   "source": [
    "mssb = ssb/dfb\n",
    "mssb"
   ]
  },
  {
   "cell_type": "markdown",
   "id": "cf53492f-319d-4282-9522-bbd9c68f09bc",
   "metadata": {},
   "source": [
    "#### Внутригрупповой средний квадрат"
   ]
  },
  {
   "cell_type": "code",
   "execution_count": 63,
   "id": "c2d88013-90c2-4e12-a1c2-716aa0baea76",
   "metadata": {},
   "outputs": [
    {
     "data": {
      "text/plain": [
       "1.0"
      ]
     },
     "execution_count": 63,
     "metadata": {},
     "output_type": "execute_result"
    }
   ],
   "source": [
    "mssw = ssw/dfw\n",
    "mssw"
   ]
  },
  {
   "cell_type": "markdown",
   "id": "e3ee5039-996e-4d41-9071-1f3f61796093",
   "metadata": {},
   "source": [
    "#### Рассчитываем f-значение"
   ]
  },
  {
   "cell_type": "code",
   "execution_count": 64,
   "id": "cf1fb257-e1a4-4ba2-80b5-148a3a3dcd47",
   "metadata": {},
   "outputs": [
    {
     "data": {
      "text/plain": [
       "12.0"
      ]
     },
     "execution_count": 64,
     "metadata": {},
     "output_type": "execute_result"
    }
   ],
   "source": [
    "f_value = mssb/mssw\n",
    "f_value"
   ]
  },
  {
   "cell_type": "markdown",
   "id": "5b2e07f9-be9d-4520-8082-28f7f9c7e1d1",
   "metadata": {},
   "source": [
    "#### Рассчитаем p-value"
   ]
  },
  {
   "cell_type": "code",
   "execution_count": 65,
   "id": "0cea4925-eaab-4af8-9ae8-9ed771cab0c8",
   "metadata": {},
   "outputs": [
    {
     "name": "stdout",
     "output_type": "stream",
     "text": [
      "Результат:\n",
      "p-value = 0.008000000000000002\n",
      "Отклоняем нулевую гипотезу\n",
      "Полученное f-значение 12.0\n"
     ]
    }
   ],
   "source": [
    "p = st.f.sf(f_value, dfb, dfw)\n",
    "print('Результат:')\n",
    "print(f'p-value = {p}')\n",
    "if p < 0.05:\n",
    "    print('Отклоняем нулевую гипотезу')\n",
    "else:\n",
    "    print('НЕ отклоняем нулевую гипотезу')\n",
    "print(f'Полученное f-значение {f_value}')\n"
   ]
  },
  {
   "cell_type": "markdown",
   "id": "6e9f6eeb-b3bc-44ac-bfa0-eb7880535f09",
   "metadata": {},
   "source": [
    "### Используем встроенные функции питона"
   ]
  },
  {
   "cell_type": "markdown",
   "id": "d52df86d-a95b-46f9-8d07-548fd707264b",
   "metadata": {},
   "source": [
    "#### Однофакторный одномерный дисперсионный анализ"
   ]
  },
  {
   "cell_type": "markdown",
   "id": "57253cb2-76d6-4c75-8a6f-516c61247263",
   "metadata": {},
   "source": [
    "Проанализируем синтерический датасет с данными. У насть есть наблюдения по 4 группам. Предположим, сто это данные о результатах исследования эффективности четырех препаратов и нам нужно определить есть ли между этими результатами статистически значимая разница."
   ]
  },
  {
   "cell_type": "code",
   "execution_count": 66,
   "id": "e1ff1d39-3239-4c14-ac79-064f7f398355",
   "metadata": {},
   "outputs": [
    {
     "data": {
      "text/html": [
       "<div>\n",
       "<style scoped>\n",
       "    .dataframe tbody tr th:only-of-type {\n",
       "        vertical-align: middle;\n",
       "    }\n",
       "\n",
       "    .dataframe tbody tr th {\n",
       "        vertical-align: top;\n",
       "    }\n",
       "\n",
       "    .dataframe thead th {\n",
       "        text-align: right;\n",
       "    }\n",
       "</style>\n",
       "<table border=\"1\" class=\"dataframe\">\n",
       "  <thead>\n",
       "    <tr style=\"text-align: right;\">\n",
       "      <th></th>\n",
       "      <th>A</th>\n",
       "      <th>B</th>\n",
       "      <th>C</th>\n",
       "      <th>D</th>\n",
       "    </tr>\n",
       "  </thead>\n",
       "  <tbody>\n",
       "    <tr>\n",
       "      <th>0</th>\n",
       "      <td>25</td>\n",
       "      <td>45</td>\n",
       "      <td>30</td>\n",
       "      <td>54</td>\n",
       "    </tr>\n",
       "    <tr>\n",
       "      <th>1</th>\n",
       "      <td>30</td>\n",
       "      <td>55</td>\n",
       "      <td>29</td>\n",
       "      <td>60</td>\n",
       "    </tr>\n",
       "    <tr>\n",
       "      <th>2</th>\n",
       "      <td>28</td>\n",
       "      <td>29</td>\n",
       "      <td>33</td>\n",
       "      <td>51</td>\n",
       "    </tr>\n",
       "    <tr>\n",
       "      <th>3</th>\n",
       "      <td>36</td>\n",
       "      <td>56</td>\n",
       "      <td>37</td>\n",
       "      <td>62</td>\n",
       "    </tr>\n",
       "    <tr>\n",
       "      <th>4</th>\n",
       "      <td>29</td>\n",
       "      <td>40</td>\n",
       "      <td>27</td>\n",
       "      <td>73</td>\n",
       "    </tr>\n",
       "  </tbody>\n",
       "</table>\n",
       "</div>"
      ],
      "text/plain": [
       "    A   B   C   D\n",
       "0  25  45  30  54\n",
       "1  30  55  29  60\n",
       "2  28  29  33  51\n",
       "3  36  56  37  62\n",
       "4  29  40  27  73"
      ]
     },
     "execution_count": 66,
     "metadata": {},
     "output_type": "execute_result"
    }
   ],
   "source": [
    "df = pd.DataFrame(\n",
    "    [\n",
    "        [25, 45, 30, 54],\n",
    "        [30, 55, 29, 60],\n",
    "        [28, 29, 33, 51],\n",
    "        [36, 56, 37, 62],\n",
    "        [29, 40, 27, 73],\n",
    "    ],\n",
    "    columns=['A', 'B', 'C', 'D']\n",
    ")\n",
    "df"
   ]
  },
  {
   "cell_type": "code",
   "execution_count": 67,
   "id": "6e55affd-8384-4ea8-8ce4-f3f0cc7f4c8b",
   "metadata": {},
   "outputs": [
    {
     "data": {
      "text/html": [
       "<div>\n",
       "<style scoped>\n",
       "    .dataframe tbody tr th:only-of-type {\n",
       "        vertical-align: middle;\n",
       "    }\n",
       "\n",
       "    .dataframe tbody tr th {\n",
       "        vertical-align: top;\n",
       "    }\n",
       "\n",
       "    .dataframe thead th {\n",
       "        text-align: right;\n",
       "    }\n",
       "</style>\n",
       "<table border=\"1\" class=\"dataframe\">\n",
       "  <thead>\n",
       "    <tr style=\"text-align: right;\">\n",
       "      <th></th>\n",
       "      <th>index</th>\n",
       "      <th>treatments</th>\n",
       "      <th>value</th>\n",
       "    </tr>\n",
       "  </thead>\n",
       "  <tbody>\n",
       "    <tr>\n",
       "      <th>0</th>\n",
       "      <td>0</td>\n",
       "      <td>A</td>\n",
       "      <td>25</td>\n",
       "    </tr>\n",
       "    <tr>\n",
       "      <th>1</th>\n",
       "      <td>1</td>\n",
       "      <td>A</td>\n",
       "      <td>30</td>\n",
       "    </tr>\n",
       "    <tr>\n",
       "      <th>2</th>\n",
       "      <td>2</td>\n",
       "      <td>A</td>\n",
       "      <td>28</td>\n",
       "    </tr>\n",
       "    <tr>\n",
       "      <th>3</th>\n",
       "      <td>3</td>\n",
       "      <td>A</td>\n",
       "      <td>36</td>\n",
       "    </tr>\n",
       "    <tr>\n",
       "      <th>4</th>\n",
       "      <td>4</td>\n",
       "      <td>A</td>\n",
       "      <td>29</td>\n",
       "    </tr>\n",
       "    <tr>\n",
       "      <th>5</th>\n",
       "      <td>0</td>\n",
       "      <td>B</td>\n",
       "      <td>45</td>\n",
       "    </tr>\n",
       "    <tr>\n",
       "      <th>6</th>\n",
       "      <td>1</td>\n",
       "      <td>B</td>\n",
       "      <td>55</td>\n",
       "    </tr>\n",
       "    <tr>\n",
       "      <th>7</th>\n",
       "      <td>2</td>\n",
       "      <td>B</td>\n",
       "      <td>29</td>\n",
       "    </tr>\n",
       "    <tr>\n",
       "      <th>8</th>\n",
       "      <td>3</td>\n",
       "      <td>B</td>\n",
       "      <td>56</td>\n",
       "    </tr>\n",
       "    <tr>\n",
       "      <th>9</th>\n",
       "      <td>4</td>\n",
       "      <td>B</td>\n",
       "      <td>40</td>\n",
       "    </tr>\n",
       "    <tr>\n",
       "      <th>10</th>\n",
       "      <td>0</td>\n",
       "      <td>C</td>\n",
       "      <td>30</td>\n",
       "    </tr>\n",
       "    <tr>\n",
       "      <th>11</th>\n",
       "      <td>1</td>\n",
       "      <td>C</td>\n",
       "      <td>29</td>\n",
       "    </tr>\n",
       "    <tr>\n",
       "      <th>12</th>\n",
       "      <td>2</td>\n",
       "      <td>C</td>\n",
       "      <td>33</td>\n",
       "    </tr>\n",
       "    <tr>\n",
       "      <th>13</th>\n",
       "      <td>3</td>\n",
       "      <td>C</td>\n",
       "      <td>37</td>\n",
       "    </tr>\n",
       "    <tr>\n",
       "      <th>14</th>\n",
       "      <td>4</td>\n",
       "      <td>C</td>\n",
       "      <td>27</td>\n",
       "    </tr>\n",
       "    <tr>\n",
       "      <th>15</th>\n",
       "      <td>0</td>\n",
       "      <td>D</td>\n",
       "      <td>54</td>\n",
       "    </tr>\n",
       "    <tr>\n",
       "      <th>16</th>\n",
       "      <td>1</td>\n",
       "      <td>D</td>\n",
       "      <td>60</td>\n",
       "    </tr>\n",
       "    <tr>\n",
       "      <th>17</th>\n",
       "      <td>2</td>\n",
       "      <td>D</td>\n",
       "      <td>51</td>\n",
       "    </tr>\n",
       "    <tr>\n",
       "      <th>18</th>\n",
       "      <td>3</td>\n",
       "      <td>D</td>\n",
       "      <td>62</td>\n",
       "    </tr>\n",
       "    <tr>\n",
       "      <th>19</th>\n",
       "      <td>4</td>\n",
       "      <td>D</td>\n",
       "      <td>73</td>\n",
       "    </tr>\n",
       "  </tbody>\n",
       "</table>\n",
       "</div>"
      ],
      "text/plain": [
       "    index treatments  value\n",
       "0       0          A     25\n",
       "1       1          A     30\n",
       "2       2          A     28\n",
       "3       3          A     36\n",
       "4       4          A     29\n",
       "5       0          B     45\n",
       "6       1          B     55\n",
       "7       2          B     29\n",
       "8       3          B     56\n",
       "9       4          B     40\n",
       "10      0          C     30\n",
       "11      1          C     29\n",
       "12      2          C     33\n",
       "13      3          C     37\n",
       "14      4          C     27\n",
       "15      0          D     54\n",
       "16      1          D     60\n",
       "17      2          D     51\n",
       "18      3          D     62\n",
       "19      4          D     73"
      ]
     },
     "execution_count": 67,
     "metadata": {},
     "output_type": "execute_result"
    }
   ],
   "source": [
    "df_melt = pd.melt(df.reset_index(), id_vars=['index'], value_vars=['A', 'B', 'C', 'D'])\n",
    "df_melt.columns = ['index', 'treatments', 'value']\n",
    "df_melt"
   ]
  },
  {
   "cell_type": "code",
   "execution_count": 68,
   "id": "22ec6df3-22e2-4be1-ae9e-6a1894f8b85c",
   "metadata": {},
   "outputs": [
    {
     "data": {
      "image/png": "[encoded data removed]",
      "text/plain": [
       "<Figure size 640x480 with 1 Axes>"
      ]
     },
     "metadata": {},
     "output_type": "display_data"
    }
   ],
   "source": [
    "ax = sns.boxplot(x='treatments', y='value', data=df_melt, color='#99c2a2')\n",
    "ax = sns.swarmplot(x='treatments', y='value', data=df_melt, color='#7d0013')\n",
    "plt.show()"
   ]
  },
  {
   "cell_type": "code",
   "execution_count": 70,
   "id": "764c62b0-9f17-4a2c-afc7-78dfcbf91135",
   "metadata": {},
   "outputs": [
    {
     "name": "stdout",
     "output_type": "stream",
     "text": [
      "Статистика = 17.493, p-value = 0.000026\n",
      "Отклоняет нулевую гипотезу, средние, вероятно, различаются\n"
     ]
    }
   ],
   "source": [
    "fvalue, pvalue = st.f_oneway(df['A'], df['B'], df['C'], df['D'])\n",
    "\n",
    "print(f'Статистика = {fvalue:.3f}, p-value = {pvalue:.6f}')\n",
    "if pvalue > 0.05:\n",
    "    print('Не отклоняем нулевую гипотезу, средние, вероятно, одинаковые')\n",
    "else:\n",
    "    print('Отклоняет нулевую гипотезу, средние, вероятно, различаются')"
   ]
  },
  {
   "cell_type": "markdown",
   "id": "c414efc9-f152-4fbe-9902-f8d90ccf3fae",
   "metadata": {
    "jp-MarkdownHeadingCollapsed": true
   },
   "source": [
    "#### Анализ мощности"
   ]
  },
  {
   "cell_type": "markdown",
   "id": "2ce398d2-53e8-4584-90f4-8368b1b15dde",
   "metadata": {},
   "source": [
    "возможные задачи:\n",
    "- по заранее определенной точности, по альфа и по бете рассчитать, сколько нужно будет данных\n",
    "- при наличии фиксированного количества данных рассчитать бету при фиксированной альфе."
   ]
  },
  {
   "cell_type": "code",
   "execution_count": 77,
   "id": "e2116d19-25df-4956-9104-4263219ae8e1",
   "metadata": {},
   "outputs": [
    {
     "data": {
      "text/plain": [
       "448.67785943065195"
      ]
     },
     "execution_count": 77,
     "metadata": {},
     "output_type": "execute_result"
    }
   ],
   "source": [
    "# для t-теста это функция tt_solve_power\n",
    "tt_solve_power(\n",
    "    effect_size = 0.2,\n",
    "    alpha = 0.01, \n",
    "    power = 0.95\n",
    ")"
   ]
  },
  {
   "cell_type": "markdown",
   "id": "4ffc3f86-f799-4c88-97dd-123435cd3b4f",
   "metadata": {},
   "source": [
    "Для каждого теста есть свой метод анализа мощности!!!"
   ]
  },
  {
   "cell_type": "markdown",
   "id": "6d8ff814-d97e-4dbc-b072-251d5ddb4b1f",
   "metadata": {},
   "source": [
    "#### Поправка Тьюке"
   ]
  },
  {
   "cell_type": "code",
   "execution_count": 79,
   "id": "09b1390c-20ba-41d4-afa6-2622f1715b9e",
   "metadata": {},
   "outputs": [
    {
     "data": {
      "text/html": [
       "<div>\n",
       "<style scoped>\n",
       "    .dataframe tbody tr th:only-of-type {\n",
       "        vertical-align: middle;\n",
       "    }\n",
       "\n",
       "    .dataframe tbody tr th {\n",
       "        vertical-align: top;\n",
       "    }\n",
       "\n",
       "    .dataframe thead th {\n",
       "        text-align: right;\n",
       "    }\n",
       "</style>\n",
       "<table border=\"1\" class=\"dataframe\">\n",
       "  <thead>\n",
       "    <tr style=\"text-align: right;\">\n",
       "      <th></th>\n",
       "      <th>A</th>\n",
       "      <th>B</th>\n",
       "      <th>C</th>\n",
       "      <th>D</th>\n",
       "    </tr>\n",
       "  </thead>\n",
       "  <tbody>\n",
       "    <tr>\n",
       "      <th>0</th>\n",
       "      <td>25</td>\n",
       "      <td>45</td>\n",
       "      <td>30</td>\n",
       "      <td>54</td>\n",
       "    </tr>\n",
       "    <tr>\n",
       "      <th>1</th>\n",
       "      <td>30</td>\n",
       "      <td>55</td>\n",
       "      <td>29</td>\n",
       "      <td>60</td>\n",
       "    </tr>\n",
       "    <tr>\n",
       "      <th>2</th>\n",
       "      <td>28</td>\n",
       "      <td>29</td>\n",
       "      <td>33</td>\n",
       "      <td>51</td>\n",
       "    </tr>\n",
       "    <tr>\n",
       "      <th>3</th>\n",
       "      <td>36</td>\n",
       "      <td>56</td>\n",
       "      <td>37</td>\n",
       "      <td>62</td>\n",
       "    </tr>\n",
       "    <tr>\n",
       "      <th>4</th>\n",
       "      <td>29</td>\n",
       "      <td>40</td>\n",
       "      <td>27</td>\n",
       "      <td>73</td>\n",
       "    </tr>\n",
       "  </tbody>\n",
       "</table>\n",
       "</div>"
      ],
      "text/plain": [
       "    A   B   C   D\n",
       "0  25  45  30  54\n",
       "1  30  55  29  60\n",
       "2  28  29  33  51\n",
       "3  36  56  37  62\n",
       "4  29  40  27  73"
      ]
     },
     "execution_count": 79,
     "metadata": {},
     "output_type": "execute_result"
    }
   ],
   "source": [
    "df"
   ]
  },
  {
   "cell_type": "code",
   "execution_count": 83,
   "id": "7eff8614-83b0-40da-903c-cdd938b7254f",
   "metadata": {},
   "outputs": [],
   "source": [
    "groups = ['A', 'B', 'C', 'D']\n",
    "names = [];\n",
    "for k1 in range (len(groups)):\n",
    "    for k2 in range(len(df['A'])):\n",
    "        names.append(groups[k1])"
   ]
  },
  {
   "cell_type": "code",
   "execution_count": 85,
   "id": "90f9b174-1a28-4e77-b330-4cc95a680c33",
   "metadata": {},
   "outputs": [
    {
     "data": {
      "text/plain": [
       "['A',\n",
       " 'A',\n",
       " 'A',\n",
       " 'A',\n",
       " 'A',\n",
       " 'B',\n",
       " 'B',\n",
       " 'B',\n",
       " 'B',\n",
       " 'B',\n",
       " 'C',\n",
       " 'C',\n",
       " 'C',\n",
       " 'C',\n",
       " 'C',\n",
       " 'D',\n",
       " 'D',\n",
       " 'D',\n",
       " 'D',\n",
       " 'D']"
      ]
     },
     "execution_count": 85,
     "metadata": {},
     "output_type": "execute_result"
    }
   ],
   "source": [
    "names"
   ]
  },
  {
   "cell_type": "code",
   "execution_count": 91,
   "id": "c9c7ae23-5836-4125-b131-963c6f06ab93",
   "metadata": {},
   "outputs": [
    {
     "name": "stdout",
     "output_type": "stream",
     "text": [
      "Multiple Comparison of Means - Tukey HSD, FWER=0.05\n",
      "===================================================\n",
      "group1 group2 meandiff p-adj   lower  upper  reject\n",
      "---------------------------------------------------\n",
      "     A      B     15.4 0.0251   1.694 29.106   True\n",
      "     A      C      1.6 0.9867 -12.106 15.306  False\n",
      "     A      D     30.4 0.0001  16.694 44.106   True\n",
      "     B      C    -13.8 0.0482 -27.506 -0.094   True\n",
      "     B      D     15.0 0.0296   1.294 28.706   True\n",
      "     C      D     28.8 0.0001  15.094 42.506   True\n",
      "---------------------------------------------------\n"
     ]
    }
   ],
   "source": [
    "tukey = pairwise_tukeyhsd(\n",
    "    endog=pd.concat([df['A'], df['B'], df['C'], df['D']]).values,\n",
    "    groups = names,\n",
    "    alpha = 0.05\n",
    ")\n",
    "print(tukey)"
   ]
  },
  {
   "cell_type": "code",
   "execution_count": 93,
   "id": "fa9add71-af93-4b0c-ada2-f28ce847c921",
   "metadata": {},
   "outputs": [
    {
     "name": "stdout",
     "output_type": "stream",
     "text": [
      "Multiple Comparison of Means - Tukey HSD, FWER=0.05\n",
      "===================================================\n",
      "group1 group2 meandiff p-adj   lower  upper  reject\n",
      "---------------------------------------------------\n",
      "     A      B     15.4 0.0251   1.694 29.106   True\n",
      "     A      C      1.6 0.9867 -12.106 15.306  False\n",
      "     A      D     30.4 0.0001  16.694 44.106   True\n",
      "     B      C    -13.8 0.0482 -27.506 -0.094   True\n",
      "     B      D     15.0 0.0296   1.294 28.706   True\n",
      "     C      D     28.8 0.0001  15.094 42.506   True\n",
      "---------------------------------------------------\n"
     ]
    }
   ],
   "source": [
    "# можно и так:\n",
    "tukey = pairwise_tukeyhsd(\n",
    "    endog=pd.concat([df['A'], df['B'], df['C'], df['D']]).values,\n",
    "    groups = df_melt['treatments'],\n",
    "    alpha = 0.05\n",
    ")\n",
    "print(tukey)"
   ]
  },
  {
   "cell_type": "code",
   "execution_count": 95,
   "id": "97b564ec-aee8-42b1-8d72-912487040495",
   "metadata": {},
   "outputs": [
    {
     "data": {
      "image/png": "[encoded data removed]",
      "text/plain": [
       "<Figure size 1000x600 with 1 Axes>"
      ]
     },
     "metadata": {},
     "output_type": "display_data"
    }
   ],
   "source": [
    "# визуализация метода Тьюке\n",
    "tukey.plot_simultaneous(comparison_name='C');"
   ]
  },
  {
   "cell_type": "markdown",
   "id": "1dc80af0-ea0d-4224-a6e1-c565d806da25",
   "metadata": {
    "jp-MarkdownHeadingCollapsed": true
   },
   "source": [
    "## Тест Краскела-Уоллиса"
   ]
  },
  {
   "cell_type": "markdown",
   "id": "946105d7-f7fc-45a4-b853-7c8b09ba6273",
   "metadata": {},
   "source": [
    "Непараметрический аналог одномерного дисперсионного анализа. Он используется для сравнения трех или более выборок, и проверяет гипотезы, согласно которым различные выборки были взяты из одного и того же рапределения, или из распределений с одинаковыми медианами.\n",
    "\n",
    "Допущения\n",
    "- Наблюдения независимы друг от друга.\n",
    "- Наблюдения можно проранжировать.\n",
    "\n",
    "Гипотеза\n",
    "- Н0: Все распределения одинаковы.\n",
    "- Н1: Одно или несколько расеределений различаются."
   ]
  },
  {
   "cell_type": "code",
   "execution_count": 96,
   "id": "334cb4ac-ab9d-4697-8c34-d521b535a701",
   "metadata": {},
   "outputs": [],
   "source": [
    "data1 = [6.873, 4.817, 4.121, -0.045, -0.055, -0.0436, 4.360, -0.478, -0.0637, -0.089]\n",
    "data2 = [1.142, -0.432, -0.938, -0.729, -0.846, -0.157, 0.500, 1.183, -1.075, -0.169]\n",
    "data3 = [-0.208, 0.696, 0.928, -1.148, -0.213, 0.229, 0.137, 0.269, -0.870, -1.204]"
   ]
  },
  {
   "cell_type": "code",
   "execution_count": 97,
   "id": "f243049c-8006-45c1-a3de-e4c90aedc99d",
   "metadata": {},
   "outputs": [
    {
     "name": "stdout",
     "output_type": "stream",
     "text": [
      "Статистика = 4.328, p-value = 0.115\n",
      "Не отклоняем нулевую гипотезу, распределения, вероятно, одинатовые\n"
     ]
    }
   ],
   "source": [
    "# метод Краскала-Уоллиса\n",
    "stat, p = st.kruskal(data1, data2, data3)\n",
    "\n",
    "print(f'Статистика = {stat:.3f}, p-value = {p:.3f}')\n",
    "if p > 0.05:\n",
    "    print('Не отклоняем нулевую гипотезу, распределения, вероятно, одинатовые')\n",
    "else:\n",
    "    print('Отклоняем нулевую гипотезу, распределения, вероятно, различаются')"
   ]
  },
  {
   "cell_type": "markdown",
   "id": "b92e90ea-cf8f-48fd-905f-f381d8f86cb7",
   "metadata": {},
   "source": [
    "#### Правка Дунна (аналогичный правке Тьюке)"
   ]
  },
  {
   "cell_type": "code",
   "execution_count": 108,
   "id": "7ab2c88c-df81-4788-80cf-21745dac9962",
   "metadata": {},
   "outputs": [],
   "source": [
    "#sp.posthoc_dunn(data, p_adjust = 'bonferroni')"
   ]
  },
  {
   "cell_type": "markdown",
   "id": "4f120f39-8fc4-445f-8d2b-c2ca534bb199",
   "metadata": {
    "jp-MarkdownHeadingCollapsed": true
   },
   "source": [
    "## Тесты на нормальность данных"
   ]
  },
  {
   "cell_type": "markdown",
   "id": "4b593e09-202e-4fbc-9ad6-d42bd42df7cc",
   "metadata": {
    "jp-MarkdownHeadingCollapsed": true
   },
   "source": [
    "### Тест Шапиро-Уилка"
   ]
  },
  {
   "cell_type": "markdown",
   "id": "1c2bffc5-9749-4aa6-9ce1-3060eaf7a5d7",
   "metadata": {},
   "source": [
    "Проверяет, распределены ли данные по нормальному закону.\n",
    "\n",
    "Допущения\n",
    "- Наблюдение независимы друг от друга.\n",
    "\n",
    "Гипотеза\n",
    "- Н0: Данные распределены по нормальному закону.\n",
    "- Н1: Данные не распределены по нормальному закону."
   ]
  },
  {
   "cell_type": "code",
   "execution_count": 109,
   "id": "69a90698-8067-48b8-ab3e-a1d8448a0efe",
   "metadata": {},
   "outputs": [],
   "source": [
    "data = [0.873, 2.817, 0.121, -0.945, -0.055, -1.436, 0.360, -1.478, -1.637, -1.869]"
   ]
  },
  {
   "cell_type": "code",
   "execution_count": 110,
   "id": "7ca45baa-3785-49cb-9b75-f86d55b4b346",
   "metadata": {},
   "outputs": [
    {
     "name": "stdout",
     "output_type": "stream",
     "text": [
      "Статистика = 0.895, p-value = 0.193\n",
      "Вероятно нормальное распределение\n"
     ]
    }
   ],
   "source": [
    "stat, p = st.shapiro(data)\n",
    "\n",
    "print(f'Статистика = {stat:.3f}, p-value = {p:.3f}')\n",
    "if p > 0.05:\n",
    "    print('Вероятно нормальное распределение')\n",
    "else:\n",
    "    print('Вероятно не номальное распределение')"
   ]
  },
  {
   "cell_type": "markdown",
   "id": "40002c14-9218-4607-bae8-5b70e0dd35a7",
   "metadata": {},
   "source": [
    "### Тест Андерсона-Дарлинга"
   ]
  },
  {
   "cell_type": "markdown",
   "id": "64d3a371-f395-4ebf-ad83-8456efc0ec02",
   "metadata": {},
   "source": [
    "Проверяет, распределены ли данные по нормальному закону.\n",
    "\n",
    "Допущения\n",
    "- Наблюдение независимы друг от друга.\n",
    "\n",
    "Гипотеза\n",
    "- Н0: Данные распределены по нормальному закону.\n",
    "- Н1: Данные не распределены по нормальному закону."
   ]
  },
  {
   "cell_type": "code",
   "execution_count": 111,
   "id": "4fa7cf62-fa44-43e1-be9d-92c2e434e306",
   "metadata": {},
   "outputs": [
    {
     "data": {
      "text/plain": [
       "AndersonResult(statistic=0.4239737141854789, critical_values=array([0.501, 0.57 , 0.684, 0.798, 0.95 ]), significance_level=array([15. , 10. ,  5. ,  2.5,  1. ]), fit_result=  params: FitParams(loc=-0.32489999999999997, scale=1.4568542556557338)\n",
       " success: True\n",
       " message: '`anderson` successfully fit the distribution to the data.')"
      ]
     },
     "execution_count": 111,
     "metadata": {},
     "output_type": "execute_result"
    }
   ],
   "source": [
    "result = st.anderson(data)\n",
    "result"
   ]
  },
  {
   "cell_type": "code",
   "execution_count": 112,
   "id": "0589a3bd-5ffe-4b24-b7c9-d73c25c76900",
   "metadata": {},
   "outputs": [
    {
     "name": "stdout",
     "output_type": "stream",
     "text": [
      "stat = 0.424\n",
      "Вероятно, нормальное расеределение на уровне 15.0 \n",
      "Вероятно, нормальное расеределение на уровне 10.0 \n",
      "Вероятно, нормальное расеределение на уровне 5.0 \n",
      "Вероятно, нормальное расеределение на уровне 2.5 \n",
      "Вероятно, нормальное расеределение на уровне 1.0 \n"
     ]
    }
   ],
   "source": [
    "print(f'stat = {result.statistic:.3f}')\n",
    "for i in range(len(result.critical_values)):\n",
    "    sl, cv = result.significance_level[i], result.critical_values[i]\n",
    "    if result.statistic < cv:\n",
    "        print(f'Вероятно, нормальное расеределение на уровне {sl:.1f} ')\n",
    "    else:\n",
    "        print(f'Вероятно, не нормальное распределение на уровне {sl:.1f}')"
   ]
  },
  {
   "cell_type": "markdown",
   "id": "9bfa068c-94cb-4e27-a4a3-b868699a6de4",
   "metadata": {},
   "source": [
    "### Тест Колмогорова-Смирнова"
   ]
  },
  {
   "cell_type": "code",
   "execution_count": 113,
   "id": "6a632ff7-79f2-40bc-b418-5882a9a74f3f",
   "metadata": {},
   "outputs": [],
   "source": [
    "data3 = np.random.normal(0, 1, 100)\n",
    "data4 = np.random.normal(5, 2, 100)\n",
    "data5 = np.random.normal(5, 2.1, 100)"
   ]
  },
  {
   "cell_type": "code",
   "execution_count": 115,
   "id": "4a5474d3-805b-4e97-a5be-da0528e06d01",
   "metadata": {},
   "outputs": [
    {
     "data": {
      "text/plain": [
       "[0.873, 2.817, 0.121, -0.945, -0.055, -1.436, 0.36, -1.478, -1.637, -1.869]"
      ]
     },
     "execution_count": 115,
     "metadata": {},
     "output_type": "execute_result"
    }
   ],
   "source": [
    "data"
   ]
  },
  {
   "cell_type": "code",
   "execution_count": 116,
   "id": "4fe87b13-25d3-46a8-9bc6-939697090b27",
   "metadata": {},
   "outputs": [
    {
     "name": "stdout",
     "output_type": "stream",
     "text": [
      "Статистика = 0.32767, p-value = 0.186135327199016\n"
     ]
    }
   ],
   "source": [
    "stat, p = st.kstest(data, 'norm')\n",
    "print(f'Статистика = {stat:.5f}, p-value = {p:.15f}')"
   ]
  },
  {
   "cell_type": "code",
   "execution_count": 119,
   "id": "84a66add-57a2-42bb-baf6-b39f8f6986b8",
   "metadata": {},
   "outputs": [
    {
     "name": "stdout",
     "output_type": "stream",
     "text": [
      "Статистика = 0.09772, p-value = 0.276837557613757\n"
     ]
    }
   ],
   "source": [
    "stat, p = st.kstest(data3, 'norm')\n",
    "print(f'Статистика = {stat:.5f}, p-value = {p:.15f}')"
   ]
  },
  {
   "cell_type": "markdown",
   "id": "e2ebaf9a-7eeb-422c-a8d5-743613066be9",
   "metadata": {},
   "source": [
    "Сравним два распределения:"
   ]
  },
  {
   "cell_type": "code",
   "execution_count": 120,
   "id": "7af20375-78dc-4d40-8cca-a7d2e45a3c04",
   "metadata": {},
   "outputs": [],
   "source": [
    "data1 = np.random.randn(100)\n",
    "data2 = np.random.lognormal(3, 1, 100)"
   ]
  },
  {
   "cell_type": "code",
   "execution_count": 121,
   "id": "7e1c6a16-a03c-4006-9f91-15113ebab573",
   "metadata": {},
   "outputs": [
    {
     "name": "stdout",
     "output_type": "stream",
     "text": [
      "Статистика = 1.00000, p-value = 0.00000\n"
     ]
    }
   ],
   "source": [
    "stat, p = st.ks_2samp(data1, data2)\n",
    "print(f\"Статистика = {stat:.5f}, p-value = {p:.5f}\")"
   ]
  },
  {
   "cell_type": "code",
   "execution_count": null,
   "id": "833eded1-03ea-4a19-872c-2f55fb5e00ca",
   "metadata": {},
   "outputs": [],
   "source": []
  }
 ],
 "metadata": {
  "kernelspec": {
   "display_name": "Python 3 (ipykernel)",
   "language": "python",
   "name": "python3"
  },
  "language_info": {
   "codemirror_mode": {
    "name": "ipython",
    "version": 3
   },
   "file_extension": ".py",
   "mimetype": "text/x-python",
   "name": "python",
   "nbconvert_exporter": "python",
   "pygments_lexer": "ipython3",
   "version": "3.11.5"
  }
 },
 "nbformat": 4,
 "nbformat_minor": 5
}
