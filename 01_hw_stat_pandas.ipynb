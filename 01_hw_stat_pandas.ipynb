{
 "cells": [
  {
   "cell_type": "markdown",
   "id": "b62bd31d-c159-4e03-a13c-223a5c101914",
   "metadata": {},
   "source": [
    "# Домашнее задание к лекции \"Базовые понятия статистики\""
   ]
  },
  {
   "cell_type": "markdown",
   "id": "9e60419c-b7c5-4055-bc1f-988532ade4b0",
   "metadata": {},
   "source": [
    "Будем осуществлять работу с непростым набором данных о состоянии здоровья лошадей, испытывающих кишечные колики. Цель – максимально корректно заполнить пропуски."
   ]
  },
  {
   "cell_type": "code",
   "execution_count": 1,
   "id": "5985495c-0b3b-42ae-aaea-1d5ae2c6b5be",
   "metadata": {},
   "outputs": [],
   "source": [
    "import pandas as pd\n",
    "import numpy as np\n",
    "import matplotlib.pyplot as plt"
   ]
  },
  {
   "cell_type": "markdown",
   "id": "fd6cd1dc-fa72-49bf-9678-9da7ffe83fa5",
   "metadata": {},
   "source": [
    "## Задание 1. Загрузка данных\n",
    "Изучить представленный набор данных на основе описания его столбцов, загрузить его и оставить 8 столбцов для дальнейшего изучения: surgery?, Age, rectal temperature, pulse, respiratory rate, temperature of extremities, pain, outcome."
   ]
  },
  {
   "cell_type": "code",
   "execution_count": 2,
   "id": "42f9938e-f9ce-4535-b649-f307b7255206",
   "metadata": {},
   "outputs": [
    {
     "data": {
      "text/plain": [
       "28"
      ]
     },
     "execution_count": 2,
     "metadata": {},
     "output_type": "execute_result"
    }
   ],
   "source": [
    "# Список имен столбцов\n",
    "col_names = [\n",
    "    'surgery?', 'Age', 'Hospital Number', 'rectal temperature',\n",
    "    'pulse', 'respiratory rate', 'temperature of extremities',\n",
    "    'peripheral pulse', 'mucous membranes', 'capillary refill time',\n",
    "    'pain', 'peristalsis', 'abdominal distension', 'nasogastric tube',\n",
    "    'nasogastric reflux', 'nasogastric reflux PH', 'rectal examination',\n",
    "    'abdomen', 'packed cell volume', 'total protein',\n",
    "    'abdominocentesis appearance', 'abdomcentesis total protein',\n",
    "    'outcome', 'surgical lesion?', 'type of lesion 01',\n",
    "    'type of lesion 02', 'type of lesion 03', 'cp_data',\n",
    "]\n",
    "len(col_names)"
   ]
  },
  {
   "cell_type": "code",
   "execution_count": 3,
   "id": "68bda088-f6c4-42ef-a2dd-cc8d0afaf145",
   "metadata": {},
   "outputs": [
    {
     "data": {
      "text/html": [
       "<div>\n",
       "<style scoped>\n",
       "    .dataframe tbody tr th:only-of-type {\n",
       "        vertical-align: middle;\n",
       "    }\n",
       "\n",
       "    .dataframe tbody tr th {\n",
       "        vertical-align: top;\n",
       "    }\n",
       "\n",
       "    .dataframe thead th {\n",
       "        text-align: right;\n",
       "    }\n",
       "</style>\n",
       "<table border=\"1\" class=\"dataframe\">\n",
       "  <thead>\n",
       "    <tr style=\"text-align: right;\">\n",
       "      <th></th>\n",
       "      <th>surgery?</th>\n",
       "      <th>Age</th>\n",
       "      <th>rectal temperature</th>\n",
       "      <th>pulse</th>\n",
       "      <th>respiratory rate</th>\n",
       "      <th>temperature of extremities</th>\n",
       "      <th>pain</th>\n",
       "      <th>outcome</th>\n",
       "    </tr>\n",
       "  </thead>\n",
       "  <tbody>\n",
       "    <tr>\n",
       "      <th>0</th>\n",
       "      <td>1</td>\n",
       "      <td>1</td>\n",
       "      <td>39.2</td>\n",
       "      <td>88</td>\n",
       "      <td>20</td>\n",
       "      <td>?</td>\n",
       "      <td>3</td>\n",
       "      <td>3</td>\n",
       "    </tr>\n",
       "    <tr>\n",
       "      <th>1</th>\n",
       "      <td>2</td>\n",
       "      <td>1</td>\n",
       "      <td>38.30</td>\n",
       "      <td>40</td>\n",
       "      <td>24</td>\n",
       "      <td>1</td>\n",
       "      <td>3</td>\n",
       "      <td>1</td>\n",
       "    </tr>\n",
       "    <tr>\n",
       "      <th>2</th>\n",
       "      <td>1</td>\n",
       "      <td>9</td>\n",
       "      <td>39.10</td>\n",
       "      <td>164</td>\n",
       "      <td>84</td>\n",
       "      <td>4</td>\n",
       "      <td>2</td>\n",
       "      <td>2</td>\n",
       "    </tr>\n",
       "    <tr>\n",
       "      <th>3</th>\n",
       "      <td>2</td>\n",
       "      <td>1</td>\n",
       "      <td>37.30</td>\n",
       "      <td>104</td>\n",
       "      <td>35</td>\n",
       "      <td>?</td>\n",
       "      <td>?</td>\n",
       "      <td>2</td>\n",
       "    </tr>\n",
       "    <tr>\n",
       "      <th>4</th>\n",
       "      <td>2</td>\n",
       "      <td>1</td>\n",
       "      <td>?</td>\n",
       "      <td>?</td>\n",
       "      <td>?</td>\n",
       "      <td>2</td>\n",
       "      <td>2</td>\n",
       "      <td>1</td>\n",
       "    </tr>\n",
       "  </tbody>\n",
       "</table>\n",
       "</div>"
      ],
      "text/plain": [
       "  surgery?  Age rectal temperature pulse respiratory rate  \\\n",
       "0        1    1               39.2    88               20   \n",
       "1        2    1              38.30    40               24   \n",
       "2        1    9              39.10   164               84   \n",
       "3        2    1              37.30   104               35   \n",
       "4        2    1                  ?     ?                ?   \n",
       "\n",
       "  temperature of extremities pain outcome  \n",
       "0                          ?    3       3  \n",
       "1                          1    3       1  \n",
       "2                          4    2       2  \n",
       "3                          ?    ?       2  \n",
       "4                          2    2       1  "
      ]
     },
     "execution_count": 3,
     "metadata": {},
     "output_type": "execute_result"
    }
   ],
   "source": [
    "# Загружаем в датафрейм данные из восьми столбцов по условию:\n",
    "horse_data = pd.read_csv(\n",
    "    'stat_datas/horse_data.csv',\n",
    "    header=0,\n",
    "    names = col_names\n",
    ")[['surgery?', 'Age', 'rectal temperature',\n",
    "  'pulse', 'respiratory rate', 'temperature of extremities',\n",
    "  'pain', 'outcome']]\n",
    "horse_data.head()"
   ]
  },
  {
   "cell_type": "code",
   "execution_count": 4,
   "id": "5d1d3f2a-63aa-4d49-ad51-179e5687a978",
   "metadata": {},
   "outputs": [
    {
     "name": "stdout",
     "output_type": "stream",
     "text": [
      "<class 'pandas.core.frame.DataFrame'>\n",
      "RangeIndex: 299 entries, 0 to 298\n",
      "Data columns (total 8 columns):\n",
      " #   Column                      Non-Null Count  Dtype \n",
      "---  ------                      --------------  ----- \n",
      " 0   surgery?                    299 non-null    object\n",
      " 1   Age                         299 non-null    int64 \n",
      " 2   rectal temperature          299 non-null    object\n",
      " 3   pulse                       299 non-null    object\n",
      " 4   respiratory rate            299 non-null    object\n",
      " 5   temperature of extremities  299 non-null    object\n",
      " 6   pain                        299 non-null    object\n",
      " 7   outcome                     299 non-null    object\n",
      "dtypes: int64(1), object(7)\n",
      "memory usage: 18.8+ KB\n"
     ]
    }
   ],
   "source": [
    "horse_data.info()"
   ]
  },
  {
   "cell_type": "markdown",
   "id": "a1faa75f-3486-4b65-8d01-84ae4a3926e7",
   "metadata": {},
   "source": [
    "## Задание 2. Первичное изучение данных\n",
    "Проанализировать значения по столбцам, рассчитать базовые статистики, найти выбросы."
   ]
  },
  {
   "cell_type": "markdown",
   "id": "387010b7-f447-4b3e-8a04-c14cf945e575",
   "metadata": {},
   "source": [
    "### Проблема №1\n",
    "В датафрейме пропущенные значения представлены в виде '?'"
   ]
  },
  {
   "cell_type": "code",
   "execution_count": 5,
   "id": "166c402b-282a-4323-a77f-2216f11de012",
   "metadata": {},
   "outputs": [
    {
     "data": {
      "text/html": [
       "<div>\n",
       "<style scoped>\n",
       "    .dataframe tbody tr th:only-of-type {\n",
       "        vertical-align: middle;\n",
       "    }\n",
       "\n",
       "    .dataframe tbody tr th {\n",
       "        vertical-align: top;\n",
       "    }\n",
       "\n",
       "    .dataframe thead th {\n",
       "        text-align: right;\n",
       "    }\n",
       "</style>\n",
       "<table border=\"1\" class=\"dataframe\">\n",
       "  <thead>\n",
       "    <tr style=\"text-align: right;\">\n",
       "      <th></th>\n",
       "      <th>surgery?</th>\n",
       "      <th>Age</th>\n",
       "      <th>rectal temperature</th>\n",
       "      <th>pulse</th>\n",
       "      <th>respiratory rate</th>\n",
       "      <th>temperature of extremities</th>\n",
       "      <th>pain</th>\n",
       "      <th>outcome</th>\n",
       "    </tr>\n",
       "  </thead>\n",
       "  <tbody>\n",
       "    <tr>\n",
       "      <th>0</th>\n",
       "      <td>1</td>\n",
       "      <td>1</td>\n",
       "      <td>39.2</td>\n",
       "      <td>88</td>\n",
       "      <td>20</td>\n",
       "      <td>NaN</td>\n",
       "      <td>3</td>\n",
       "      <td>3</td>\n",
       "    </tr>\n",
       "    <tr>\n",
       "      <th>1</th>\n",
       "      <td>2</td>\n",
       "      <td>1</td>\n",
       "      <td>38.30</td>\n",
       "      <td>40</td>\n",
       "      <td>24</td>\n",
       "      <td>1</td>\n",
       "      <td>3</td>\n",
       "      <td>1</td>\n",
       "    </tr>\n",
       "    <tr>\n",
       "      <th>2</th>\n",
       "      <td>1</td>\n",
       "      <td>9</td>\n",
       "      <td>39.10</td>\n",
       "      <td>164</td>\n",
       "      <td>84</td>\n",
       "      <td>4</td>\n",
       "      <td>2</td>\n",
       "      <td>2</td>\n",
       "    </tr>\n",
       "    <tr>\n",
       "      <th>3</th>\n",
       "      <td>2</td>\n",
       "      <td>1</td>\n",
       "      <td>37.30</td>\n",
       "      <td>104</td>\n",
       "      <td>35</td>\n",
       "      <td>NaN</td>\n",
       "      <td>NaN</td>\n",
       "      <td>2</td>\n",
       "    </tr>\n",
       "    <tr>\n",
       "      <th>4</th>\n",
       "      <td>2</td>\n",
       "      <td>1</td>\n",
       "      <td>NaN</td>\n",
       "      <td>NaN</td>\n",
       "      <td>NaN</td>\n",
       "      <td>2</td>\n",
       "      <td>2</td>\n",
       "      <td>1</td>\n",
       "    </tr>\n",
       "  </tbody>\n",
       "</table>\n",
       "</div>"
      ],
      "text/plain": [
       "  surgery?  Age rectal temperature pulse respiratory rate  \\\n",
       "0        1    1               39.2    88               20   \n",
       "1        2    1              38.30    40               24   \n",
       "2        1    9              39.10   164               84   \n",
       "3        2    1              37.30   104               35   \n",
       "4        2    1                NaN   NaN              NaN   \n",
       "\n",
       "  temperature of extremities pain outcome  \n",
       "0                        NaN    3       3  \n",
       "1                          1    3       1  \n",
       "2                          4    2       2  \n",
       "3                        NaN  NaN       2  \n",
       "4                          2    2       1  "
      ]
     },
     "execution_count": 5,
     "metadata": {},
     "output_type": "execute_result"
    }
   ],
   "source": [
    "# заменим все '?' в датафрейме на NaN:\n",
    "horse_data = horse_data.replace(['?'], np.NaN)\n",
    "horse_data.head()"
   ]
  },
  {
   "cell_type": "markdown",
   "id": "05b54f3c-d27f-4f94-b8a3-a381961b6ec0",
   "metadata": {},
   "source": [
    "### Проблема №2\n",
    "В датафрейме имеется ошибочно определены типы данных в столбцах 'Age', 'rectal temperature', 'pulse', 'respiratory rate'"
   ]
  },
  {
   "cell_type": "code",
   "execution_count": 6,
   "id": "084372cd-99b5-4f7b-8dff-77e7b337583e",
   "metadata": {},
   "outputs": [],
   "source": [
    "# преобзаруем типы данных значений выше перечисленных столбцов:\n",
    "horse_data['Age'] = horse_data['Age'].astype(object)\n",
    "horse_data['rectal temperature'] = horse_data['rectal temperature'].astype(float)\n",
    "horse_data[['pulse', 'respiratory rate']] = horse_data[['pulse', 'respiratory rate']].astype('Int64')"
   ]
  },
  {
   "cell_type": "code",
   "execution_count": 7,
   "id": "970c6567-379c-448c-aa6a-af20217af636",
   "metadata": {},
   "outputs": [
    {
     "name": "stdout",
     "output_type": "stream",
     "text": [
      "<class 'pandas.core.frame.DataFrame'>\n",
      "RangeIndex: 299 entries, 0 to 298\n",
      "Data columns (total 8 columns):\n",
      " #   Column                      Non-Null Count  Dtype  \n",
      "---  ------                      --------------  -----  \n",
      " 0   surgery?                    298 non-null    object \n",
      " 1   Age                         299 non-null    object \n",
      " 2   rectal temperature          239 non-null    float64\n",
      " 3   pulse                       275 non-null    Int64  \n",
      " 4   respiratory rate            241 non-null    Int64  \n",
      " 5   temperature of extremities  243 non-null    object \n",
      " 6   pain                        244 non-null    object \n",
      " 7   outcome                     298 non-null    object \n",
      "dtypes: Int64(2), float64(1), object(5)\n",
      "memory usage: 19.4+ KB\n"
     ]
    }
   ],
   "source": [
    "# Проверяем:\n",
    "horse_data.info()"
   ]
  },
  {
   "cell_type": "markdown",
   "id": "07e53d04-7cd0-4eef-ab78-fe77004f97c1",
   "metadata": {},
   "source": [
    "### Анализ значений по столбцам"
   ]
  },
  {
   "cell_type": "markdown",
   "id": "cbd82d62-b725-49be-bdae-f656a71dec2f",
   "metadata": {},
   "source": [
    "#### surgery?"
   ]
  },
  {
   "cell_type": "code",
   "execution_count": 8,
   "id": "55a4ea09-9ea6-4696-9cd7-cc7324e0676f",
   "metadata": {},
   "outputs": [
    {
     "data": {
      "text/plain": [
       "1    180\n",
       "2    118\n",
       "Name: surgery?, dtype: int64"
      ]
     },
     "execution_count": 8,
     "metadata": {},
     "output_type": "execute_result"
    }
   ],
   "source": [
    "# определим, какие значения и в камом количестве присутствуют в столбце\n",
    "horse_data['surgery?'].value_counts()"
   ]
  },
  {
   "cell_type": "code",
   "execution_count": 9,
   "id": "bbf2b81c-f6ab-456d-ad03-cc3d724b7a33",
   "metadata": {},
   "outputs": [
    {
     "data": {
      "text/plain": [
       "'1'"
      ]
     },
     "execution_count": 9,
     "metadata": {},
     "output_type": "execute_result"
    }
   ],
   "source": [
    "# рассчитаем моду:\n",
    "horse_data['surgery?'].mode()[0]"
   ]
  },
  {
   "cell_type": "markdown",
   "id": "bf1f4b75-d08f-4bd4-8172-0e5eb7a5387c",
   "metadata": {},
   "source": [
    "**Вывод:** Хирургическое лечение использовалось чаще (в 180 случаях), а консервативное в 118."
   ]
  },
  {
   "cell_type": "markdown",
   "id": "879e6ca2-762f-4158-a6dd-07ea6169603b",
   "metadata": {},
   "source": [
    "#### Age"
   ]
  },
  {
   "cell_type": "code",
   "execution_count": 10,
   "id": "4373b278-8bc8-4271-b78e-dd236afa6fa0",
   "metadata": {},
   "outputs": [
    {
     "data": {
      "text/plain": [
       "1    275\n",
       "9     24\n",
       "Name: Age, dtype: int64"
      ]
     },
     "execution_count": 10,
     "metadata": {},
     "output_type": "execute_result"
    }
   ],
   "source": [
    "# определим, какие значения и в камом количестве присутствуют в столбце\n",
    "horse_data['Age'].value_counts()"
   ]
  },
  {
   "cell_type": "markdown",
   "id": "1f3f1bf9-9763-481d-a006-6d068cba76c6",
   "metadata": {},
   "source": [
    "В столбце 'Age' имеются значения '1' и '9'. Это не соответствует документации к базе данных."
   ]
  },
  {
   "cell_type": "code",
   "execution_count": 11,
   "id": "d57987dc-d655-49a1-afc1-532d4bc90720",
   "metadata": {},
   "outputs": [],
   "source": [
    "# Заменим значения '9' на '2':\n",
    "horse_data['Age'] = horse_data['Age'].replace(9, 2)"
   ]
  },
  {
   "cell_type": "code",
   "execution_count": 12,
   "id": "fc4fea52-2b9e-495c-a03c-b6ae319e763d",
   "metadata": {},
   "outputs": [
    {
     "data": {
      "text/plain": [
       "1    275\n",
       "2     24\n",
       "Name: Age, dtype: int64"
      ]
     },
     "execution_count": 12,
     "metadata": {},
     "output_type": "execute_result"
    }
   ],
   "source": [
    "horse_data['Age'].value_counts()"
   ]
  },
  {
   "cell_type": "code",
   "execution_count": 13,
   "id": "81af3873-7993-4538-9253-bd8dd3865476",
   "metadata": {},
   "outputs": [
    {
     "data": {
      "text/plain": [
       "1"
      ]
     },
     "execution_count": 13,
     "metadata": {},
     "output_type": "execute_result"
    }
   ],
   "source": [
    "# Рассчитаем моду:\n",
    "horse_data['Age'].mode()[0]"
   ]
  },
  {
   "cell_type": "markdown",
   "id": "c62d8af3-6f72-4b82-b1f8-6e91ea87d782",
   "metadata": {},
   "source": [
    "**Вывод:** В исследование включены 275 взрослых животных и 24 молодых (в возрасте до 6 месяцев)"
   ]
  },
  {
   "cell_type": "markdown",
   "id": "e1fbbdf5-ec78-4d8c-b47a-ad96bb73e017",
   "metadata": {},
   "source": [
    "#### rectal temperature"
   ]
  },
  {
   "cell_type": "code",
   "execution_count": 14,
   "id": "585a7dd5-7c82-4a14-a99e-51a82ad08282",
   "metadata": {},
   "outputs": [
    {
     "data": {
      "text/plain": [
       "count    239.000000\n",
       "mean      38.166527\n",
       "std        0.733508\n",
       "min       35.400000\n",
       "25%       37.800000\n",
       "50%       38.200000\n",
       "75%       38.500000\n",
       "max       40.800000\n",
       "Name: rectal temperature, dtype: float64"
      ]
     },
     "execution_count": 14,
     "metadata": {},
     "output_type": "execute_result"
    }
   ],
   "source": [
    "# рассмотрим основные статистики\n",
    "horse_data['rectal temperature'].describe()"
   ]
  },
  {
   "cell_type": "code",
   "execution_count": 15,
   "id": "79c31d78-4e40-4225-a331-1675c5cb850d",
   "metadata": {},
   "outputs": [
    {
     "name": "stdout",
     "output_type": "stream",
     "text": [
      "39.9 35.4 40.3 39.7 36.4 40.3 39.6 36.5 36.0 36.1 36.6 40.8 40.0 36.5\n"
     ]
    }
   ],
   "source": [
    "# определим выбросы, используя межквартильный размах (iqr):\n",
    "iqr = horse_data['rectal temperature'].quantile(0.75) - horse_data['rectal temperature'].quantile(0.25)\n",
    "lower_bound = horse_data['rectal temperature'].quantile(0.25) - (iqr * 1.5)\n",
    "upper_bound = horse_data['rectal temperature'].quantile(0.75) + (iqr * 1.5)\n",
    "outliers = [x for x in horse_data['rectal temperature'] if x <= lower_bound or x >= upper_bound]\n",
    "print(*outliers)"
   ]
  },
  {
   "cell_type": "markdown",
   "id": "b56d6f21-f85c-4fbc-9998-55555bb3875f",
   "metadata": {},
   "source": [
    "**Вывод:** Распределение значений в столбце rectal temperature близко к нормальному. Рассчитанные значения выбросов могут вполне соответствовать значениям, полученным при исследовании животных. Поэтому удаление этих значений не целесообразно."
   ]
  },
  {
   "cell_type": "markdown",
   "id": "1ededa22-f1e5-4076-a89d-ed8497ac61d4",
   "metadata": {},
   "source": [
    "#### pulse"
   ]
  },
  {
   "cell_type": "code",
   "execution_count": 16,
   "id": "2590b626-9aaf-4f80-bbe2-47d72e2c8f9e",
   "metadata": {},
   "outputs": [
    {
     "data": {
      "text/plain": [
       "count        275.0\n",
       "mean     71.934545\n",
       "std      28.680522\n",
       "min           30.0\n",
       "25%           48.0\n",
       "50%           64.0\n",
       "75%           88.0\n",
       "max          184.0\n",
       "Name: pulse, dtype: Float64"
      ]
     },
     "execution_count": 16,
     "metadata": {},
     "output_type": "execute_result"
    }
   ],
   "source": [
    "# посчитаем основные статистики:\n",
    "horse_data['pulse'].describe()"
   ]
  },
  {
   "cell_type": "code",
   "execution_count": 17,
   "id": "91de9cba-605e-4e18-9455-227b044c4de3",
   "metadata": {},
   "outputs": [],
   "source": [
    "# определим выбросы, используя межквартильный размах (iqr):\n",
    "iqr = horse_data['pulse'].quantile(0.75) - horse_data['pulse'].quantile(0.25)\n",
    "lower_bound = horse_data['pulse'].quantile(0.25) - (iqr * 1.5)\n",
    "upper_bound = horse_data['pulse'].quantile(0.75) + (iqr * 1.5)"
   ]
  },
  {
   "cell_type": "code",
   "execution_count": 18,
   "id": "0cc1984d-79f8-4af2-bacd-d450c288022d",
   "metadata": {},
   "outputs": [
    {
     "data": {
      "text/html": [
       "<div>\n",
       "<style scoped>\n",
       "    .dataframe tbody tr th:only-of-type {\n",
       "        vertical-align: middle;\n",
       "    }\n",
       "\n",
       "    .dataframe tbody tr th {\n",
       "        vertical-align: top;\n",
       "    }\n",
       "\n",
       "    .dataframe thead th {\n",
       "        text-align: right;\n",
       "    }\n",
       "</style>\n",
       "<table border=\"1\" class=\"dataframe\">\n",
       "  <thead>\n",
       "    <tr style=\"text-align: right;\">\n",
       "      <th></th>\n",
       "      <th>surgery?</th>\n",
       "      <th>Age</th>\n",
       "      <th>rectal temperature</th>\n",
       "      <th>pulse</th>\n",
       "      <th>respiratory rate</th>\n",
       "      <th>temperature of extremities</th>\n",
       "      <th>pain</th>\n",
       "      <th>outcome</th>\n",
       "    </tr>\n",
       "  </thead>\n",
       "  <tbody>\n",
       "    <tr>\n",
       "      <th>2</th>\n",
       "      <td>1</td>\n",
       "      <td>2</td>\n",
       "      <td>39.1</td>\n",
       "      <td>164</td>\n",
       "      <td>84</td>\n",
       "      <td>4</td>\n",
       "      <td>2</td>\n",
       "      <td>2</td>\n",
       "    </tr>\n",
       "    <tr>\n",
       "      <th>40</th>\n",
       "      <td>2</td>\n",
       "      <td>2</td>\n",
       "      <td>39.0</td>\n",
       "      <td>150</td>\n",
       "      <td>72</td>\n",
       "      <td>NaN</td>\n",
       "      <td>NaN</td>\n",
       "      <td>1</td>\n",
       "    </tr>\n",
       "    <tr>\n",
       "      <th>54</th>\n",
       "      <td>1</td>\n",
       "      <td>2</td>\n",
       "      <td>38.6</td>\n",
       "      <td>160</td>\n",
       "      <td>20</td>\n",
       "      <td>3</td>\n",
       "      <td>3</td>\n",
       "      <td>2</td>\n",
       "    </tr>\n",
       "    <tr>\n",
       "      <th>254</th>\n",
       "      <td>1</td>\n",
       "      <td>2</td>\n",
       "      <td>38.8</td>\n",
       "      <td>184</td>\n",
       "      <td>84</td>\n",
       "      <td>1</td>\n",
       "      <td>4</td>\n",
       "      <td>2</td>\n",
       "    </tr>\n",
       "    <tr>\n",
       "      <th>274</th>\n",
       "      <td>1</td>\n",
       "      <td>2</td>\n",
       "      <td>38.8</td>\n",
       "      <td>150</td>\n",
       "      <td>50</td>\n",
       "      <td>1</td>\n",
       "      <td>5</td>\n",
       "      <td>2</td>\n",
       "    </tr>\n",
       "  </tbody>\n",
       "</table>\n",
       "</div>"
      ],
      "text/plain": [
       "    surgery?  Age  rectal temperature  pulse  respiratory rate  \\\n",
       "2          1    2                39.1    164                84   \n",
       "40         2    2                39.0    150                72   \n",
       "54         1    2                38.6    160                20   \n",
       "254        1    2                38.8    184                84   \n",
       "274        1    2                38.8    150                50   \n",
       "\n",
       "    temperature of extremities pain outcome  \n",
       "2                            4    2       2  \n",
       "40                         NaN  NaN       1  \n",
       "54                           3    3       2  \n",
       "254                          1    4       2  \n",
       "274                          1    5       2  "
      ]
     },
     "execution_count": 18,
     "metadata": {},
     "output_type": "execute_result"
    }
   ],
   "source": [
    "# выведем строки со значениями по столбцу 'pulse', определенными как выбросы\n",
    "horse_data[~ horse_data['pulse'].between(lower_bound, upper_bound, inclusive='both')]"
   ]
  },
  {
   "cell_type": "markdown",
   "id": "00ec9010-0c98-4399-82d4-d3bc88cc9d10",
   "metadata": {},
   "source": [
    "**Вывод:** Значения столбца 'pulse', которые были определены как выбросы, в полной мере могут соответствовать реальным значениям, полученным при проведении исследования. Это подтверждают высокие знаяения ректарльной температуры в этих же строках. Поэтому удалять строки с этими значениями не целесообтазно."
   ]
  },
  {
   "cell_type": "markdown",
   "id": "667a8086-5db4-4afe-aea2-85b195c31130",
   "metadata": {},
   "source": [
    "#### respiratory rate"
   ]
  },
  {
   "cell_type": "code",
   "execution_count": 19,
   "id": "c78ba703-dbd3-4338-be56-c4e7a02ee45f",
   "metadata": {},
   "outputs": [
    {
     "data": {
      "text/plain": [
       "count        241.0\n",
       "mean     30.427386\n",
       "std      17.678256\n",
       "min            8.0\n",
       "25%           18.0\n",
       "50%           24.0\n",
       "75%           36.0\n",
       "max           96.0\n",
       "Name: respiratory rate, dtype: Float64"
      ]
     },
     "execution_count": 19,
     "metadata": {},
     "output_type": "execute_result"
    }
   ],
   "source": [
    "horse_data['respiratory rate'].describe()"
   ]
  },
  {
   "cell_type": "code",
   "execution_count": 20,
   "id": "02e3308a-b784-4b78-98d1-4a9fc95d8aad",
   "metadata": {},
   "outputs": [],
   "source": [
    "# определим выбросы, используя межквартильный размах (iqr):\n",
    "iqr = horse_data['respiratory rate'].quantile(0.75) - horse_data['respiratory rate'].quantile(0.25)\n",
    "lower_bound = horse_data['respiratory rate'].quantile(0.25) - (iqr * 1.5)\n",
    "upper_bound = horse_data['respiratory rate'].quantile(0.75) + (iqr * 1.5)"
   ]
  },
  {
   "cell_type": "code",
   "execution_count": 21,
   "id": "cb53c8cb-591b-4831-82ef-eb2c695bcc6a",
   "metadata": {},
   "outputs": [
    {
     "data": {
      "text/html": [
       "<div>\n",
       "<style scoped>\n",
       "    .dataframe tbody tr th:only-of-type {\n",
       "        vertical-align: middle;\n",
       "    }\n",
       "\n",
       "    .dataframe tbody tr th {\n",
       "        vertical-align: top;\n",
       "    }\n",
       "\n",
       "    .dataframe thead th {\n",
       "        text-align: right;\n",
       "    }\n",
       "</style>\n",
       "<table border=\"1\" class=\"dataframe\">\n",
       "  <thead>\n",
       "    <tr style=\"text-align: right;\">\n",
       "      <th></th>\n",
       "      <th>surgery?</th>\n",
       "      <th>Age</th>\n",
       "      <th>rectal temperature</th>\n",
       "      <th>pulse</th>\n",
       "      <th>respiratory rate</th>\n",
       "      <th>temperature of extremities</th>\n",
       "      <th>pain</th>\n",
       "      <th>outcome</th>\n",
       "    </tr>\n",
       "  </thead>\n",
       "  <tbody>\n",
       "    <tr>\n",
       "      <th>2</th>\n",
       "      <td>1</td>\n",
       "      <td>2</td>\n",
       "      <td>39.1</td>\n",
       "      <td>164</td>\n",
       "      <td>84</td>\n",
       "      <td>4</td>\n",
       "      <td>2</td>\n",
       "      <td>2</td>\n",
       "    </tr>\n",
       "    <tr>\n",
       "      <th>38</th>\n",
       "      <td>1</td>\n",
       "      <td>2</td>\n",
       "      <td>39.2</td>\n",
       "      <td>146</td>\n",
       "      <td>96</td>\n",
       "      <td>NaN</td>\n",
       "      <td>NaN</td>\n",
       "      <td>2</td>\n",
       "    </tr>\n",
       "    <tr>\n",
       "      <th>40</th>\n",
       "      <td>2</td>\n",
       "      <td>2</td>\n",
       "      <td>39.0</td>\n",
       "      <td>150</td>\n",
       "      <td>72</td>\n",
       "      <td>NaN</td>\n",
       "      <td>NaN</td>\n",
       "      <td>1</td>\n",
       "    </tr>\n",
       "    <tr>\n",
       "      <th>81</th>\n",
       "      <td>1</td>\n",
       "      <td>2</td>\n",
       "      <td>38.1</td>\n",
       "      <td>100</td>\n",
       "      <td>80</td>\n",
       "      <td>3</td>\n",
       "      <td>3</td>\n",
       "      <td>1</td>\n",
       "    </tr>\n",
       "    <tr>\n",
       "      <th>83</th>\n",
       "      <td>1</td>\n",
       "      <td>1</td>\n",
       "      <td>37.8</td>\n",
       "      <td>60</td>\n",
       "      <td>80</td>\n",
       "      <td>1</td>\n",
       "      <td>2</td>\n",
       "      <td>1</td>\n",
       "    </tr>\n",
       "    <tr>\n",
       "      <th>102</th>\n",
       "      <td>1</td>\n",
       "      <td>2</td>\n",
       "      <td>38.0</td>\n",
       "      <td>140</td>\n",
       "      <td>68</td>\n",
       "      <td>1</td>\n",
       "      <td>3</td>\n",
       "      <td>1</td>\n",
       "    </tr>\n",
       "    <tr>\n",
       "      <th>105</th>\n",
       "      <td>1</td>\n",
       "      <td>1</td>\n",
       "      <td>38.3</td>\n",
       "      <td>52</td>\n",
       "      <td>96</td>\n",
       "      <td>NaN</td>\n",
       "      <td>NaN</td>\n",
       "      <td>1</td>\n",
       "    </tr>\n",
       "    <tr>\n",
       "      <th>119</th>\n",
       "      <td>1</td>\n",
       "      <td>1</td>\n",
       "      <td>39.4</td>\n",
       "      <td>54</td>\n",
       "      <td>66</td>\n",
       "      <td>1</td>\n",
       "      <td>2</td>\n",
       "      <td>1</td>\n",
       "    </tr>\n",
       "    <tr>\n",
       "      <th>124</th>\n",
       "      <td>1</td>\n",
       "      <td>1</td>\n",
       "      <td>38.0</td>\n",
       "      <td>42</td>\n",
       "      <td>68</td>\n",
       "      <td>4</td>\n",
       "      <td>3</td>\n",
       "      <td>1</td>\n",
       "    </tr>\n",
       "    <tr>\n",
       "      <th>185</th>\n",
       "      <td>1</td>\n",
       "      <td>1</td>\n",
       "      <td>39.3</td>\n",
       "      <td>64</td>\n",
       "      <td>90</td>\n",
       "      <td>2</td>\n",
       "      <td>NaN</td>\n",
       "      <td>1</td>\n",
       "    </tr>\n",
       "    <tr>\n",
       "      <th>207</th>\n",
       "      <td>1</td>\n",
       "      <td>1</td>\n",
       "      <td>37.8</td>\n",
       "      <td>88</td>\n",
       "      <td>80</td>\n",
       "      <td>3</td>\n",
       "      <td>NaN</td>\n",
       "      <td>3</td>\n",
       "    </tr>\n",
       "    <tr>\n",
       "      <th>228</th>\n",
       "      <td>1</td>\n",
       "      <td>2</td>\n",
       "      <td>38.5</td>\n",
       "      <td>120</td>\n",
       "      <td>70</td>\n",
       "      <td>NaN</td>\n",
       "      <td>NaN</td>\n",
       "      <td>1</td>\n",
       "    </tr>\n",
       "    <tr>\n",
       "      <th>243</th>\n",
       "      <td>1</td>\n",
       "      <td>2</td>\n",
       "      <td>38.2</td>\n",
       "      <td>124</td>\n",
       "      <td>88</td>\n",
       "      <td>1</td>\n",
       "      <td>2</td>\n",
       "      <td>1</td>\n",
       "    </tr>\n",
       "    <tr>\n",
       "      <th>254</th>\n",
       "      <td>1</td>\n",
       "      <td>2</td>\n",
       "      <td>38.8</td>\n",
       "      <td>184</td>\n",
       "      <td>84</td>\n",
       "      <td>1</td>\n",
       "      <td>4</td>\n",
       "      <td>2</td>\n",
       "    </tr>\n",
       "    <tr>\n",
       "      <th>264</th>\n",
       "      <td>2</td>\n",
       "      <td>1</td>\n",
       "      <td>NaN</td>\n",
       "      <td>56</td>\n",
       "      <td>68</td>\n",
       "      <td>3</td>\n",
       "      <td>3</td>\n",
       "      <td>3</td>\n",
       "    </tr>\n",
       "    <tr>\n",
       "      <th>268</th>\n",
       "      <td>1</td>\n",
       "      <td>1</td>\n",
       "      <td>39.3</td>\n",
       "      <td>64</td>\n",
       "      <td>90</td>\n",
       "      <td>2</td>\n",
       "      <td>NaN</td>\n",
       "      <td>1</td>\n",
       "    </tr>\n",
       "    <tr>\n",
       "      <th>294</th>\n",
       "      <td>1</td>\n",
       "      <td>1</td>\n",
       "      <td>NaN</td>\n",
       "      <td>120</td>\n",
       "      <td>70</td>\n",
       "      <td>4</td>\n",
       "      <td>2</td>\n",
       "      <td>3</td>\n",
       "    </tr>\n",
       "  </tbody>\n",
       "</table>\n",
       "</div>"
      ],
      "text/plain": [
       "    surgery?  Age  rectal temperature  pulse  respiratory rate  \\\n",
       "2          1    2                39.1    164                84   \n",
       "38         1    2                39.2    146                96   \n",
       "40         2    2                39.0    150                72   \n",
       "81         1    2                38.1    100                80   \n",
       "83         1    1                37.8     60                80   \n",
       "102        1    2                38.0    140                68   \n",
       "105        1    1                38.3     52                96   \n",
       "119        1    1                39.4     54                66   \n",
       "124        1    1                38.0     42                68   \n",
       "185        1    1                39.3     64                90   \n",
       "207        1    1                37.8     88                80   \n",
       "228        1    2                38.5    120                70   \n",
       "243        1    2                38.2    124                88   \n",
       "254        1    2                38.8    184                84   \n",
       "264        2    1                 NaN     56                68   \n",
       "268        1    1                39.3     64                90   \n",
       "294        1    1                 NaN    120                70   \n",
       "\n",
       "    temperature of extremities pain outcome  \n",
       "2                            4    2       2  \n",
       "38                         NaN  NaN       2  \n",
       "40                         NaN  NaN       1  \n",
       "81                           3    3       1  \n",
       "83                           1    2       1  \n",
       "102                          1    3       1  \n",
       "105                        NaN  NaN       1  \n",
       "119                          1    2       1  \n",
       "124                          4    3       1  \n",
       "185                          2  NaN       1  \n",
       "207                          3  NaN       3  \n",
       "228                        NaN  NaN       1  \n",
       "243                          1    2       1  \n",
       "254                          1    4       2  \n",
       "264                          3    3       3  \n",
       "268                          2  NaN       1  \n",
       "294                          4    2       3  "
      ]
     },
     "execution_count": 21,
     "metadata": {},
     "output_type": "execute_result"
    }
   ],
   "source": [
    "# выведем строки со значениями по столбцу 'respiratory rate', определенными как выбросы\n",
    "horse_data[~ horse_data['respiratory rate'].between(lower_bound, upper_bound, inclusive='both')]"
   ]
  },
  {
   "cell_type": "markdown",
   "id": "90956aff-0b84-4852-b0d5-cdfc154258e7",
   "metadata": {},
   "source": [
    "**Вывод:** В ряде случаев значения частоты дыхания значительно превышают норму (8 - 10). Однако такие случаи часто сочетаются с выраженными изменениями по показателям rectal temperature и puls. Поэтому надо внимательнее отнестить к этим \"выбросам\" и сто раз подумать, прежде чем удалять эти случаи из выборки."
   ]
  },
  {
   "cell_type": "markdown",
   "id": "3ee96d8f-2c6b-402a-916b-0976dada1fdd",
   "metadata": {},
   "source": [
    "#### temperature of extremities"
   ]
  },
  {
   "cell_type": "code",
   "execution_count": 22,
   "id": "2a337521-7f49-420a-882c-57363d699894",
   "metadata": {},
   "outputs": [
    {
     "data": {
      "text/plain": [
       "3    108\n",
       "1     78\n",
       "2     30\n",
       "4     27\n",
       "Name: temperature of extremities, dtype: int64"
      ]
     },
     "execution_count": 22,
     "metadata": {},
     "output_type": "execute_result"
    }
   ],
   "source": [
    "# определим, какие значения и в камом количестве присутствуют в столбце\n",
    "horse_data['temperature of extremities'].value_counts()"
   ]
  },
  {
   "cell_type": "code",
   "execution_count": 23,
   "id": "39369645-7651-414e-8312-97f78746ca4d",
   "metadata": {},
   "outputs": [
    {
     "data": {
      "text/plain": [
       "'3'"
      ]
     },
     "execution_count": 23,
     "metadata": {},
     "output_type": "execute_result"
    }
   ],
   "source": [
    "horse_data['temperature of extremities'].mode()[0]"
   ]
  },
  {
   "cell_type": "markdown",
   "id": "84d6ecab-f1cf-41fe-a267-2cf837c96aff",
   "metadata": {},
   "source": [
    "**Вывод:** В большинстве случаев (108) температура конечностей расценивалась как \"прохладные\"."
   ]
  },
  {
   "cell_type": "markdown",
   "id": "54296a39-addb-4d80-9625-ccee0c0d1458",
   "metadata": {},
   "source": [
    "#### pain"
   ]
  },
  {
   "cell_type": "code",
   "execution_count": 24,
   "id": "ef54c9e9-39ab-4fff-9dfe-cd56c81f0076",
   "metadata": {},
   "outputs": [
    {
     "data": {
      "text/plain": [
       "3    67\n",
       "2    59\n",
       "5    41\n",
       "4    39\n",
       "1    38\n",
       "Name: pain, dtype: int64"
      ]
     },
     "execution_count": 24,
     "metadata": {},
     "output_type": "execute_result"
    }
   ],
   "source": [
    "# определим, какие значения и в камом количестве присутствуют в столбце\n",
    "horse_data['pain'].value_counts()"
   ]
  },
  {
   "cell_type": "code",
   "execution_count": 25,
   "id": "a553f0fb-6127-4bb3-820e-0427d8ac0892",
   "metadata": {},
   "outputs": [
    {
     "data": {
      "text/plain": [
       "'3'"
      ]
     },
     "execution_count": 25,
     "metadata": {},
     "output_type": "execute_result"
    }
   ],
   "source": [
    "horse_data['pain'].mode()[0]"
   ]
  },
  {
   "cell_type": "markdown",
   "id": "5296acc2-325a-486a-9fc3-14dcbeb5889c",
   "metadata": {},
   "source": [
    "**Вывод:** В большинстве случаес боль оценивалась как \"перемежающаяся легкая боль\""
   ]
  },
  {
   "cell_type": "markdown",
   "id": "64387cd7-11a0-4060-81da-e98219269365",
   "metadata": {},
   "source": [
    "#### outcome"
   ]
  },
  {
   "cell_type": "code",
   "execution_count": 26,
   "id": "05d4b28a-151f-4484-be6c-f991cb2366ce",
   "metadata": {},
   "outputs": [
    {
     "data": {
      "text/plain": [
       "1    178\n",
       "2     76\n",
       "3     44\n",
       "Name: outcome, dtype: int64"
      ]
     },
     "execution_count": 26,
     "metadata": {},
     "output_type": "execute_result"
    }
   ],
   "source": [
    "# определим, какие значения и в камом количестве присутствуют в столбце\n",
    "horse_data['outcome'].value_counts()"
   ]
  },
  {
   "cell_type": "code",
   "execution_count": 27,
   "id": "a9967ef2-97ff-4cd0-8137-5e1a106b508d",
   "metadata": {},
   "outputs": [
    {
     "data": {
      "text/plain": [
       "'1'"
      ]
     },
     "execution_count": 27,
     "metadata": {},
     "output_type": "execute_result"
    }
   ],
   "source": [
    "horse_data['outcome'].mode()[0]"
   ]
  },
  {
   "cell_type": "markdown",
   "id": "78c4ff0e-ea31-41a8-9cb1-e5732d340d47",
   "metadata": {},
   "source": [
    "**Вывод:** Чаще (178 случвев) наступало выздоровление животных."
   ]
  },
  {
   "cell_type": "markdown",
   "id": "67845ef8-8803-4cc9-9312-30a081f3106b",
   "metadata": {},
   "source": [
    "## Задание 3. Работа с пропусками\n",
    "Рассчитать количество пропусков для всех выбранных столбцов. Принять и обосновать решение о методе заполнения пропусков по каждому столбцу на основе рассчитанных статистик и возможной взаимосвязи значений в них. Сформировать датафрейм, в котором пропуски будут отсутствовать."
   ]
  },
  {
   "cell_type": "markdown",
   "id": "644a5274-703a-4d67-94b4-0fd737503998",
   "metadata": {},
   "source": [
    "#### Рассчет количества пропусков"
   ]
  },
  {
   "cell_type": "code",
   "execution_count": 28,
   "id": "bde68651-94a2-4c18-a523-2ce3246a40ab",
   "metadata": {},
   "outputs": [
    {
     "data": {
      "text/plain": [
       "surgery?                       0.33\n",
       "Age                            0.00\n",
       "rectal temperature            20.07\n",
       "pulse                          8.03\n",
       "respiratory rate              19.40\n",
       "temperature of extremities    18.73\n",
       "pain                          18.39\n",
       "outcome                        0.33\n",
       "dtype: float64"
      ]
     },
     "execution_count": 28,
     "metadata": {},
     "output_type": "execute_result"
    }
   ],
   "source": [
    "# рассчитаем % пропусков по столбцам\n",
    "(horse_data.isna().mean() * 100).round(2)"
   ]
  },
  {
   "cell_type": "code",
   "execution_count": 29,
   "id": "fcea114b-f3d3-44d4-bc58-50cf5031565a",
   "metadata": {},
   "outputs": [
    {
     "data": {
      "text/plain": [
       "surgery?                       1\n",
       "Age                            0\n",
       "rectal temperature            60\n",
       "pulse                         24\n",
       "respiratory rate              58\n",
       "temperature of extremities    56\n",
       "pain                          55\n",
       "outcome                        1\n",
       "dtype: int64"
      ]
     },
     "execution_count": 29,
     "metadata": {},
     "output_type": "execute_result"
    }
   ],
   "source": [
    "horse_data.isna().sum()"
   ]
  },
  {
   "cell_type": "markdown",
   "id": "d6e0cdc5-ef0b-4d42-9128-02884596b664",
   "metadata": {},
   "source": [
    "#### Удаление пропусков из столбцов surgery? и outcome"
   ]
  },
  {
   "cell_type": "code",
   "execution_count": 30,
   "id": "0a5f7b89-4959-4b44-9998-c29d8e667754",
   "metadata": {},
   "outputs": [
    {
     "data": {
      "text/html": [
       "<div>\n",
       "<style scoped>\n",
       "    .dataframe tbody tr th:only-of-type {\n",
       "        vertical-align: middle;\n",
       "    }\n",
       "\n",
       "    .dataframe tbody tr th {\n",
       "        vertical-align: top;\n",
       "    }\n",
       "\n",
       "    .dataframe thead th {\n",
       "        text-align: right;\n",
       "    }\n",
       "</style>\n",
       "<table border=\"1\" class=\"dataframe\">\n",
       "  <thead>\n",
       "    <tr style=\"text-align: right;\">\n",
       "      <th></th>\n",
       "      <th>surgery?</th>\n",
       "      <th>Age</th>\n",
       "      <th>rectal temperature</th>\n",
       "      <th>pulse</th>\n",
       "      <th>respiratory rate</th>\n",
       "      <th>temperature of extremities</th>\n",
       "      <th>pain</th>\n",
       "      <th>outcome</th>\n",
       "    </tr>\n",
       "  </thead>\n",
       "  <tbody>\n",
       "    <tr>\n",
       "      <th>131</th>\n",
       "      <td>NaN</td>\n",
       "      <td>1</td>\n",
       "      <td>38.0</td>\n",
       "      <td>48</td>\n",
       "      <td>20</td>\n",
       "      <td>3</td>\n",
       "      <td>4</td>\n",
       "      <td>NaN</td>\n",
       "    </tr>\n",
       "  </tbody>\n",
       "</table>\n",
       "</div>"
      ],
      "text/plain": [
       "    surgery?  Age  rectal temperature  pulse  respiratory rate  \\\n",
       "131      NaN    1                38.0     48                20   \n",
       "\n",
       "    temperature of extremities pain outcome  \n",
       "131                          3    4     NaN  "
      ]
     },
     "execution_count": 30,
     "metadata": {},
     "output_type": "execute_result"
    }
   ],
   "source": [
    "horse_data[horse_data['surgery?'].isna()]"
   ]
  },
  {
   "cell_type": "markdown",
   "id": "564e4b0e-36e8-4c6e-98c0-5bcc080bf1d3",
   "metadata": {},
   "source": [
    "По одному пропуску имеется в столбцах 'surgery?' и 'outcome'. Причем оба этих пропуска находятся в одно строке.\n",
    "**Вывод:** Можно удалить эту строку без особых последствий."
   ]
  },
  {
   "cell_type": "code",
   "execution_count": 31,
   "id": "01b5308e-c901-4085-8150-1a0c0dfcc7f7",
   "metadata": {},
   "outputs": [],
   "source": [
    "# удаляем строку с пропусками в столбце 'surgery?'\n",
    "horse_data = horse_data.dropna(subset='surgery?')"
   ]
  },
  {
   "cell_type": "markdown",
   "id": "cb13236e-16d8-48f1-9990-81bd76e7d866",
   "metadata": {},
   "source": [
    "#### Замена пропусков в столбце rectal temperature"
   ]
  },
  {
   "cell_type": "code",
   "execution_count": 32,
   "id": "ea6aadd3-be13-4bc1-ab01-07330108a2e5",
   "metadata": {},
   "outputs": [
    {
     "data": {
      "text/plain": [
       "outcome\n",
       "1    38.20\n",
       "2    38.05\n",
       "3    38.05\n",
       "Name: rectal temperature, dtype: float64"
      ]
     },
     "execution_count": 32,
     "metadata": {},
     "output_type": "execute_result"
    }
   ],
   "source": [
    "horse_data.groupby('outcome')['rectal temperature'].median()"
   ]
  },
  {
   "cell_type": "markdown",
   "id": "5525faa4-aa01-4e0c-910c-e10afaa49be0",
   "metadata": {},
   "source": [
    "**Вывод:** В связи с тем, что во всех группах исхода лечения знаяения медианы ректальной температуры практически одинаковы, все пропуски в столбце моно заполнить значением медианы"
   ]
  },
  {
   "cell_type": "code",
   "execution_count": 33,
   "id": "db7bf671-835e-4bf7-907b-0786dda0258e",
   "metadata": {},
   "outputs": [],
   "source": [
    "# замена пропусков медианой\n",
    "horse_data['rectal temperature'] = horse_data['rectal temperature'].fillna(horse_data['rectal temperature'].median())"
   ]
  },
  {
   "cell_type": "markdown",
   "id": "ebd09732-83c4-476d-9bdb-9e948dc9fe53",
   "metadata": {},
   "source": [
    "#### Замена пропусков в столбце pulse"
   ]
  },
  {
   "cell_type": "code",
   "execution_count": 34,
   "id": "d54951cb-6e37-4c97-8224-0a276c271f3b",
   "metadata": {},
   "outputs": [
    {
     "data": {
      "text/plain": [
       "outcome\n",
       "1    54.0\n",
       "2    86.0\n",
       "3    82.0\n",
       "Name: pulse, dtype: Float64"
      ]
     },
     "execution_count": 34,
     "metadata": {},
     "output_type": "execute_result"
    }
   ],
   "source": [
    "horse_data.groupby('outcome')['pulse'].median()"
   ]
  },
  {
   "cell_type": "code",
   "execution_count": 35,
   "id": "fcf53bfa-d538-4d53-8040-e250775759fa",
   "metadata": {},
   "outputs": [
    {
     "data": {
      "text/plain": [
       "outcome  Age\n",
       "1        1       52.0\n",
       "         2      120.0\n",
       "2        1       84.0\n",
       "         2      141.0\n",
       "3        1       81.0\n",
       "         2      100.0\n",
       "Name: pulse, dtype: Float64"
      ]
     },
     "execution_count": 35,
     "metadata": {},
     "output_type": "execute_result"
    }
   ],
   "source": [
    "horse_data.groupby(['outcome', 'Age'])['pulse'].median()"
   ]
  },
  {
   "cell_type": "markdown",
   "id": "00e885f1-386e-40fb-a64c-b3b874898609",
   "metadata": {},
   "source": [
    "Учитывая выраженную разницу значений менианы пульса в различных группах по исходу и возрасту, заполним пропуски в столбце pulse значениями медиан, соответствующими группировке."
   ]
  },
  {
   "cell_type": "code",
   "execution_count": 36,
   "id": "2ff87f66-55c7-46ae-90da-ecfcc1314b02",
   "metadata": {},
   "outputs": [],
   "source": [
    "# замена пропусков медианой в соответствии с группировкой\n",
    "horse_data['pulse'] = horse_data['pulse'].fillna(horse_data.groupby(['outcome', 'Age'])['pulse'].transform('median'))"
   ]
  },
  {
   "cell_type": "markdown",
   "id": "ee997691-7a80-4616-a0d3-084e16f0f0ab",
   "metadata": {},
   "source": [
    "#### Замена пропусков в столбце respiratory rate"
   ]
  },
  {
   "cell_type": "code",
   "execution_count": 37,
   "id": "e8a2ce26-542d-4be1-a759-1c613c654cb6",
   "metadata": {},
   "outputs": [
    {
     "data": {
      "text/plain": [
       "outcome\n",
       "1    24.0\n",
       "2    30.0\n",
       "3    24.0\n",
       "Name: respiratory rate, dtype: Float64"
      ]
     },
     "execution_count": 37,
     "metadata": {},
     "output_type": "execute_result"
    }
   ],
   "source": [
    "horse_data.groupby('outcome')['respiratory rate'].median()"
   ]
  },
  {
   "cell_type": "code",
   "execution_count": 38,
   "id": "7700dcc5-1812-4622-a9f4-65e368a8984f",
   "metadata": {},
   "outputs": [
    {
     "data": {
      "text/plain": [
       "Age\n",
       "1    24.0\n",
       "2    49.0\n",
       "Name: respiratory rate, dtype: Float64"
      ]
     },
     "execution_count": 38,
     "metadata": {},
     "output_type": "execute_result"
    }
   ],
   "source": [
    "horse_data.groupby('Age')['respiratory rate'].median()"
   ]
  },
  {
   "cell_type": "code",
   "execution_count": 39,
   "id": "cc6ad755-f5ad-454f-9994-6aa838343785",
   "metadata": {},
   "outputs": [
    {
     "data": {
      "text/plain": [
       "outcome  Age\n",
       "1        1      24.0\n",
       "         2      64.0\n",
       "2        1      28.0\n",
       "         2      44.0\n",
       "3        1      24.0\n",
       "         2      <NA>\n",
       "Name: respiratory rate, dtype: Float64"
      ]
     },
     "execution_count": 39,
     "metadata": {},
     "output_type": "execute_result"
    }
   ],
   "source": [
    "horse_data.groupby(['outcome', 'Age'])['respiratory rate'].median()"
   ]
  },
  {
   "cell_type": "markdown",
   "id": "b6fc814a-9181-41a0-9048-8ee06aed8407",
   "metadata": {},
   "source": [
    "**Вывод:** Наиболее выражена разница в значениях медиан частоты дыхания между возрастными группами. Поэтому произведем замену медианами в зависимости от возрастной группы."
   ]
  },
  {
   "cell_type": "code",
   "execution_count": 40,
   "id": "338bca30-a4ac-4f3a-9d78-2b5565ec978a",
   "metadata": {},
   "outputs": [],
   "source": [
    "# замена пропусков медианой в соответствии с группировкой по возрасту\n",
    "horse_data['respiratory rate'] = horse_data['respiratory rate'].fillna(horse_data.groupby(['Age'])['respiratory rate'].transform('median'))"
   ]
  },
  {
   "cell_type": "markdown",
   "id": "7ff3a5b0-9611-462c-bfd4-22cdd5d571be",
   "metadata": {},
   "source": [
    "#### Замена пропусков в столбце temperature of extremities"
   ]
  },
  {
   "cell_type": "code",
   "execution_count": 41,
   "id": "e7d7a7f7-f1ba-4632-894b-c927fca34310",
   "metadata": {},
   "outputs": [
    {
     "data": {
      "text/plain": [
       "outcome  temperature of extremities\n",
       "1        1                             63\n",
       "         2                             26\n",
       "         3                             46\n",
       "         4                             11\n",
       "2        1                             11\n",
       "         2                              3\n",
       "         3                             40\n",
       "         4                              9\n",
       "3        1                              4\n",
       "         2                              1\n",
       "         3                             21\n",
       "         4                              7\n",
       "Name: temperature of extremities, dtype: int64"
      ]
     },
     "execution_count": 41,
     "metadata": {},
     "output_type": "execute_result"
    }
   ],
   "source": [
    "horse_data.groupby(['outcome', 'temperature of extremities'])['temperature of extremities'].count()"
   ]
  },
  {
   "cell_type": "code",
   "execution_count": 42,
   "id": "46dbb1a9-190a-4603-8238-9ba38c52d489",
   "metadata": {},
   "outputs": [
    {
     "data": {
      "text/plain": [
       "Age  temperature of extremities\n",
       "1    1                              71\n",
       "     2                              29\n",
       "     3                             100\n",
       "     4                              26\n",
       "2    1                               7\n",
       "     2                               1\n",
       "     3                               7\n",
       "     4                               1\n",
       "Name: temperature of extremities, dtype: int64"
      ]
     },
     "execution_count": 42,
     "metadata": {},
     "output_type": "execute_result"
    }
   ],
   "source": [
    "horse_data.groupby(['Age', 'temperature of extremities'])['temperature of extremities'].count()"
   ]
  },
  {
   "cell_type": "markdown",
   "id": "eea71b9c-9861-4a0b-b4d1-e077fa07b181",
   "metadata": {},
   "source": [
    "**Вывод:** Произведем замену пропущенных значений в столбце temperature of extremities на значения мод в зависимости от группы по признаку outcome"
   ]
  },
  {
   "cell_type": "code",
   "execution_count": 60,
   "id": "80489eb8-b67d-4230-91f3-3262533604b8",
   "metadata": {},
   "outputs": [],
   "source": [
    "# заменим пустые значения в группе выживших животных\n",
    "horse_data.loc[horse_data.outcome == '1', 'temperature of extremities'] = horse_data.loc[horse_data.outcome == '1', 'temperature of extremities'].fillna(horse_data.loc[horse_data.outcome == '1', 'temperature of extremities'].mode()[0])"
   ]
  },
  {
   "cell_type": "code",
   "execution_count": 61,
   "id": "706860df-e3d0-4ea4-8a6f-acccb73f9cc5",
   "metadata": {},
   "outputs": [],
   "source": [
    "# заменим пустые значения в группах погибших и усыпленных животных\n",
    "horse_data.loc[horse_data.outcome.isin(['2', '3']), 'temperature of extremities'] = horse_data.loc[horse_data.outcome.isin(['2', '3']), 'temperature of extremities'].fillna(horse_data.loc[horse_data.outcome.isin(['2', '3']),  'temperature of extremities'].mode()[0])"
   ]
  },
  {
   "cell_type": "markdown",
   "id": "a2ef8290-b54f-4944-b5af-08231b740d21",
   "metadata": {},
   "source": [
    "#### Замена пропусков в столбце pain"
   ]
  },
  {
   "cell_type": "code",
   "execution_count": 64,
   "id": "3153daf1-154b-48ff-b195-60cc8e2c6d60",
   "metadata": {},
   "outputs": [
    {
     "data": {
      "text/plain": [
       "3    67\n",
       "2    59\n",
       "5    41\n",
       "4    38\n",
       "1    38\n",
       "Name: pain, dtype: int64"
      ]
     },
     "execution_count": 64,
     "metadata": {},
     "output_type": "execute_result"
    }
   ],
   "source": [
    "horse_data.pain.value_counts()"
   ]
  },
  {
   "cell_type": "code",
   "execution_count": 63,
   "id": "d73b7f77-1bdb-4673-8e37-e45055d837f4",
   "metadata": {},
   "outputs": [
    {
     "data": {
      "text/plain": [
       "outcome  pain\n",
       "1        1       35\n",
       "         2       33\n",
       "         3       54\n",
       "         4       10\n",
       "         5       12\n",
       "2        1        2\n",
       "         2       14\n",
       "         3        8\n",
       "         4       17\n",
       "         5       23\n",
       "3        1        1\n",
       "         2       12\n",
       "         3        5\n",
       "         4       11\n",
       "         5        6\n",
       "Name: pain, dtype: int64"
      ]
     },
     "execution_count": 63,
     "metadata": {},
     "output_type": "execute_result"
    }
   ],
   "source": [
    "horse_data.groupby(['outcome', 'pain'])['pain'].count()"
   ]
  },
  {
   "cell_type": "code",
   "execution_count": 65,
   "id": "e54165fc-4b5c-47d0-af7b-5cd49c06c7b3",
   "metadata": {},
   "outputs": [
    {
     "data": {
      "text/plain": [
       "Age  pain\n",
       "1    1       37\n",
       "     2       54\n",
       "     3       62\n",
       "     4       35\n",
       "     5       38\n",
       "2    1        1\n",
       "     2        5\n",
       "     3        5\n",
       "     4        3\n",
       "     5        3\n",
       "Name: pain, dtype: int64"
      ]
     },
     "execution_count": 65,
     "metadata": {},
     "output_type": "execute_result"
    }
   ],
   "source": [
    "horse_data.groupby(['Age', 'pain'])['pain'].count()"
   ]
  },
  {
   "cell_type": "markdown",
   "id": "b6893670-67bd-4ad8-a909-5aaaf502ac8c",
   "metadata": {},
   "source": [
    "**Вывод:** В столюце pain логичнее заменить пропущенные значения наиболее часто встречающимся значением"
   ]
  },
  {
   "cell_type": "code",
   "execution_count": 68,
   "id": "7494c7f0-04d7-4f82-ac7d-9a97509ce877",
   "metadata": {},
   "outputs": [],
   "source": [
    "# заменим пустые значения столбца модой\n",
    "horse_data.pain = horse_data.pain.fillna(horse_data.pain.mode()[0])"
   ]
  },
  {
   "cell_type": "markdown",
   "id": "2dfed28b-9acc-40cd-a3cd-434cea767e60",
   "metadata": {},
   "source": [
    "#### Итоговый датафрейм не содержит пропущенных значений"
   ]
  },
  {
   "cell_type": "code",
   "execution_count": 70,
   "id": "8589dc83-5f47-4ae6-8632-b77659b3e435",
   "metadata": {},
   "outputs": [
    {
     "name": "stdout",
     "output_type": "stream",
     "text": [
      "<class 'pandas.core.frame.DataFrame'>\n",
      "Int64Index: 298 entries, 0 to 298\n",
      "Data columns (total 8 columns):\n",
      " #   Column                      Non-Null Count  Dtype  \n",
      "---  ------                      --------------  -----  \n",
      " 0   surgery?                    298 non-null    object \n",
      " 1   Age                         298 non-null    int64  \n",
      " 2   rectal temperature          298 non-null    float64\n",
      " 3   pulse                       298 non-null    Int64  \n",
      " 4   respiratory rate            298 non-null    Int64  \n",
      " 5   temperature of extremities  298 non-null    object \n",
      " 6   pain                        298 non-null    object \n",
      " 7   outcome                     298 non-null    object \n",
      "dtypes: Int64(2), float64(1), int64(1), object(4)\n",
      "memory usage: 21.5+ KB\n"
     ]
    }
   ],
   "source": [
    "horse_data.info()"
   ]
  },
  {
   "cell_type": "code",
   "execution_count": null,
   "id": "0e86f6c8-ddd8-4177-9b2f-632c22fd63ba",
   "metadata": {},
   "outputs": [],
   "source": []
  }
 ],
 "metadata": {
  "kernelspec": {
   "display_name": "Python 3 (ipykernel)",
   "language": "python",
   "name": "python3"
  },
  "language_info": {
   "codemirror_mode": {
    "name": "ipython",
    "version": 3
   },
   "file_extension": ".py",
   "mimetype": "text/x-python",
   "name": "python",
   "nbconvert_exporter": "python",
   "pygments_lexer": "ipython3",
   "version": "3.11.5"
  }
 },
 "nbformat": 4,
 "nbformat_minor": 5
}
